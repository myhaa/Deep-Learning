{
 "cells": [
  {
   "cell_type": "markdown",
   "id": "36cfee00-d63b-42a1-9f83-43156486b591",
   "metadata": {},
   "source": [
    "# 特征工程\n",
    "\n",
    "## 导入模块"
   ]
  },
  {
   "cell_type": "code",
   "execution_count": 27,
   "id": "dc2f5214-68c9-46b6-8842-ba6d2dd00702",
   "metadata": {},
   "outputs": [
    {
     "name": "stdout",
     "output_type": "stream",
     "text": [
      "colors: ['#1f77b4', '#ff7f0e', '#2ca02c', '#d62728', '#9467bd', '#8c564b', '#e377c2', '#7f7f7f', '#bcbd22', '#17becf']\n"
     ]
    }
   ],
   "source": [
    "import tensorflow as tf\n",
    "from tensorflow import keras\n",
    "\n",
    "import os\n",
    "import datetime\n",
    "import tempfile\n",
    "\n",
    "import matplotlib as mpl\n",
    "import matplotlib.pyplot as plt\n",
    "import numpy as np\n",
    "import pandas as pd\n",
    "import seaborn as sns\n",
    "\n",
    "import sklearn\n",
    "from sklearn.linear_model import LogisticRegression\n",
    "from sklearn.metrics import confusion_matrix\n",
    "from sklearn.model_selection import train_test_split\n",
    "from sklearn.preprocessing import StandardScaler, OneHotEncoder\n",
    "\n",
    "mpl.rcParams['figure.figsize'] = (12, 10)\n",
    "colors = plt.rcParams['axes.prop_cycle'].by_key()['color']\n",
    "print('colors:', colors)"
   ]
  },
  {
   "cell_type": "markdown",
   "id": "78e81b6e-58c5-4581-aac0-25a5e1429c27",
   "metadata": {},
   "source": [
    "## 导入数据"
   ]
  },
  {
   "cell_type": "code",
   "execution_count": 2,
   "id": "21965745-0b22-4028-9486-ad84e90c1ed4",
   "metadata": {},
   "outputs": [],
   "source": [
    "def func_load_dataframe(input_path, sep=None):\n",
    "    \"\"\"\n",
    "    导入数据，支持自定义\n",
    "    :param input_path: 输入文件路径\n",
    "    :param sep: 分隔符\n",
    "    :return df\n",
    "    \"\"\"\n",
    "    if sep is None:\n",
    "        sep = '\\t'\n",
    "    df = pd.read_csv(input_path, sep=sep)\n",
    "    return df"
   ]
  },
  {
   "cell_type": "markdown",
   "id": "1af9d679-e3a5-4ce8-86f3-66374264298e",
   "metadata": {},
   "source": [
    "## 数据探索"
   ]
  },
  {
   "cell_type": "code",
   "execution_count": 3,
   "id": "bc346354-ac3f-4f0b-9765-30f0a1873556",
   "metadata": {},
   "outputs": [],
   "source": [
    "def func_data_eda(df, target):\n",
    "    \"\"\"\n",
    "    数据简单探索\n",
    "    :param df: dataframe\n",
    "    :param target: target\n",
    "    :return\n",
    "    \"\"\"\n",
    "    print('df.head(): \\n', df.head())\n",
    "    print('-'*52)\n",
    "    print('df.info(): \\n', df.info(show_counts=True))\n",
    "    print('-'*52)\n",
    "    print('df.describe(): \\n', df.describe(include='all').T)\n",
    "    print('-'*52)\n",
    "    print('df.groupby: \\n', df.groupby(target, as_index=False)[target].count())"
   ]
  },
  {
   "cell_type": "markdown",
   "id": "fb702a6a-8218-4a0c-885e-0f91bbd91aa5",
   "metadata": {},
   "source": [
    "## 数据处理"
   ]
  },
  {
   "cell_type": "code",
   "execution_count": 4,
   "id": "fb8e2e0b-8ac5-4176-a802-0a2568746ce3",
   "metadata": {},
   "outputs": [],
   "source": [
    "def func_data_processing_simple(df, useless_features=None, fillna_features=None, log_transform_features=None):\n",
    "    \"\"\"\n",
    "    简单数据处理\n",
    "    :param df: dataframe\n",
    "    :param useless_features: 无用特征 list\n",
    "    :param fillna_features: 缺失值填补 list\n",
    "    :param log_transform_features: log变换 list\n",
    "    :return df_copy: new dataframe\n",
    "    \"\"\"\n",
    "    df_copy = df.copy()\n",
    "    \n",
    "    if useless_features is not None:\n",
    "        # 丢掉无用特征\n",
    "        df_copy.drop(useless_features, axis=1, inplace=True)\n",
    "    if fillna_features is not None:\n",
    "        # 填充缺失值\n",
    "        fill_dict = {key: df_copy[key].mean() for key in fillna_features}\n",
    "        df_copy.fillna(fill_dict, inplace=True)\n",
    "    if log_transform_features is not None:\n",
    "        # log变换\n",
    "        for feature in log_transform_features:\n",
    "            df_copy[feature+'_log'] = np.log(df_copy.pop(feature) + 0.001)\n",
    "    return df_copy"
   ]
  },
  {
   "cell_type": "markdown",
   "id": "bf15ee42-6cc2-44d9-a5a9-1390fa7d9b6c",
   "metadata": {},
   "source": [
    "## 计算class weight"
   ]
  },
  {
   "cell_type": "code",
   "execution_count": 5,
   "id": "f9c0b8d0-1806-4680-8287-c21c4b25d019",
   "metadata": {},
   "outputs": [],
   "source": [
    "def func_calc_class_weight(df, target):\n",
    "    \"\"\"\n",
    "    计算class weight\n",
    "    :param df\n",
    "    :param target\n",
    "    :return  pos, neg, class_weight\n",
    "    \"\"\"\n",
    "    neg, pos = np.bincount(df[target])\n",
    "    total = neg + pos\n",
    "    print('Examples:\\n    Total: {}\\n    Positive: {} ({:.2f}% of total)\\n'.format(total, pos, 100 * pos / total))\n",
    "    \n",
    "    weight_for_0 = (1 / neg) * (total / 2.0)  # total / (2*neg)\n",
    "    weight_for_1 = (1 / pos) * (total / 2.0)  # total / (2*pos)\n",
    "\n",
    "    class_weight = {\n",
    "        0: weight_for_0,\n",
    "        1: weight_for_1\n",
    "    }\n",
    "    return pos, neg, class_weight"
   ]
  },
  {
   "cell_type": "markdown",
   "id": "d0e26593-80f2-4b55-af57-b711e9abdefc",
   "metadata": {},
   "source": [
    "## 划分训练集、验证集、测试集"
   ]
  },
  {
   "cell_type": "code",
   "execution_count": 6,
   "id": "6818b96b-bd8b-4af8-b6f1-7db01580db42",
   "metadata": {},
   "outputs": [],
   "source": [
    "def func_train_test_split(df, target, test_ratio=0.2):\n",
    "    \"\"\"\n",
    "    划分训练、验证、测试集\n",
    "    :param df: dataframe\n",
    "    :param df: target variable\n",
    "    :param test_ratio: ratio\n",
    "    :return train, val, test: dataframe\n",
    "    \"\"\"\n",
    "    train, test = train_test_split(df, test_size=test_ratio, stratify=df[target], random_state=2030)\n",
    "    train, val = train_test_split(train, test_size=test_ratio, stratify=train[target], random_state=2030)\n",
    "    \n",
    "    train.reset_index(drop=True, inplace=True)\n",
    "    val.reset_index(drop=True, inplace=True)\n",
    "    test.reset_index(drop=True, inplace=True)\n",
    "    \n",
    "    print(len(train), 'train examples')\n",
    "    print(len(val), 'validation examples')\n",
    "    print(len(test), 'test examples')\n",
    "    return train, val, test"
   ]
  },
  {
   "cell_type": "markdown",
   "id": "e79bb2bc-779e-452e-9ecc-6a2a6fb4690e",
   "metadata": {},
   "source": [
    "## 数据标准化、onehot"
   ]
  },
  {
   "cell_type": "code",
   "execution_count": 7,
   "id": "cf358a26-e132-43af-907e-e4ac048bfe71",
   "metadata": {},
   "outputs": [],
   "source": [
    "def func_data_processing_complex(train, val, test, num_features, category_features):\n",
    "    \"\"\"\n",
    "    复杂数据处理\n",
    "    :param train: dataframe\n",
    "    :param val: dataframe\n",
    "    :param test: dataframe\n",
    "    :param num_features: 数值型特征\n",
    "    :param category_featrues: 类别型特征\n",
    "    :return train, val, test: dataframe\n",
    "    \"\"\"\n",
    "    if len(num_features) > 0:\n",
    "        train[num_features] = (train[num_features] - train[num_features].mean()) / (train[num_features].std() + 1e-7)\n",
    "        val[num_features] = (val[num_features] - train[num_features].mean()) / (train[num_features].std() + 1e-7)\n",
    "        test[num_features] = (test[num_features] - train[num_features].mean()) / (train[num_features].std() + 1e-7)\n",
    "    if len(category_features) > 0:\n",
    "        onehot = OneHotEncoder(handle_unknown='ignore')\n",
    "        onehot.fit(train[category_features].values)\n",
    "        features_onehot = onehot.get_feature_names(category_features)\n",
    "        train_onehot = pd.DataFrame(onehot.transform(train[category_features].values).toarray(), columns=features_onehot)\n",
    "        val_onehot = pd.DataFrame(onehot.transform(val[category_features].values).toarray(), columns=features_onehot)\n",
    "        test_onehot = pd.DataFrame(onehot.transform(test[category_features].values).toarray(), columns=features_onehot)\n",
    "        train = pd.concat([train.drop(category_features, axis=1), train_onehot], axis=1)\n",
    "        val = pd.concat([val.drop(category_features, axis=1), val_onehot], axis=1)\n",
    "        test = pd.concat([test.drop(category_features, axis=1), test_onehot], axis=1)\n",
    "    return train, val, test"
   ]
  },
  {
   "cell_type": "markdown",
   "id": "5c832405-bc85-466c-8ad6-32f095ca1e9a",
   "metadata": {},
   "source": [
    "## 切分target和features"
   ]
  },
  {
   "cell_type": "code",
   "execution_count": 8,
   "id": "f9bb35e3-2323-4b26-be0b-c2e2b79ada3b",
   "metadata": {},
   "outputs": [],
   "source": [
    "def func_split_features_target(train, val, test, target, is_array=False):\n",
    "    \"\"\"\n",
    "    切分target和features\n",
    "    :param train:\n",
    "    :param val:\n",
    "    :param test:\n",
    "    :param target:\n",
    "    :param is_array: 是否转换成array\n",
    "    :return train_features, train_labels, val_features, val_labels, test_features, test_labels\n",
    "    \"\"\"\n",
    "    # Form np arrays of labels and features.\n",
    "    train_labels = train.pop(target)\n",
    "    val_labels = val.pop(target)\n",
    "    test_labels = test.pop(target)\n",
    "    \n",
    "    train_features = train\n",
    "    val_features = val\n",
    "    test_features = test\n",
    "    \n",
    "    if is_array:\n",
    "        train_features, val_features, test_features = np.array(train_features), np.array(val_features), np.array(test_features)\n",
    "        train_labels, val_labels, test_labels = np.array(train_labels), np.array(val_labels), np.array(test_labels)\n",
    "    return train_features, train_labels, val_features, val_labels, test_features, test_labels"
   ]
  },
  {
   "cell_type": "markdown",
   "id": "d59bed4c-18a9-473a-9605-20c34a8517e6",
   "metadata": {},
   "source": [
    "## plot 混淆矩阵"
   ]
  },
  {
   "cell_type": "code",
   "execution_count": 34,
   "id": "3295dc33-5914-4b75-8154-8baa4c91dc17",
   "metadata": {},
   "outputs": [],
   "source": [
    "def func_plot_cm(labels, predictions, p=0.5):\n",
    "    cm = confusion_matrix(labels, predictions > p)\n",
    "    plt.figure(figsize=(5,5))\n",
    "    sns.heatmap(cm, annot=True, fmt=\"d\")\n",
    "    plt.title('Confusion matrix @{:.2f}'.format(p))\n",
    "    plt.ylabel('Actual label')\n",
    "    plt.xlabel('Predicted label')\n",
    "    plt.show()\n",
    "\n",
    "    print('Legitimate Transactions Detected (True Negatives): ', cm[0][0])\n",
    "    print('Legitimate Transactions Incorrectly Detected (False Positives): ', cm[0][1])\n",
    "    print('Fraudulent Transactions Missed (False Negatives): ', cm[1][0])\n",
    "    print('Fraudulent Transactions Detected (True Positives): ', cm[1][1])\n",
    "    print('Total Fraudulent Transactions: ', np.sum(cm[1]))"
   ]
  },
  {
   "cell_type": "markdown",
   "id": "4a3a53e5-c450-44cb-b907-b7b4efa4d30d",
   "metadata": {},
   "source": [
    "## plot roc"
   ]
  },
  {
   "cell_type": "code",
   "execution_count": 35,
   "id": "fc9ca6cd-7386-4879-8eb1-3f6d1f50b4ec",
   "metadata": {},
   "outputs": [],
   "source": [
    "def func_plot_roc(name, labels, predictions, **kwargs):\n",
    "    fp, tp, _ = sklearn.metrics.roc_curve(labels, predictions)\n",
    "\n",
    "    plt.plot(100*fp, 100*tp, label=name, linewidth=2, **kwargs)\n",
    "    plt.xlabel('False positives [%]')\n",
    "    plt.ylabel('True positives [%]')\n",
    "#     plt.xlim([-0.5,20])\n",
    "#     plt.ylim([80,100.5])\n",
    "    plt.grid(True)\n",
    "    ax = plt.gca()\n",
    "    ax.set_aspect('equal')\n",
    "    plt.show()"
   ]
  },
  {
   "cell_type": "markdown",
   "id": "64651f52-3711-4084-8174-3bf49abe0f0e",
   "metadata": {},
   "source": [
    "## plot pr curve"
   ]
  },
  {
   "cell_type": "code",
   "execution_count": 36,
   "id": "839f856c-7001-4600-b56a-2cbcd35302f9",
   "metadata": {},
   "outputs": [],
   "source": [
    "def func_plot_prc(name, labels, predictions, **kwargs):\n",
    "    precision, recall, _ = sklearn.metrics.precision_recall_curve(labels, predictions)\n",
    "\n",
    "    plt.plot(precision, recall, label=name, linewidth=2, **kwargs)\n",
    "    plt.xlabel('Recall')\n",
    "    plt.ylabel('Precision')\n",
    "    plt.grid(True)\n",
    "    ax = plt.gca()\n",
    "    ax.set_aspect('equal')\n",
    "    plt.show()"
   ]
  },
  {
   "cell_type": "markdown",
   "id": "e6f1ac4e-ff7c-426f-8638-5731b9fcbd14",
   "metadata": {},
   "source": [
    "# LR模型=基于sklearn"
   ]
  },
  {
   "cell_type": "markdown",
   "id": "73fd0597-cfac-4453-b696-84739b4d1767",
   "metadata": {},
   "source": [
    "### 模型训练"
   ]
  },
  {
   "cell_type": "code",
   "execution_count": 37,
   "id": "0a08a2b1-692f-4a6b-b627-bca29a39536c",
   "metadata": {},
   "outputs": [],
   "source": [
    "def func_train_model_sklearn(X, y):\n",
    "    \"\"\"\n",
    "    模型训练\n",
    "    :param X: input features\n",
    "    :param y: input labels\n",
    "    :return clf: model\n",
    "    \"\"\"\n",
    "    clf = LogisticRegression(class_weight='balanced')\n",
    "    clf.fit(X, y)\n",
    "    \n",
    "    return clf"
   ]
  },
  {
   "cell_type": "markdown",
   "id": "db2849a6-1d48-43a2-b92a-ed6a5ec60dab",
   "metadata": {},
   "source": [
    "### main函数"
   ]
  },
  {
   "cell_type": "code",
   "execution_count": 38,
   "id": "f6c2c5b0-c5d0-4abf-bd6f-5b3ccadf8b81",
   "metadata": {},
   "outputs": [],
   "source": [
    "def main_sklearn():\n",
    "    print('-'*52)\n",
    "    print('setting path...')\n",
    "    # 基础设置\n",
    "    input_path = './lr/creditcard.csv'\n",
    "    target = 'Class'\n",
    "    useless_features=['Time']  # 不需要的字段\n",
    "    fillna_features=['Amount']  # na字段\n",
    "    log_transform_features=['Amount']  # log变换字段\n",
    "    num_features=['Amount_log']  # 数值型字段\n",
    "    category_features=[]  # 类别字段\n",
    "    \n",
    "    print('-'*52)\n",
    "    print('loading data...')\n",
    "    # 导入数据\n",
    "    df = func_load_dataframe(input_path, sep=',')\n",
    "    \n",
    "    print('-'*52)\n",
    "    print('data eda...')\n",
    "    # 数据探索\n",
    "    func_data_eda(df, target)\n",
    "#     pos, neg, class_weight = func_calc_class_weight(df, target)\n",
    "    \n",
    "    print('-'*52)\n",
    "    print('data processing simple...')\n",
    "    # 简单数据处理\n",
    "    df_copy = func_data_processing_simple(df, useless_features, fillna_features, log_transform_features)\n",
    "    \n",
    "    print('-'*52)\n",
    "    print('train val test split...')\n",
    "    # 划分训练集、验证集、测试集\n",
    "    train, val, test = func_train_test_split(df_copy, target)\n",
    "    \n",
    "    print('-'*52)\n",
    "    print('data processing complex...')\n",
    "    # 复杂数据处理\n",
    "    train, val, test = func_data_processing_complex(train, val, test, num_features, category_features)\n",
    "    \n",
    "    print('-'*52)\n",
    "    print('split target features...')\n",
    "    # 切分target和features\n",
    "    train_features, train_labels, val_features, val_labels, test_features, test_labels = func_split_features_target(train, val, test, target)\n",
    "    \n",
    "    print('-'*52)\n",
    "    print('model train with sklearn...')\n",
    "    # 模型训练\n",
    "    clf = func_train_model_sklearn(train_features, train_labels)\n",
    "    \n",
    "    print('-'*52)\n",
    "    print('predict...')\n",
    "    # 预测\n",
    "    train_predictions = clf.predict_proba(train_features)[:, 1]\n",
    "    test_predictions = clf.predict_proba(test_features)[:, 1]\n",
    "    \n",
    "    print('-'*52)\n",
    "    print('plot confuse matrix...')\n",
    "    # 画混淆矩阵\n",
    "    func_plot_cm(test_labels, test_predictions)\n",
    "    \n",
    "    print('-'*52)\n",
    "    print('plot roc curve...')\n",
    "    # 画roc\n",
    "    func_plot_roc('test', test_labels, test_predictions, color='blue')\n",
    "    \n",
    "    print('-'*52)\n",
    "    print('plot pr curve...')\n",
    "    # 画pr\n",
    "    func_plot_prc('test', test_labels, test_predictions, color='blue')\n",
    "    \n",
    "    print('-'*52)\n",
    "    print('done...')\n",
    "    return"
   ]
  },
  {
   "cell_type": "code",
   "execution_count": 39,
   "id": "96ca4c54-b333-4062-b3d5-eec1c951819b",
   "metadata": {},
   "outputs": [
    {
     "name": "stdout",
     "output_type": "stream",
     "text": [
      "----------------------------------------------------\n",
      "setting path...\n",
      "----------------------------------------------------\n",
      "loading data...\n",
      "----------------------------------------------------\n",
      "data eda...\n",
      "df.head(): \n",
      "    Time        V1        V2        V3        V4        V5        V6        V7  \\\n",
      "0   0.0 -1.359807 -0.072781  2.536347  1.378155 -0.338321  0.462388  0.239599   \n",
      "1   0.0  1.191857  0.266151  0.166480  0.448154  0.060018 -0.082361 -0.078803   \n",
      "2   1.0 -1.358354 -1.340163  1.773209  0.379780 -0.503198  1.800499  0.791461   \n",
      "3   1.0 -0.966272 -0.185226  1.792993 -0.863291 -0.010309  1.247203  0.237609   \n",
      "4   2.0 -1.158233  0.877737  1.548718  0.403034 -0.407193  0.095921  0.592941   \n",
      "\n",
      "         V8        V9  ...       V21       V22       V23       V24       V25  \\\n",
      "0  0.098698  0.363787  ... -0.018307  0.277838 -0.110474  0.066928  0.128539   \n",
      "1  0.085102 -0.255425  ... -0.225775 -0.638672  0.101288 -0.339846  0.167170   \n",
      "2  0.247676 -1.514654  ...  0.247998  0.771679  0.909412 -0.689281 -0.327642   \n",
      "3  0.377436 -1.387024  ... -0.108300  0.005274 -0.190321 -1.175575  0.647376   \n",
      "4 -0.270533  0.817739  ... -0.009431  0.798278 -0.137458  0.141267 -0.206010   \n",
      "\n",
      "        V26       V27       V28  Amount  Class  \n",
      "0 -0.189115  0.133558 -0.021053  149.62      0  \n",
      "1  0.125895 -0.008983  0.014724    2.69      0  \n",
      "2 -0.139097 -0.055353 -0.059752  378.66      0  \n",
      "3 -0.221929  0.062723  0.061458  123.50      0  \n",
      "4  0.502292  0.219422  0.215153   69.99      0  \n",
      "\n",
      "[5 rows x 31 columns]\n",
      "----------------------------------------------------\n",
      "<class 'pandas.core.frame.DataFrame'>\n",
      "RangeIndex: 284807 entries, 0 to 284806\n",
      "Data columns (total 31 columns):\n",
      " #   Column  Non-Null Count   Dtype  \n",
      "---  ------  --------------   -----  \n",
      " 0   Time    284807 non-null  float64\n",
      " 1   V1      284807 non-null  float64\n",
      " 2   V2      284807 non-null  float64\n",
      " 3   V3      284807 non-null  float64\n",
      " 4   V4      284807 non-null  float64\n",
      " 5   V5      284807 non-null  float64\n",
      " 6   V6      284807 non-null  float64\n",
      " 7   V7      284807 non-null  float64\n",
      " 8   V8      284807 non-null  float64\n",
      " 9   V9      284807 non-null  float64\n",
      " 10  V10     284807 non-null  float64\n",
      " 11  V11     284807 non-null  float64\n",
      " 12  V12     284807 non-null  float64\n",
      " 13  V13     284807 non-null  float64\n",
      " 14  V14     284807 non-null  float64\n",
      " 15  V15     284807 non-null  float64\n",
      " 16  V16     284807 non-null  float64\n",
      " 17  V17     284807 non-null  float64\n",
      " 18  V18     284807 non-null  float64\n",
      " 19  V19     284807 non-null  float64\n",
      " 20  V20     284807 non-null  float64\n",
      " 21  V21     284807 non-null  float64\n",
      " 22  V22     284807 non-null  float64\n",
      " 23  V23     284807 non-null  float64\n",
      " 24  V24     284807 non-null  float64\n",
      " 25  V25     284807 non-null  float64\n",
      " 26  V26     284807 non-null  float64\n",
      " 27  V27     284807 non-null  float64\n",
      " 28  V28     284807 non-null  float64\n",
      " 29  Amount  284807 non-null  float64\n",
      " 30  Class   284807 non-null  int64  \n",
      "dtypes: float64(30), int64(1)\n",
      "memory usage: 67.4 MB\n",
      "df.info(): \n",
      " None\n",
      "----------------------------------------------------\n",
      "df.describe(): \n",
      "            count          mean           std         min           25%  \\\n",
      "Time    284807.0  9.481386e+04  47488.145955    0.000000  54201.500000   \n",
      "V1      284807.0  1.168375e-15      1.958696  -56.407510     -0.920373   \n",
      "V2      284807.0  3.416908e-16      1.651309  -72.715728     -0.598550   \n",
      "V3      284807.0 -1.379537e-15      1.516255  -48.325589     -0.890365   \n",
      "V4      284807.0  2.074095e-15      1.415869   -5.683171     -0.848640   \n",
      "V5      284807.0  9.604066e-16      1.380247 -113.743307     -0.691597   \n",
      "V6      284807.0  1.487313e-15      1.332271  -26.160506     -0.768296   \n",
      "V7      284807.0 -5.556467e-16      1.237094  -43.557242     -0.554076   \n",
      "V8      284807.0  1.213481e-16      1.194353  -73.216718     -0.208630   \n",
      "V9      284807.0 -2.406331e-15      1.098632  -13.434066     -0.643098   \n",
      "V10     284807.0  2.239053e-15      1.088850  -24.588262     -0.535426   \n",
      "V11     284807.0  1.673327e-15      1.020713   -4.797473     -0.762494   \n",
      "V12     284807.0 -1.247012e-15      0.999201  -18.683715     -0.405571   \n",
      "V13     284807.0  8.190001e-16      0.995274   -5.791881     -0.648539   \n",
      "V14     284807.0  1.207294e-15      0.958596  -19.214325     -0.425574   \n",
      "V15     284807.0  4.887456e-15      0.915316   -4.498945     -0.582884   \n",
      "V16     284807.0  1.437716e-15      0.876253  -14.129855     -0.468037   \n",
      "V17     284807.0 -3.772171e-16      0.849337  -25.162799     -0.483748   \n",
      "V18     284807.0  9.564149e-16      0.838176   -9.498746     -0.498850   \n",
      "V19     284807.0  1.039917e-15      0.814041   -7.213527     -0.456299   \n",
      "V20     284807.0  6.406204e-16      0.770925  -54.497720     -0.211721   \n",
      "V21     284807.0  1.654067e-16      0.734524  -34.830382     -0.228395   \n",
      "V22     284807.0 -3.568593e-16      0.725702  -10.933144     -0.542350   \n",
      "V23     284807.0  2.578648e-16      0.624460  -44.807735     -0.161846   \n",
      "V24     284807.0  4.473266e-15      0.605647   -2.836627     -0.354586   \n",
      "V25     284807.0  5.340915e-16      0.521278  -10.295397     -0.317145   \n",
      "V26     284807.0  1.683437e-15      0.482227   -2.604551     -0.326984   \n",
      "V27     284807.0 -3.660091e-16      0.403632  -22.565679     -0.070840   \n",
      "V28     284807.0 -1.227390e-16      0.330083  -15.430084     -0.052960   \n",
      "Amount  284807.0  8.834962e+01    250.120109    0.000000      5.600000   \n",
      "Class   284807.0  1.727486e-03      0.041527    0.000000      0.000000   \n",
      "\n",
      "                 50%            75%            max  \n",
      "Time    84692.000000  139320.500000  172792.000000  \n",
      "V1          0.018109       1.315642       2.454930  \n",
      "V2          0.065486       0.803724      22.057729  \n",
      "V3          0.179846       1.027196       9.382558  \n",
      "V4         -0.019847       0.743341      16.875344  \n",
      "V5         -0.054336       0.611926      34.801666  \n",
      "V6         -0.274187       0.398565      73.301626  \n",
      "V7          0.040103       0.570436     120.589494  \n",
      "V8          0.022358       0.327346      20.007208  \n",
      "V9         -0.051429       0.597139      15.594995  \n",
      "V10        -0.092917       0.453923      23.745136  \n",
      "V11        -0.032757       0.739593      12.018913  \n",
      "V12         0.140033       0.618238       7.848392  \n",
      "V13        -0.013568       0.662505       7.126883  \n",
      "V14         0.050601       0.493150      10.526766  \n",
      "V15         0.048072       0.648821       8.877742  \n",
      "V16         0.066413       0.523296      17.315112  \n",
      "V17        -0.065676       0.399675       9.253526  \n",
      "V18        -0.003636       0.500807       5.041069  \n",
      "V19         0.003735       0.458949       5.591971  \n",
      "V20        -0.062481       0.133041      39.420904  \n",
      "V21        -0.029450       0.186377      27.202839  \n",
      "V22         0.006782       0.528554      10.503090  \n",
      "V23        -0.011193       0.147642      22.528412  \n",
      "V24         0.040976       0.439527       4.584549  \n",
      "V25         0.016594       0.350716       7.519589  \n",
      "V26        -0.052139       0.240952       3.517346  \n",
      "V27         0.001342       0.091045      31.612198  \n",
      "V28         0.011244       0.078280      33.847808  \n",
      "Amount     22.000000      77.165000   25691.160000  \n",
      "Class       0.000000       0.000000       1.000000  \n",
      "----------------------------------------------------\n",
      "df.groupby: \n",
      "     Class\n",
      "0  284315\n",
      "1     492\n",
      "----------------------------------------------------\n",
      "data processing simple...\n",
      "----------------------------------------------------\n",
      "train val test split...\n",
      "182276 train examples\n",
      "45569 validation examples\n",
      "56962 test examples\n",
      "----------------------------------------------------\n",
      "data processing complex...\n",
      "----------------------------------------------------\n",
      "split target features...\n",
      "----------------------------------------------------\n",
      "model train with sklearn...\n"
     ]
    },
    {
     "name": "stderr",
     "output_type": "stream",
     "text": [
      "/home/meiyunhe/softwares/miniconda3/envs/tensorflow/lib/python3.9/site-packages/pandas/core/frame.py:3641: SettingWithCopyWarning: \n",
      "A value is trying to be set on a copy of a slice from a DataFrame.\n",
      "Try using .loc[row_indexer,col_indexer] = value instead\n",
      "\n",
      "See the caveats in the documentation: https://pandas.pydata.org/pandas-docs/stable/user_guide/indexing.html#returning-a-view-versus-a-copy\n",
      "  self[k1] = value[k2]\n"
     ]
    },
    {
     "name": "stdout",
     "output_type": "stream",
     "text": [
      "----------------------------------------------------\n",
      "predict...\n",
      "----------------------------------------------------\n",
      "plot confuse matrix...\n"
     ]
    },
    {
     "data": {
      "image/png": "[encoded data removed]",
      "text/plain": [
       "<Figure size 360x360 with 2 Axes>"
      ]
     },
     "metadata": {
      "needs_background": "light"
     },
     "output_type": "display_data"
    },
    {
     "name": "stdout",
     "output_type": "stream",
     "text": [
      "Legitimate Transactions Detected (True Negatives):  55867\n",
      "Legitimate Transactions Incorrectly Detected (False Positives):  997\n",
      "Fraudulent Transactions Missed (False Negatives):  6\n",
      "Fraudulent Transactions Detected (True Positives):  92\n",
      "Total Fraudulent Transactions:  98\n",
      "----------------------------------------------------\n",
      "plot roc curve...\n"
     ]
    },
    {
     "data": {
      "image/png": "[encoded data removed]",
      "text/plain": [
       "<Figure size 864x720 with 1 Axes>"
      ]
     },
     "metadata": {
      "needs_background": "light"
     },
     "output_type": "display_data"
    },
    {
     "name": "stdout",
     "output_type": "stream",
     "text": [
      "----------------------------------------------------\n",
      "plot pr curve...\n"
     ]
    },
    {
     "data": {
      "image/png": "[encoded data removed]",
      "text/plain": [
       "<Figure size 864x720 with 1 Axes>"
      ]
     },
     "metadata": {
      "needs_background": "light"
     },
     "output_type": "display_data"
    },
    {
     "name": "stdout",
     "output_type": "stream",
     "text": [
      "----------------------------------------------------\n",
      "done...\n"
     ]
    }
   ],
   "source": [
    "main_sklearn()"
   ]
  },
  {
   "cell_type": "code",
   "execution_count": null,
   "id": "65f52bfd-109b-4141-be13-c2957dd8e379",
   "metadata": {},
   "outputs": [],
   "source": []
  },
  {
   "cell_type": "code",
   "execution_count": null,
   "id": "6a550eab-7afc-49fb-beef-edc2e633a6db",
   "metadata": {},
   "outputs": [],
   "source": []
  },
  {
   "cell_type": "markdown",
   "id": "f303da0a-73de-4a06-bd79-5bc113433112",
   "metadata": {},
   "source": [
    "# LR模型=基于TensorFlow"
   ]
  },
  {
   "cell_type": "markdown",
   "id": "36c79d19-2930-4559-905a-92d2beeabc7c",
   "metadata": {},
   "source": [
    "### 定义模型"
   ]
  },
  {
   "cell_type": "code",
   "execution_count": 9,
   "id": "53849f74-e7a9-45bb-9680-1c5620c1023b",
   "metadata": {},
   "outputs": [],
   "source": [
    "def func_make_model_with_tf(n_x, metrics=None, output_bias=None):\n",
    "    \"\"\"\n",
    "    :param n_x: 输入特征维度\n",
    "    :param metrics:\n",
    "    :param output_bias:\n",
    "    :return model\n",
    "    \"\"\"\n",
    "    if metrics is None:\n",
    "        metrics = [\n",
    "            keras.metrics.TruePositives(name='tp'),\n",
    "            keras.metrics.FalsePositives(name='fp'),\n",
    "            keras.metrics.TrueNegatives(name='tn'),\n",
    "            keras.metrics.FalseNegatives(name='fn'),\n",
    "            keras.metrics.BinaryAccuracy(name='acc'),\n",
    "            keras.metrics.Precision(name='precision'),\n",
    "            keras.metrics.Recall(name='recall'),\n",
    "            keras.metrics.AUC(name='auc'),\n",
    "            keras.metrics.AUC(name='prc', curve='PR'),\n",
    "        ]\n",
    "    if output_bias is not None:\n",
    "        output_bias = tf.keras.initializers.Constant(output_bias)\n",
    "    \n",
    "    model = keras.Sequential([\n",
    "        keras.layers.Dense(1, activation='sigmoid', input_shape=(n_x, ), bias_initializer=output_bias),\n",
    "    ])\n",
    "    \n",
    "    model.compile(optimizer=keras.optimizers.Adam(learning_rate=1e-3),\n",
    "                  loss=keras.losses.BinaryCrossentropy(),\n",
    "                  metrics=metrics)\n",
    "    model.summary()\n",
    "    return model"
   ]
  },
  {
   "cell_type": "markdown",
   "id": "10753182-99bd-4ab6-b212-db510911febb",
   "metadata": {},
   "source": [
    "### 定义config"
   ]
  },
  {
   "cell_type": "code",
   "execution_count": 10,
   "id": "0e3ce466-87c6-45c2-8cef-0e552fb9de26",
   "metadata": {},
   "outputs": [],
   "source": [
    "# 自定义printlog\n",
    "class PrintTrainLog(keras.callbacks.Callback):\n",
    "    def on_epoch_end(self, epoch, logs):\n",
    "        if epoch % 100 == 0: \n",
    "            print('epoch: {}, logs: {}'.format(epoch, logs))\n",
    "#         print('-'*52)"
   ]
  },
  {
   "cell_type": "code",
   "execution_count": 11,
   "id": "41e9ef24-c6e4-4bf5-b579-7d586379bd75",
   "metadata": {},
   "outputs": [],
   "source": [
    "def func_setting_config_tf(df, target):\n",
    "    \"\"\"\n",
    "    setting config\n",
    "    :param df\n",
    "    :param target\n",
    "    :return epochs, batch_size, early_stopping, correct_initial_bias, class_weight, metrics\n",
    "    \"\"\"\n",
    "    epochs = 100\n",
    "    batch_size = 2048\n",
    "    \n",
    "    metrics = [\n",
    "            keras.metrics.TruePositives(name='tp'),\n",
    "            keras.metrics.FalsePositives(name='fp'),\n",
    "            keras.metrics.TrueNegatives(name='tn'),\n",
    "            keras.metrics.FalseNegatives(name='fn'),\n",
    "            keras.metrics.BinaryAccuracy(name='acc'),\n",
    "            keras.metrics.Precision(name='precision'),\n",
    "            keras.metrics.Recall(name='recall'),\n",
    "            keras.metrics.AUC(name='auc'),\n",
    "            keras.metrics.AUC(name='prc', curve='PR'),\n",
    "        ]\n",
    "\n",
    "    early_stopping = tf.keras.callbacks.EarlyStopping(monitor='val_prc',\n",
    "                                                      verbose=1,\n",
    "                                                      patience=10,\n",
    "                                                      mode='max',\n",
    "                                                      restore_best_weights=True)\n",
    "    \n",
    "    pos, neg, class_weight = func_calc_class_weight(df, target)\n",
    "    correct_initial_bias = np.log([pos/neg])\n",
    "    return epochs, batch_size, early_stopping, correct_initial_bias, class_weight, metrics"
   ]
  },
  {
   "cell_type": "markdown",
   "id": "9098d7a3-7f4a-4c4a-be69-9ce7ddee40f8",
   "metadata": {},
   "source": [
    "### plot model history"
   ]
  },
  {
   "cell_type": "code",
   "execution_count": 19,
   "id": "02ae4a2f-1d02-47ab-b4ab-cf6e2d39a2dc",
   "metadata": {},
   "outputs": [],
   "source": [
    "def func_plot_metrics_tf(history):\n",
    "    metrics = ['loss', 'prc', 'precision', 'recall']\n",
    "    for n, metric in enumerate(metrics):\n",
    "        name = metric.replace(\"_\",\" \").capitalize()\n",
    "        plt.subplot(2,2,n+1)\n",
    "        plt.plot(history.epoch, history.history[metric], color='blue', label='Train')\n",
    "        plt.plot(history.epoch, history.history['val_'+metric], color='blue', linestyle=\"--\", label='Val')\n",
    "        plt.xlabel('Epoch')\n",
    "        plt.ylabel(name)\n",
    "        if metric == 'loss':\n",
    "            pass\n",
    "#             plt.ylim([0, plt.ylim()[1]])\n",
    "        elif metric == 'auc':\n",
    "            plt.ylim([0.8,1])\n",
    "        elif metric == 'recall':\n",
    "            plt.ylim([0,1])\n",
    "        else:\n",
    "            plt.ylim([0,1])\n",
    "        plt.legend()\n",
    "    plt.tight_layout()"
   ]
  },
  {
   "cell_type": "markdown",
   "id": "677e6bf3-fcae-45d8-88da-a5d30902a7bb",
   "metadata": {},
   "source": [
    "### main函数"
   ]
  },
  {
   "cell_type": "code",
   "execution_count": 40,
   "id": "e008b1af-700e-495c-a9e7-00fe4e5c6855",
   "metadata": {},
   "outputs": [],
   "source": [
    "def main_tf():\n",
    "    print('-'*52)\n",
    "    print('setting path...')\n",
    "    # 基础设置\n",
    "    input_path = './lr/creditcard.csv'\n",
    "    target = 'Class'\n",
    "    useless_features=['Time']  # 不需要的字段\n",
    "    fillna_features=['Amount']  # na字段\n",
    "    log_transform_features=['Amount']  # log变换字段\n",
    "    num_features=['Amount_log']  # 数值型字段\n",
    "    category_features=[]  # 类别字段\n",
    "    \n",
    "    print('-'*52)\n",
    "    print('loading data...')\n",
    "    # 导入数据\n",
    "    df = func_load_dataframe(input_path, sep=',')\n",
    "    \n",
    "    print('-'*52)\n",
    "    print('data eda...')\n",
    "    # 数据探索\n",
    "    func_data_eda(df, target)\n",
    "    pos, neg, class_weight = func_calc_class_weight(df, target)\n",
    "    \n",
    "    print('-'*52)\n",
    "    print('data processing simple...')\n",
    "    # 简单数据处理\n",
    "    df_copy = func_data_processing_simple(df, useless_features, fillna_features, log_transform_features)\n",
    "    \n",
    "    print('-'*52)\n",
    "    print('train val test split...')\n",
    "    # 划分训练集、验证集、测试集\n",
    "    train, val, test = func_train_test_split(df_copy, target)\n",
    "    \n",
    "    print('-'*52)\n",
    "    print('data processing complex...')\n",
    "    # 复杂数据处理\n",
    "    train, val, test = func_data_processing_complex(train, val, test, num_features, category_features)\n",
    "    \n",
    "    print('-'*52)\n",
    "    print('split target features...')\n",
    "    # 切分target和features\n",
    "    train_features, train_labels, val_features, val_labels, test_features, test_labels = func_split_features_target(train, val, test, target)\n",
    "    \n",
    "    print('-'*52)\n",
    "    print('model config...')\n",
    "    # 定义模型config\n",
    "    epochs, batch_size, early_stopping, correct_initial_bias, class_weight, metrics = func_setting_config_tf(df, target)\n",
    "    \n",
    "    print('-'*52)\n",
    "    print('model define...')\n",
    "    # 模型定义\n",
    "    model = func_make_model_with_tf(n_x=train_features.shape[-1], metrics=metrics, output_bias=correct_initial_bias)\n",
    "    \n",
    "    print('-'*52)\n",
    "    print('model train...')\n",
    "    # 模型训练\n",
    "    model_history = model.fit(train_features, train_labels, \n",
    "                              batch_size=batch_size, epochs=epochs, \n",
    "                              callbacks=[early_stopping, PrintTrainLog()], \n",
    "                              validation_data=(val_features, val_labels),\n",
    "                              # the class weights go here\n",
    "                              class_weight=class_weight, verbose=0)\n",
    "    \n",
    "    print('-'*52)\n",
    "    print('plot model history...')\n",
    "    # 画指标图\n",
    "    func_plot_metrics_tf(model_history)\n",
    "    \n",
    "    print('-'*52)\n",
    "    print('predict...')\n",
    "    # 预测\n",
    "    train_predictions = model.predict(train_features, batch_size)\n",
    "    test_predictions = model.predict(test_features, batch_size)\n",
    "    \n",
    "    print('-'*52)\n",
    "    print('plot confuse matrix...')\n",
    "    # 画混淆矩阵\n",
    "    func_plot_cm(test_labels, test_predictions)\n",
    "    \n",
    "    print('-'*52)\n",
    "    print('plot roc curve...')\n",
    "    # 画roc\n",
    "    func_plot_roc('test', test_labels, test_predictions, color='blue')\n",
    "    \n",
    "    print('-'*52)\n",
    "    print('plot pr curve...')\n",
    "    # 画pr\n",
    "    func_plot_prc('test', test_labels, test_predictions, color='blue')\n",
    "    \n",
    "    print('-'*52)\n",
    "    print('done...')\n",
    "    return"
   ]
  },
  {
   "cell_type": "code",
   "execution_count": 41,
   "id": "94acc20b-885a-450b-8e24-c68e370c6b54",
   "metadata": {},
   "outputs": [
    {
     "name": "stdout",
     "output_type": "stream",
     "text": [
      "----------------------------------------------------\n",
      "setting path...\n",
      "----------------------------------------------------\n",
      "loading data...\n",
      "----------------------------------------------------\n",
      "data eda...\n",
      "df.head(): \n",
      "    Time        V1        V2        V3        V4        V5        V6        V7  \\\n",
      "0   0.0 -1.359807 -0.072781  2.536347  1.378155 -0.338321  0.462388  0.239599   \n",
      "1   0.0  1.191857  0.266151  0.166480  0.448154  0.060018 -0.082361 -0.078803   \n",
      "2   1.0 -1.358354 -1.340163  1.773209  0.379780 -0.503198  1.800499  0.791461   \n",
      "3   1.0 -0.966272 -0.185226  1.792993 -0.863291 -0.010309  1.247203  0.237609   \n",
      "4   2.0 -1.158233  0.877737  1.548718  0.403034 -0.407193  0.095921  0.592941   \n",
      "\n",
      "         V8        V9  ...       V21       V22       V23       V24       V25  \\\n",
      "0  0.098698  0.363787  ... -0.018307  0.277838 -0.110474  0.066928  0.128539   \n",
      "1  0.085102 -0.255425  ... -0.225775 -0.638672  0.101288 -0.339846  0.167170   \n",
      "2  0.247676 -1.514654  ...  0.247998  0.771679  0.909412 -0.689281 -0.327642   \n",
      "3  0.377436 -1.387024  ... -0.108300  0.005274 -0.190321 -1.175575  0.647376   \n",
      "4 -0.270533  0.817739  ... -0.009431  0.798278 -0.137458  0.141267 -0.206010   \n",
      "\n",
      "        V26       V27       V28  Amount  Class  \n",
      "0 -0.189115  0.133558 -0.021053  149.62      0  \n",
      "1  0.125895 -0.008983  0.014724    2.69      0  \n",
      "2 -0.139097 -0.055353 -0.059752  378.66      0  \n",
      "3 -0.221929  0.062723  0.061458  123.50      0  \n",
      "4  0.502292  0.219422  0.215153   69.99      0  \n",
      "\n",
      "[5 rows x 31 columns]\n",
      "----------------------------------------------------\n",
      "<class 'pandas.core.frame.DataFrame'>\n",
      "RangeIndex: 284807 entries, 0 to 284806\n",
      "Data columns (total 31 columns):\n",
      " #   Column  Non-Null Count   Dtype  \n",
      "---  ------  --------------   -----  \n",
      " 0   Time    284807 non-null  float64\n",
      " 1   V1      284807 non-null  float64\n",
      " 2   V2      284807 non-null  float64\n",
      " 3   V3      284807 non-null  float64\n",
      " 4   V4      284807 non-null  float64\n",
      " 5   V5      284807 non-null  float64\n",
      " 6   V6      284807 non-null  float64\n",
      " 7   V7      284807 non-null  float64\n",
      " 8   V8      284807 non-null  float64\n",
      " 9   V9      284807 non-null  float64\n",
      " 10  V10     284807 non-null  float64\n",
      " 11  V11     284807 non-null  float64\n",
      " 12  V12     284807 non-null  float64\n",
      " 13  V13     284807 non-null  float64\n",
      " 14  V14     284807 non-null  float64\n",
      " 15  V15     284807 non-null  float64\n",
      " 16  V16     284807 non-null  float64\n",
      " 17  V17     284807 non-null  float64\n",
      " 18  V18     284807 non-null  float64\n",
      " 19  V19     284807 non-null  float64\n",
      " 20  V20     284807 non-null  float64\n",
      " 21  V21     284807 non-null  float64\n",
      " 22  V22     284807 non-null  float64\n",
      " 23  V23     284807 non-null  float64\n",
      " 24  V24     284807 non-null  float64\n",
      " 25  V25     284807 non-null  float64\n",
      " 26  V26     284807 non-null  float64\n",
      " 27  V27     284807 non-null  float64\n",
      " 28  V28     284807 non-null  float64\n",
      " 29  Amount  284807 non-null  float64\n",
      " 30  Class   284807 non-null  int64  \n",
      "dtypes: float64(30), int64(1)\n",
      "memory usage: 67.4 MB\n",
      "df.info(): \n",
      " None\n",
      "----------------------------------------------------\n",
      "df.describe(): \n",
      "            count          mean           std         min           25%  \\\n",
      "Time    284807.0  9.481386e+04  47488.145955    0.000000  54201.500000   \n",
      "V1      284807.0  1.168375e-15      1.958696  -56.407510     -0.920373   \n",
      "V2      284807.0  3.416908e-16      1.651309  -72.715728     -0.598550   \n",
      "V3      284807.0 -1.379537e-15      1.516255  -48.325589     -0.890365   \n",
      "V4      284807.0  2.074095e-15      1.415869   -5.683171     -0.848640   \n",
      "V5      284807.0  9.604066e-16      1.380247 -113.743307     -0.691597   \n",
      "V6      284807.0  1.487313e-15      1.332271  -26.160506     -0.768296   \n",
      "V7      284807.0 -5.556467e-16      1.237094  -43.557242     -0.554076   \n",
      "V8      284807.0  1.213481e-16      1.194353  -73.216718     -0.208630   \n",
      "V9      284807.0 -2.406331e-15      1.098632  -13.434066     -0.643098   \n",
      "V10     284807.0  2.239053e-15      1.088850  -24.588262     -0.535426   \n",
      "V11     284807.0  1.673327e-15      1.020713   -4.797473     -0.762494   \n",
      "V12     284807.0 -1.247012e-15      0.999201  -18.683715     -0.405571   \n",
      "V13     284807.0  8.190001e-16      0.995274   -5.791881     -0.648539   \n",
      "V14     284807.0  1.207294e-15      0.958596  -19.214325     -0.425574   \n",
      "V15     284807.0  4.887456e-15      0.915316   -4.498945     -0.582884   \n",
      "V16     284807.0  1.437716e-15      0.876253  -14.129855     -0.468037   \n",
      "V17     284807.0 -3.772171e-16      0.849337  -25.162799     -0.483748   \n",
      "V18     284807.0  9.564149e-16      0.838176   -9.498746     -0.498850   \n",
      "V19     284807.0  1.039917e-15      0.814041   -7.213527     -0.456299   \n",
      "V20     284807.0  6.406204e-16      0.770925  -54.497720     -0.211721   \n",
      "V21     284807.0  1.654067e-16      0.734524  -34.830382     -0.228395   \n",
      "V22     284807.0 -3.568593e-16      0.725702  -10.933144     -0.542350   \n",
      "V23     284807.0  2.578648e-16      0.624460  -44.807735     -0.161846   \n",
      "V24     284807.0  4.473266e-15      0.605647   -2.836627     -0.354586   \n",
      "V25     284807.0  5.340915e-16      0.521278  -10.295397     -0.317145   \n",
      "V26     284807.0  1.683437e-15      0.482227   -2.604551     -0.326984   \n",
      "V27     284807.0 -3.660091e-16      0.403632  -22.565679     -0.070840   \n",
      "V28     284807.0 -1.227390e-16      0.330083  -15.430084     -0.052960   \n",
      "Amount  284807.0  8.834962e+01    250.120109    0.000000      5.600000   \n",
      "Class   284807.0  1.727486e-03      0.041527    0.000000      0.000000   \n",
      "\n",
      "                 50%            75%            max  \n",
      "Time    84692.000000  139320.500000  172792.000000  \n",
      "V1          0.018109       1.315642       2.454930  \n",
      "V2          0.065486       0.803724      22.057729  \n",
      "V3          0.179846       1.027196       9.382558  \n",
      "V4         -0.019847       0.743341      16.875344  \n",
      "V5         -0.054336       0.611926      34.801666  \n",
      "V6         -0.274187       0.398565      73.301626  \n",
      "V7          0.040103       0.570436     120.589494  \n",
      "V8          0.022358       0.327346      20.007208  \n",
      "V9         -0.051429       0.597139      15.594995  \n",
      "V10        -0.092917       0.453923      23.745136  \n",
      "V11        -0.032757       0.739593      12.018913  \n",
      "V12         0.140033       0.618238       7.848392  \n",
      "V13        -0.013568       0.662505       7.126883  \n",
      "V14         0.050601       0.493150      10.526766  \n",
      "V15         0.048072       0.648821       8.877742  \n",
      "V16         0.066413       0.523296      17.315112  \n",
      "V17        -0.065676       0.399675       9.253526  \n",
      "V18        -0.003636       0.500807       5.041069  \n",
      "V19         0.003735       0.458949       5.591971  \n",
      "V20        -0.062481       0.133041      39.420904  \n",
      "V21        -0.029450       0.186377      27.202839  \n",
      "V22         0.006782       0.528554      10.503090  \n",
      "V23        -0.011193       0.147642      22.528412  \n",
      "V24         0.040976       0.439527       4.584549  \n",
      "V25         0.016594       0.350716       7.519589  \n",
      "V26        -0.052139       0.240952       3.517346  \n",
      "V27         0.001342       0.091045      31.612198  \n",
      "V28         0.011244       0.078280      33.847808  \n",
      "Amount     22.000000      77.165000   25691.160000  \n",
      "Class       0.000000       0.000000       1.000000  \n",
      "----------------------------------------------------\n",
      "df.groupby: \n",
      "     Class\n",
      "0  284315\n",
      "1     492\n",
      "Examples:\n",
      "    Total: 284807\n",
      "    Positive: 492 (0.17% of total)\n",
      "\n",
      "----------------------------------------------------\n",
      "data processing simple...\n",
      "----------------------------------------------------\n",
      "train val test split...\n",
      "182276 train examples\n",
      "45569 validation examples\n",
      "56962 test examples\n",
      "----------------------------------------------------\n",
      "data processing complex...\n",
      "----------------------------------------------------\n",
      "split target features...\n",
      "----------------------------------------------------\n",
      "model config...\n",
      "Examples:\n",
      "    Total: 284807\n",
      "    Positive: 492 (0.17% of total)\n",
      "\n",
      "----------------------------------------------------\n",
      "model define...\n",
      "Model: \"sequential_1\"\n",
      "_________________________________________________________________\n",
      "Layer (type)                 Output Shape              Param #   \n",
      "=================================================================\n",
      "dense_1 (Dense)              (None, 1)                 30        \n",
      "=================================================================\n",
      "Total params: 30\n",
      "Trainable params: 30\n",
      "Non-trainable params: 0\n",
      "_________________________________________________________________\n",
      "----------------------------------------------------\n",
      "model train...\n"
     ]
    },
    {
     "name": "stderr",
     "output_type": "stream",
     "text": [
      "/home/meiyunhe/softwares/miniconda3/envs/tensorflow/lib/python3.9/site-packages/pandas/core/frame.py:3641: SettingWithCopyWarning: \n",
      "A value is trying to be set on a copy of a slice from a DataFrame.\n",
      "Try using .loc[row_indexer,col_indexer] = value instead\n",
      "\n",
      "See the caveats in the documentation: https://pandas.pydata.org/pandas-docs/stable/user_guide/indexing.html#returning-a-view-versus-a-copy\n",
      "  self[k1] = value[k2]\n"
     ]
    },
    {
     "name": "stdout",
     "output_type": "stream",
     "text": [
      "epoch: 0, logs: {'loss': 6.3127570152282715, 'tp': 1.0, 'fp': 443.0, 'tn': 181518.0, 'fn': 314.0, 'acc': 0.9958469867706299, 'precision': 0.0022522523067891598, 'recall': 0.0031746032182127237, 'auc': 0.43720343708992004, 'prc': 0.00139704963658005, 'val_loss': 0.02690170146524906, 'val_tp': 0.0, 'val_fp': 72.0, 'val_tn': 45418.0, 'val_fn': 79.0, 'val_acc': 0.9966863393783569, 'val_precision': 0.0, 'val_recall': 0.0, 'val_auc': 0.47027918696403503, 'val_prc': 0.00151462119538337}\n",
      "Restoring model weights from the end of the best epoch.\n",
      "Epoch 00051: early stopping\n",
      "----------------------------------------------------\n",
      "plot model history...\n",
      "----------------------------------------------------\n",
      "predict...\n",
      "----------------------------------------------------\n",
      "plot confuse matrix...\n"
     ]
    },
    {
     "data": {
      "image/png": "[encoded data removed]",
      "text/plain": [
       "<Figure size 864x720 with 4 Axes>"
      ]
     },
     "metadata": {
      "needs_background": "light"
     },
     "output_type": "display_data"
    },
    {
     "data": {
      "image/png": "[encoded data removed]",
      "text/plain": [
       "<Figure size 360x360 with 2 Axes>"
      ]
     },
     "metadata": {
      "needs_background": "light"
     },
     "output_type": "display_data"
    },
    {
     "name": "stdout",
     "output_type": "stream",
     "text": [
      "Legitimate Transactions Detected (True Negatives):  56590\n",
      "Legitimate Transactions Incorrectly Detected (False Positives):  274\n",
      "Fraudulent Transactions Missed (False Negatives):  20\n",
      "Fraudulent Transactions Detected (True Positives):  78\n",
      "Total Fraudulent Transactions:  98\n",
      "----------------------------------------------------\n",
      "plot roc curve...\n"
     ]
    },
    {
     "data": {
      "image/png": "[encoded data removed]",
      "text/plain": [
       "<Figure size 864x720 with 1 Axes>"
      ]
     },
     "metadata": {
      "needs_background": "light"
     },
     "output_type": "display_data"
    },
    {
     "name": "stdout",
     "output_type": "stream",
     "text": [
      "----------------------------------------------------\n",
      "plot pr curve...\n"
     ]
    },
    {
     "data": {
      "image/png": "[encoded data removed]",
      "text/plain": [
       "<Figure size 864x720 with 1 Axes>"
      ]
     },
     "metadata": {
      "needs_background": "light"
     },
     "output_type": "display_data"
    },
    {
     "name": "stdout",
     "output_type": "stream",
     "text": [
      "----------------------------------------------------\n",
      "done...\n"
     ]
    }
   ],
   "source": [
    "main_tf()"
   ]
  },
  {
   "cell_type": "code",
   "execution_count": null,
   "id": "f2099823-c5d9-40bd-a2e2-7d9ae93ff10f",
   "metadata": {},
   "outputs": [],
   "source": []
  },
  {
   "cell_type": "code",
   "execution_count": null,
   "id": "b56c320b-f12f-409e-a90f-15420009c616",
   "metadata": {},
   "outputs": [],
   "source": []
  },
  {
   "cell_type": "code",
   "execution_count": null,
   "id": "379a0516-8529-4205-b7ed-70343349b59c",
   "metadata": {},
   "outputs": [],
   "source": []
  },
  {
   "cell_type": "code",
   "execution_count": null,
   "id": "f29b09c2-2994-49af-8993-f1e0afd79ff2",
   "metadata": {},
   "outputs": [],
   "source": []
  },
  {
   "cell_type": "code",
   "execution_count": null,
   "id": "b0f3e5e7-4ecc-4f09-9c56-1fd059b97ef1",
   "metadata": {},
   "outputs": [],
   "source": []
  },
  {
   "cell_type": "code",
   "execution_count": null,
   "id": "48e845ce-c694-4851-811a-7e2378ce1d79",
   "metadata": {},
   "outputs": [],
   "source": []
  }
 ],
 "metadata": {
  "kernelspec": {
   "display_name": "tensorflow",
   "language": "python",
   "name": "tensorflow"
  },
  "language_info": {
   "codemirror_mode": {
    "name": "ipython",
    "version": 3
   },
   "file_extension": ".py",
   "mimetype": "text/x-python",
   "name": "python",
   "nbconvert_exporter": "python",
   "pygments_lexer": "ipython3",
   "version": "3.9.7"
  },
  "toc-autonumbering": true,
  "toc-showcode": false,
  "toc-showmarkdowntxt": false,
  "toc-showtags": false
 },
 "nbformat": 4,
 "nbformat_minor": 5
}
