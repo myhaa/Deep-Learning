{
 "cells": [
  {
   "cell_type": "markdown",
   "id": "ee75a938-af64-4222-a843-bd13c11141b5",
   "metadata": {},
   "source": [
    "# 知识蒸馏pytorch代码实战\n",
    "\n",
    "## 本文概述\n",
    "\n",
    "1. 使用pytorch在MNIST数据集上，从头训练教师网络、学生网络、知识蒸馏训练学生网络，比较性能\n",
    "2. 本文参考[同济子豪兄b站视频](https://www.bilibili.com/video/BV1zP4y1F7g4/?spm_id_from=333.788)"
   ]
  },
  {
   "cell_type": "markdown",
   "id": "1d406bdd-d799-4428-8c92-5aa1e2692c9b",
   "metadata": {},
   "source": [
    "## 导入module"
   ]
  },
  {
   "cell_type": "code",
   "execution_count": 1,
   "id": "68093d27-4bfc-4a0d-a9c9-8c13e2a70068",
   "metadata": {},
   "outputs": [],
   "source": [
    "import torch\n",
    "from torch import nn\n",
    "import torch.nn.functional as F\n",
    "import torchvision\n",
    "from torchvision import transforms\n",
    "from torch.utils.data import DataLoader\n",
    "from torchinfo import summary\n",
    "from tqdm import tqdm"
   ]
  },
  {
   "cell_type": "markdown",
   "id": "99a7b24a-abf8-4835-a0c0-16b19e248219",
   "metadata": {},
   "source": [
    "## 参数设置"
   ]
  },
  {
   "cell_type": "code",
   "execution_count": 2,
   "id": "011c25b6-907d-4f40-8028-5d1d9cfbf34f",
   "metadata": {},
   "outputs": [],
   "source": [
    "# 设置随机数，便于复现\n",
    "my_seed = 2030\n",
    "torch.manual_seed(my_seed)\n",
    "\n",
    "# gpu or cpu\n",
    "device = torch.device('cuda' if torch.cuda.is_available() else 'cpu')\n",
    "\n",
    "# 是否加速卷积运算\n",
    "torch.backends.cudnn.benchmark = False\n",
    "\n",
    "batch_size = 32\n",
    "lr = 1e-4  # learning rate\n",
    "epochs = 6\n",
    "\n",
    "temp = 10  # 蒸馏温度，根据经验设置，越大soft label越平\n",
    "alpha = 0.3  # hard loss权重"
   ]
  },
  {
   "cell_type": "code",
   "execution_count": 3,
   "id": "63f630fe-b946-4f05-b4ae-44308e5ec0b4",
   "metadata": {},
   "outputs": [
    {
     "data": {
      "text/plain": [
       "device(type='cuda')"
      ]
     },
     "execution_count": 3,
     "metadata": {},
     "output_type": "execute_result"
    }
   ],
   "source": [
    "device"
   ]
  },
  {
   "cell_type": "markdown",
   "id": "d4cd60c2-9793-4ba5-8d23-e6e4445d75b5",
   "metadata": {},
   "source": [
    "## 加载数据集"
   ]
  },
  {
   "cell_type": "code",
   "execution_count": 4,
   "id": "6f48b1b6-5176-4165-b8d1-991327177b4e",
   "metadata": {},
   "outputs": [
    {
     "name": "stderr",
     "output_type": "stream",
     "text": [
      "D:\\meiyunhe\\softwares\\Miniconda3\\envs\\env_pytorch\\lib\\site-packages\\torchvision\\datasets\\mnist.py:498: UserWarning: The given NumPy array is not writeable, and PyTorch does not support non-writeable tensors. This means you can write to the underlying (supposedly non-writeable) NumPy array using the tensor. You may want to copy the array to protect its data or make it writeable before converting it to a tensor. This type of warning will be suppressed for the rest of this program. (Triggered internally at  ..\\torch\\csrc\\utils\\tensor_numpy.cpp:180.)\n",
      "  return torch.from_numpy(parsed.astype(m[2], copy=False)).view(*s)\n"
     ]
    }
   ],
   "source": [
    "train_dataset = torchvision.datasets.MNIST(root='./datasets/',\n",
    "                                           train=True,\n",
    "                                           transform=transforms.ToTensor(),\n",
    "                                           download=True)"
   ]
  },
  {
   "cell_type": "code",
   "execution_count": 5,
   "id": "d4945b9a-660d-4d1c-a22d-be7dfe371e19",
   "metadata": {},
   "outputs": [],
   "source": [
    "test_dataset = torchvision.datasets.MNIST(root='./datasets/',\n",
    "                                          train=False,\n",
    "                                          transform=transforms.ToTensor(),\n",
    "                                          download=True)"
   ]
  },
  {
   "cell_type": "code",
   "execution_count": 6,
   "id": "aabacc6d-19b5-4acb-8787-9d06df7833d2",
   "metadata": {},
   "outputs": [],
   "source": [
    "train_loader = DataLoader(dataset=train_dataset, batch_size=batch_size, shuffle=True)\n",
    "test_loader = DataLoader(dataset=test_dataset, batch_size=batch_size, shuffle=False)"
   ]
  },
  {
   "cell_type": "markdown",
   "id": "7194318d-9687-4c5c-980b-ec601fd14cdd",
   "metadata": {},
   "source": [
    "## 教师模型\n",
    "\n",
    "### 构建教师模型"
   ]
  },
  {
   "cell_type": "code",
   "execution_count": 7,
   "id": "f41b7e9f-4c96-4f7e-ad7b-330dfe6babfb",
   "metadata": {},
   "outputs": [],
   "source": [
    "class TeacherModel(nn.Module):\n",
    "    def __init__(self, in_channels=1, num_classes=10):\n",
    "        super(TeacherModel, self).__init__()\n",
    "        self.relu = nn.ReLU()\n",
    "        self.fc1 = nn.Linear(784, 1200)\n",
    "        self.fc2 = nn.Linear(1200, 1200)\n",
    "        self.fc3 = nn.Linear(1200, num_classes)\n",
    "        self.dropout = nn.Dropout(p=0.5)\n",
    "        \n",
    "    def forward(self, x):\n",
    "        x = x.view(-1, 784)\n",
    "        x = self.fc1(x)\n",
    "        x = self.dropout(x)\n",
    "        x = self.relu(x)\n",
    "        \n",
    "        x = self.fc2(x)\n",
    "        x = self.dropout(x)\n",
    "        x = self.relu(x)\n",
    "        \n",
    "        x = self.fc3(x)\n",
    "        return x"
   ]
  },
  {
   "cell_type": "code",
   "execution_count": 8,
   "id": "47c9c553-a85e-422e-9fcd-7a47db920f1a",
   "metadata": {},
   "outputs": [
    {
     "data": {
      "text/plain": [
       "=================================================================\n",
       "Layer (type:depth-idx)                   Param #\n",
       "=================================================================\n",
       "TeacherModel                             --\n",
       "├─ReLU: 1-1                              --\n",
       "├─Linear: 1-2                            942,000\n",
       "├─Linear: 1-3                            1,441,200\n",
       "├─Linear: 1-4                            12,010\n",
       "├─Dropout: 1-5                           --\n",
       "=================================================================\n",
       "Total params: 2,395,210\n",
       "Trainable params: 2,395,210\n",
       "Non-trainable params: 0\n",
       "================================================================="
      ]
     },
     "execution_count": 8,
     "metadata": {},
     "output_type": "execute_result"
    }
   ],
   "source": [
    "teacher_model = TeacherModel()\n",
    "teacher_model = teacher_model.to(device)\n",
    "\n",
    "summary(teacher_model)"
   ]
  },
  {
   "cell_type": "markdown",
   "id": "bf4fb485-c97c-40ae-b1cd-adff3a7d4fad",
   "metadata": {},
   "source": [
    "### 训练教师模型"
   ]
  },
  {
   "cell_type": "code",
   "execution_count": 9,
   "id": "1282853b-e918-4802-a2d8-90176a12f3fb",
   "metadata": {},
   "outputs": [],
   "source": [
    "criterion = nn.CrossEntropyLoss()\n",
    "optimizer = torch.optim.Adam(teacher_model.parameters(), lr=lr)"
   ]
  },
  {
   "cell_type": "code",
   "execution_count": 10,
   "id": "700ea518-c80c-4c28-88ed-d89efbb8db21",
   "metadata": {},
   "outputs": [
    {
     "name": "stderr",
     "output_type": "stream",
     "text": [
      "100%|█████████████████████████████████████████████████████████████████████████████████████████████████████████████████████████████████████████████████████████████████████████████████████████████| 1875/1875 [00:12<00:00, 150.31it/s]\n"
     ]
    },
    {
     "name": "stdout",
     "output_type": "stream",
     "text": [
      "epoch: 1 \t acc: 0.94270\n"
     ]
    },
    {
     "name": "stderr",
     "output_type": "stream",
     "text": [
      "100%|█████████████████████████████████████████████████████████████████████████████████████████████████████████████████████████████████████████████████████████████████████████████████████████████| 1875/1875 [00:11<00:00, 161.99it/s]\n"
     ]
    },
    {
     "name": "stdout",
     "output_type": "stream",
     "text": [
      "epoch: 2 \t acc: 0.96180\n"
     ]
    },
    {
     "name": "stderr",
     "output_type": "stream",
     "text": [
      "100%|█████████████████████████████████████████████████████████████████████████████████████████████████████████████████████████████████████████████████████████████████████████████████████████████| 1875/1875 [00:11<00:00, 159.42it/s]\n"
     ]
    },
    {
     "name": "stdout",
     "output_type": "stream",
     "text": [
      "epoch: 3 \t acc: 0.97000\n"
     ]
    },
    {
     "name": "stderr",
     "output_type": "stream",
     "text": [
      "100%|█████████████████████████████████████████████████████████████████████████████████████████████████████████████████████████████████████████████████████████████████████████████████████████████| 1875/1875 [00:11<00:00, 162.90it/s]\n"
     ]
    },
    {
     "name": "stdout",
     "output_type": "stream",
     "text": [
      "epoch: 4 \t acc: 0.97400\n"
     ]
    },
    {
     "name": "stderr",
     "output_type": "stream",
     "text": [
      "100%|█████████████████████████████████████████████████████████████████████████████████████████████████████████████████████████████████████████████████████████████████████████████████████████████| 1875/1875 [00:12<00:00, 156.18it/s]\n"
     ]
    },
    {
     "name": "stdout",
     "output_type": "stream",
     "text": [
      "epoch: 5 \t acc: 0.97800\n"
     ]
    },
    {
     "name": "stderr",
     "output_type": "stream",
     "text": [
      "100%|█████████████████████████████████████████████████████████████████████████████████████████████████████████████████████████████████████████████████████████████████████████████████████████████| 1875/1875 [00:11<00:00, 162.00it/s]\n"
     ]
    },
    {
     "name": "stdout",
     "output_type": "stream",
     "text": [
      "epoch: 6 \t acc: 0.97810\n"
     ]
    }
   ],
   "source": [
    "for epoch in range(epochs):\n",
    "    teacher_model.train()\n",
    "    \n",
    "    # 训练集上训练权重\n",
    "    for data, targets in tqdm(train_loader):\n",
    "        data = data.to(device)\n",
    "        targets = targets.to(device)\n",
    "        \n",
    "        # 前向推断\n",
    "        preds = teacher_model(data)\n",
    "        loss = criterion(preds, targets)\n",
    "        \n",
    "        # 反向传播\n",
    "        optimizer.zero_grad()\n",
    "        loss.backward()\n",
    "        optimizer.step()\n",
    "        \n",
    "    # 测试集上评估模型\n",
    "    teacher_model.eval()\n",
    "    num_correct = 0\n",
    "    num_samples = 0\n",
    "    \n",
    "    with torch.no_grad():\n",
    "        for data, targets in test_loader:\n",
    "            data = data.to(device)\n",
    "            targets = targets.to(device)\n",
    "            \n",
    "            preds = teacher_model(data)\n",
    "            predictions = preds.max(1).indices\n",
    "            num_correct += (predictions == targets).sum()\n",
    "            num_samples += predictions.size(0)\n",
    "        acc = (num_correct / num_samples).item()\n",
    "        \n",
    "    teacher_model.train()\n",
    "    print('epoch: {} \\t acc: {:.5f}'.format(epoch+1, acc))"
   ]
  },
  {
   "cell_type": "markdown",
   "id": "363a38e7-8d26-43d3-8abb-12c12cb9ae66",
   "metadata": {},
   "source": [
    "## 学生模型"
   ]
  },
  {
   "cell_type": "markdown",
   "id": "79041f99-8477-4ceb-ab4a-5ef521f34d48",
   "metadata": {},
   "source": [
    "### 构建学生模型"
   ]
  },
  {
   "cell_type": "code",
   "execution_count": 11,
   "id": "cdf5b98a-ad62-4eee-a76a-a2ea467c0edb",
   "metadata": {},
   "outputs": [],
   "source": [
    "class StudentModel(nn.Module):\n",
    "    def __init__(self, in_channels=1, num_classes=10):\n",
    "        super(StudentModel, self).__init__()\n",
    "        self.relu = nn.ReLU()\n",
    "        self.fc1 = nn.Linear(784, 20)\n",
    "        self.fc2 = nn.Linear(20, 20)\n",
    "        self.fc3 = nn.Linear(20, num_classes)\n",
    "        \n",
    "    def forward(self, x):\n",
    "        x = x.view(-1, 784)\n",
    "        x = self.fc1(x)\n",
    "        x = self.relu(x)\n",
    "        \n",
    "        x = self.fc2(x)\n",
    "        x = self.relu(x)\n",
    "        \n",
    "        x = self.fc3(x)\n",
    "        return x"
   ]
  },
  {
   "cell_type": "code",
   "execution_count": 12,
   "id": "6440d430-18b0-45da-b5ba-ae7ce421d9f4",
   "metadata": {},
   "outputs": [
    {
     "data": {
      "text/plain": [
       "=================================================================\n",
       "Layer (type:depth-idx)                   Param #\n",
       "=================================================================\n",
       "StudentModel                             --\n",
       "├─ReLU: 1-1                              --\n",
       "├─Linear: 1-2                            15,700\n",
       "├─Linear: 1-3                            420\n",
       "├─Linear: 1-4                            210\n",
       "=================================================================\n",
       "Total params: 16,330\n",
       "Trainable params: 16,330\n",
       "Non-trainable params: 0\n",
       "================================================================="
      ]
     },
     "execution_count": 12,
     "metadata": {},
     "output_type": "execute_result"
    }
   ],
   "source": [
    "student_model = StudentModel()\n",
    "student_model = student_model.to(device)\n",
    "\n",
    "summary(student_model)"
   ]
  },
  {
   "cell_type": "markdown",
   "id": "8f1c48ee-f02c-4f08-87ad-49d9e0e8f5c5",
   "metadata": {},
   "source": [
    "### 训练学生模型"
   ]
  },
  {
   "cell_type": "code",
   "execution_count": 13,
   "id": "44b328fa-62d0-4dff-97b4-9e0af8560ed2",
   "metadata": {},
   "outputs": [],
   "source": [
    "criterion = nn.CrossEntropyLoss()\n",
    "optimizer = torch.optim.Adam(student_model.parameters(), lr=lr)"
   ]
  },
  {
   "cell_type": "code",
   "execution_count": 14,
   "id": "35cae163-43c8-42ac-a651-0be970133d6a",
   "metadata": {},
   "outputs": [
    {
     "name": "stderr",
     "output_type": "stream",
     "text": [
      "100%|█████████████████████████████████████████████████████████████████████████████████████████████████████████████████████████████████████████████████████████████████████████████████████████████| 1875/1875 [00:11<00:00, 159.62it/s]\n"
     ]
    },
    {
     "name": "stdout",
     "output_type": "stream",
     "text": [
      "epoch: 1 \t acc: 0.83810\n"
     ]
    },
    {
     "name": "stderr",
     "output_type": "stream",
     "text": [
      "100%|█████████████████████████████████████████████████████████████████████████████████████████████████████████████████████████████████████████████████████████████████████████████████████████████| 1875/1875 [00:11<00:00, 157.98it/s]\n"
     ]
    },
    {
     "name": "stdout",
     "output_type": "stream",
     "text": [
      "epoch: 2 \t acc: 0.88360\n"
     ]
    },
    {
     "name": "stderr",
     "output_type": "stream",
     "text": [
      "100%|█████████████████████████████████████████████████████████████████████████████████████████████████████████████████████████████████████████████████████████████████████████████████████████████| 1875/1875 [00:13<00:00, 135.53it/s]\n"
     ]
    },
    {
     "name": "stdout",
     "output_type": "stream",
     "text": [
      "epoch: 3 \t acc: 0.89970\n"
     ]
    }
   ],
   "source": [
    "epochs = 3\n",
    "for epoch in range(epochs):\n",
    "    student_model.train()\n",
    "    \n",
    "    # 训练集上训练权重\n",
    "    for data, targets in tqdm(train_loader):\n",
    "        data = data.to(device)\n",
    "        targets = targets.to(device)\n",
    "        \n",
    "        # 前向推断\n",
    "        preds = student_model(data)\n",
    "        loss = criterion(preds, targets)\n",
    "        \n",
    "        # 反向传播\n",
    "        optimizer.zero_grad()\n",
    "        loss.backward()\n",
    "        optimizer.step()\n",
    "        \n",
    "    # 测试集上评估模型\n",
    "    student_model.eval()\n",
    "    num_correct = 0\n",
    "    num_samples = 0\n",
    "    \n",
    "    with torch.no_grad():\n",
    "        for data, targets in test_loader:\n",
    "            data = data.to(device)\n",
    "            targets = targets.to(device)\n",
    "            \n",
    "            preds = student_model(data)\n",
    "            predictions = preds.max(1).indices\n",
    "            num_correct += (predictions == targets).sum()\n",
    "            num_samples += predictions.size(0)\n",
    "        acc = (num_correct / num_samples).item()\n",
    "        \n",
    "    student_model.train()\n",
    "    print('epoch: {} \\t acc: {:.5f}'.format(epoch+1, acc))"
   ]
  },
  {
   "cell_type": "markdown",
   "id": "3cc25303-ca71-41b6-a668-fd4c2baa018c",
   "metadata": {},
   "source": [
    "## 知识蒸馏训练学生模型"
   ]
  },
  {
   "cell_type": "code",
   "execution_count": 15,
   "id": "daad6b68-793e-4174-8e28-1b3b2154d9af",
   "metadata": {},
   "outputs": [
    {
     "data": {
      "text/plain": [
       "TeacherModel(\n",
       "  (relu): ReLU()\n",
       "  (fc1): Linear(in_features=784, out_features=1200, bias=True)\n",
       "  (fc2): Linear(in_features=1200, out_features=1200, bias=True)\n",
       "  (fc3): Linear(in_features=1200, out_features=10, bias=True)\n",
       "  (dropout): Dropout(p=0.5, inplace=False)\n",
       ")"
      ]
     },
     "execution_count": 15,
     "metadata": {},
     "output_type": "execute_result"
    }
   ],
   "source": [
    "# 教师模型开启预测模式\n",
    "teacher_model.eval()"
   ]
  },
  {
   "cell_type": "code",
   "execution_count": 16,
   "id": "376152be-d163-43b0-af28-7c868170c06e",
   "metadata": {},
   "outputs": [],
   "source": [
    "# 训练学生模型参数\n",
    "student_model = StudentModel()\n",
    "student_model = student_model.to(device)\n",
    "# student_model.train()"
   ]
  },
  {
   "cell_type": "code",
   "execution_count": 17,
   "id": "ab8fc176-46d0-4914-8751-8240369967eb",
   "metadata": {},
   "outputs": [],
   "source": [
    "# hard loss\n",
    "hard_loss = nn.CrossEntropyLoss()\n",
    "\n",
    "# soft loss\n",
    "soft_loss = nn.KLDivLoss(reduction='batchmean')  # KL散度\n",
    "\n",
    "optimizer = torch.optim.Adam(student_model.parameters(), lr=lr)"
   ]
  },
  {
   "cell_type": "code",
   "execution_count": 18,
   "id": "08da6f5b-792e-487c-8311-a25c928a3f37",
   "metadata": {},
   "outputs": [
    {
     "name": "stderr",
     "output_type": "stream",
     "text": [
      "100%|█████████████████████████████████████████████████████████████████████████████████████████████████████████████████████████████████████████████████████████████████████████████████████████████| 1875/1875 [00:13<00:00, 138.17it/s]\n"
     ]
    },
    {
     "name": "stdout",
     "output_type": "stream",
     "text": [
      "epoch: 1 \t acc: 0.84210\n"
     ]
    },
    {
     "name": "stderr",
     "output_type": "stream",
     "text": [
      "100%|█████████████████████████████████████████████████████████████████████████████████████████████████████████████████████████████████████████████████████████████████████████████████████████████| 1875/1875 [00:13<00:00, 141.64it/s]\n"
     ]
    },
    {
     "name": "stdout",
     "output_type": "stream",
     "text": [
      "epoch: 2 \t acc: 0.88100\n"
     ]
    },
    {
     "name": "stderr",
     "output_type": "stream",
     "text": [
      "100%|█████████████████████████████████████████████████████████████████████████████████████████████████████████████████████████████████████████████████████████████████████████████████████████████| 1875/1875 [00:12<00:00, 145.44it/s]\n"
     ]
    },
    {
     "name": "stdout",
     "output_type": "stream",
     "text": [
      "epoch: 3 \t acc: 0.89420\n"
     ]
    }
   ],
   "source": [
    "epochs = 3\n",
    "\n",
    "for epoch in range(epochs):\n",
    "    student_model.train()\n",
    "    \n",
    "    # 训练集上训练权重\n",
    "    for data, targets in tqdm(train_loader):\n",
    "        data = data.to(device)\n",
    "        targets = targets.to(device)\n",
    "        \n",
    "        # 教师模型前向推断\n",
    "        with torch.no_grad():\n",
    "            teacher_preds = teacher_model(data)\n",
    "        \n",
    "        # 学生模型前向推断\n",
    "        student_preds = student_model(data)\n",
    "        student_loss = hard_loss(student_preds, targets)\n",
    "        \n",
    "        # 计算蒸馏后的预测结果及soft_loss\n",
    "        ditillation_loss = soft_loss(F.softmax(student_preds / temp, dim=1),\n",
    "                                     F.softmax(teacher_preds / temp, dim=1))\n",
    "        \n",
    "        # 将hard_loss和soft_loss加权求和\n",
    "        loss = alpha * student_loss + (1 - alpha) * ditillation_loss\n",
    "        \n",
    "        # 反向传播\n",
    "        optimizer.zero_grad()\n",
    "        loss.backward()\n",
    "        optimizer.step()\n",
    "        \n",
    "    # 测试集上评估模型\n",
    "    student_model.eval()\n",
    "    num_correct = 0\n",
    "    num_samples = 0\n",
    "    \n",
    "    with torch.no_grad():\n",
    "        for data, targets in test_loader:\n",
    "            data = data.to(device)\n",
    "            targets = targets.to(device)\n",
    "            \n",
    "            preds = student_model(data)\n",
    "            predictions = preds.max(1).indices\n",
    "            num_correct += (predictions == targets).sum()\n",
    "            num_samples += predictions.size(0)\n",
    "        acc = (num_correct / num_samples).item()\n",
    "        \n",
    "    student_model.train()\n",
    "    print('epoch: {} \\t acc: {:.5f}'.format(epoch+1, acc))"
   ]
  },
  {
   "cell_type": "code",
   "execution_count": null,
   "id": "c40664dc-89cd-40c1-9928-6745cedd826d",
   "metadata": {},
   "outputs": [],
   "source": []
  },
  {
   "cell_type": "code",
   "execution_count": null,
   "id": "e03a7238-93e0-4ffd-93c8-db4b18c97e44",
   "metadata": {},
   "outputs": [],
   "source": []
  }
 ],
 "metadata": {
  "kernelspec": {
   "display_name": "Python 3",
   "language": "python",
   "name": "python3"
  },
  "language_info": {
   "codemirror_mode": {
    "name": "ipython",
    "version": 3
   },
   "file_extension": ".py",
   "mimetype": "text/x-python",
   "name": "python",
   "nbconvert_exporter": "python",
   "pygments_lexer": "ipython3",
   "version": "3.6.13"
  }
 },
 "nbformat": 4,
 "nbformat_minor": 5
}
