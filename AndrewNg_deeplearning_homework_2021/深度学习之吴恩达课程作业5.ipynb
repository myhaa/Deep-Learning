{
 "cells": [
  {
   "cell_type": "markdown",
   "id": "c5fe4db5-be40-4664-8763-60a0f57a7b9b",
   "metadata": {},
   "source": [
    "# 吴恩达深度学习课程作业L2W6\n",
    "\n",
    "* Improving Deep Neural Networks\n",
    "* 加强深度网络性能的一些技巧\n",
    "* 参数求解优化方法\n",
    "\n",
    "## HW参考\n",
    "\n",
    "1. [视频链接](https://mooc.study.163.com/university/deeplearning_ai#/c)\n",
    "2. [作业链接](https://github.com/suqi/deeplearning_andrewng/tree/master/Course2-DL-tuning/week6)\n"
   ]
  },
  {
   "cell_type": "markdown",
   "id": "ebbbf6cd-a3c3-4d57-8f12-9db1349a1ad6",
   "metadata": {},
   "source": [
    "## 优化方法简介"
   ]
  },
  {
   "cell_type": "markdown",
   "id": "56ed7913-2554-48a3-a45e-9d20e7d06d1a",
   "metadata": {},
   "source": [
    "Gradient descent goes \"downhill\" on a cost function $J$. Think of it as trying to do this: \n",
    "<img src=\"./深度学习之吴恩达课程作业5/cost.jpg\" style=\"width:650px;height:300px;\">\n",
    "<caption><center> <u> **Figure 1** </u>: **Minimizing the cost is like finding the lowest point in a hilly landscape**<br> At each step of the training, you update your parameters following a certain direction to try to get to the lowest possible point. </center></caption>\n",
    "\n",
    "**Notations**: As usual, $\\frac{\\partial J}{\\partial a } = $ `da` for any variable `a`."
   ]
  },
  {
   "cell_type": "markdown",
   "id": "5b4c64b5-36d6-4efe-b221-106504d1a863",
   "metadata": {},
   "source": [
    "## 导入模块"
   ]
  },
  {
   "cell_type": "code",
   "execution_count": 1,
   "id": "f727f2a7-806f-43e2-b244-772522dd6872",
   "metadata": {},
   "outputs": [],
   "source": [
    "import numpy as np\n",
    "import matplotlib.pyplot as plt\n",
    "import scipy.io\n",
    "import math\n",
    "import sklearn\n",
    "import sklearn.datasets\n",
    "\n",
    "%matplotlib inline\n",
    "plt.rcParams['figure.figsize'] = (7.0, 4.0) # set default size of plots\n",
    "plt.rcParams['image.interpolation'] = 'nearest'\n",
    "plt.rcParams['image.cmap'] = 'gray'"
   ]
  },
  {
   "cell_type": "markdown",
   "id": "b1b8923c-f39b-4c3c-8273-627d5fa6fd71",
   "metadata": {},
   "source": [
    "## 数据生成模拟函数"
   ]
  },
  {
   "cell_type": "code",
   "execution_count": 2,
   "id": "aad1571e-6459-492c-8bd3-769c57519d44",
   "metadata": {},
   "outputs": [],
   "source": [
    "def update_parameters_with_gd_test_case():\n",
    "    np.random.seed(1)\n",
    "    learning_rate = 0.01\n",
    "    W1 = np.random.randn(2,3)\n",
    "    b1 = np.random.randn(2,1)\n",
    "    W2 = np.random.randn(3,3)\n",
    "    b2 = np.random.randn(3,1)\n",
    "\n",
    "    dW1 = np.random.randn(2,3)\n",
    "    db1 = np.random.randn(2,1)\n",
    "    dW2 = np.random.randn(3,3)\n",
    "    db2 = np.random.randn(3,1)\n",
    "    \n",
    "    parameters = {\"W1\": W1, \"b1\": b1, \"W2\": W2, \"b2\": b2}\n",
    "    grads = {\"dW1\": dW1, \"db1\": db1, \"dW2\": dW2, \"db2\": db2}\n",
    "    \n",
    "    return parameters, grads, learning_rate\n",
    "\n",
    "\"\"\"\n",
    "def update_parameters_with_sgd_checker(function, inputs, outputs):\n",
    "    if function(inputs) == outputs:\n",
    "        print(\"Correct\")\n",
    "    else:\n",
    "        print(\"Incorrect\")\n",
    "\"\"\"\n",
    "\n",
    "\n",
    "def random_mini_batches_test_case():\n",
    "    np.random.seed(1)\n",
    "    mini_batch_size = 64\n",
    "    X = np.random.randn(12288, 148)\n",
    "    Y = np.random.randn(1, 148) < 0.5\n",
    "    return X, Y, mini_batch_size\n",
    "\n",
    "\n",
    "def initialize_velocity_test_case():\n",
    "    np.random.seed(1)\n",
    "    W1 = np.random.randn(2,3)\n",
    "    b1 = np.random.randn(2,1)\n",
    "    W2 = np.random.randn(3,3)\n",
    "    b2 = np.random.randn(3,1)\n",
    "    parameters = {\"W1\": W1, \"b1\": b1, \"W2\": W2, \"b2\": b2}\n",
    "    return parameters\n",
    "\n",
    "\n",
    "def update_parameters_with_momentum_test_case():\n",
    "    np.random.seed(1)\n",
    "    W1 = np.random.randn(2,3)\n",
    "    b1 = np.random.randn(2,1)\n",
    "    W2 = np.random.randn(3,3)\n",
    "    b2 = np.random.randn(3,1)\n",
    "\n",
    "    dW1 = np.random.randn(2,3)\n",
    "    db1 = np.random.randn(2,1)\n",
    "    dW2 = np.random.randn(3,3)\n",
    "    db2 = np.random.randn(3,1)\n",
    "    parameters = {\"W1\": W1, \"b1\": b1, \"W2\": W2, \"b2\": b2}\n",
    "    grads = {\"dW1\": dW1, \"db1\": db1, \"dW2\": dW2, \"db2\": db2}\n",
    "    v = {'dW1': np.array([[ 0.,  0.,  0.],\n",
    "        [ 0.,  0.,  0.]]), 'dW2': np.array([[ 0.,  0.,  0.],\n",
    "        [ 0.,  0.,  0.],\n",
    "        [ 0.,  0.,  0.]]), 'db1': np.array([[ 0.],\n",
    "        [ 0.]]), 'db2': np.array([[ 0.],\n",
    "        [ 0.],\n",
    "        [ 0.]])}\n",
    "    return parameters, grads, v\n",
    "\n",
    "\n",
    "def initialize_adam_test_case():\n",
    "    np.random.seed(1)\n",
    "    W1 = np.random.randn(2,3)\n",
    "    b1 = np.random.randn(2,1)\n",
    "    W2 = np.random.randn(3,3)\n",
    "    b2 = np.random.randn(3,1)\n",
    "    parameters = {\"W1\": W1, \"b1\": b1, \"W2\": W2, \"b2\": b2}\n",
    "    return parameters\n",
    "\n",
    "\n",
    "def update_parameters_with_adam_test_case():\n",
    "    np.random.seed(1)\n",
    "    v, s = ({'dW1': np.array([[ 0.,  0.,  0.],\n",
    "         [ 0.,  0.,  0.]]), 'dW2': np.array([[ 0.,  0.,  0.],\n",
    "         [ 0.,  0.,  0.],\n",
    "         [ 0.,  0.,  0.]]), 'db1': np.array([[ 0.],\n",
    "         [ 0.]]), 'db2': np.array([[ 0.],\n",
    "         [ 0.],\n",
    "         [ 0.]])}, {'dW1': np.array([[ 0.,  0.,  0.],\n",
    "         [ 0.,  0.,  0.]]), 'dW2': np.array([[ 0.,  0.,  0.],\n",
    "         [ 0.,  0.,  0.],\n",
    "         [ 0.,  0.,  0.]]), 'db1': np.array([[ 0.],\n",
    "         [ 0.]]), 'db2': np.array([[ 0.],\n",
    "         [ 0.],\n",
    "         [ 0.]])})\n",
    "    W1 = np.random.randn(2,3)\n",
    "    b1 = np.random.randn(2,1)\n",
    "    W2 = np.random.randn(3,3)\n",
    "    b2 = np.random.randn(3,1)\n",
    "\n",
    "    dW1 = np.random.randn(2,3)\n",
    "    db1 = np.random.randn(2,1)\n",
    "    dW2 = np.random.randn(3,3)\n",
    "    db2 = np.random.randn(3,1)\n",
    "    \n",
    "    parameters = {\"W1\": W1, \"b1\": b1, \"W2\": W2, \"b2\": b2}\n",
    "    grads = {\"dW1\": dW1, \"db1\": db1, \"dW2\": dW2, \"db2\": db2}\n",
    "    \n",
    "    return parameters, grads, v, s"
   ]
  },
  {
   "cell_type": "markdown",
   "id": "90b88f93-23fd-46c3-83de-ba0d954dd985",
   "metadata": {},
   "source": [
    "## 神经网络结构封装\n",
    "\n",
    "### 激活函数"
   ]
  },
  {
   "cell_type": "code",
   "execution_count": 3,
   "id": "e1d898e9-ef64-454a-a658-01074dc91336",
   "metadata": {},
   "outputs": [],
   "source": [
    "def func_sigmoid(Z):\n",
    "    \"\"\"\n",
    "    Implements the sigmoid activation in numpy\n",
    "    \n",
    "    Arguments:\n",
    "    Z -- numpy array of any shape\n",
    "    \n",
    "    Returns:\n",
    "    A -- output of sigmoid(z), same shape as Z\n",
    "    cache -- returns Z as well, useful during backpropagation\n",
    "    \"\"\"\n",
    "    \n",
    "    A = 1/(1+np.exp(-Z))\n",
    "    cache = Z\n",
    "    \n",
    "    return A, cache\n",
    "\n",
    "def func_relu(Z):\n",
    "    \"\"\"\n",
    "    Implement the RELU function.\n",
    "\n",
    "    Arguments:\n",
    "    Z -- Output of the linear layer, of any shape\n",
    "\n",
    "    Returns:\n",
    "    A -- Post-activation parameter, of the same shape as Z\n",
    "    cache -- a python dictionary containing \"A\" ; stored for computing the backward pass efficiently\n",
    "    \"\"\"\n",
    "    \n",
    "    A = np.maximum(0,Z)\n",
    "    \n",
    "    assert(A.shape == Z.shape)\n",
    "    \n",
    "    cache = Z \n",
    "    return A, cache\n",
    "\n",
    "\n",
    "def func_relu_backward(dA, cache):\n",
    "    \"\"\"\n",
    "    Implement the backward propagation for a single RELU unit.\n",
    "\n",
    "    Arguments:\n",
    "    dA -- post-activation gradient, of any shape\n",
    "    cache -- 'Z' where we store for computing backward propagation efficiently\n",
    "\n",
    "    Returns:\n",
    "    dZ -- Gradient of the cost with respect to Z\n",
    "    \"\"\"\n",
    "    \n",
    "    Z = cache\n",
    "    dZ = np.array(dA, copy=True) # just converting dz to a correct object.\n",
    "    \n",
    "    # When z <= 0, you should set dz to 0 as well. \n",
    "    dZ[Z <= 0] = 0\n",
    "    \n",
    "    assert (dZ.shape == Z.shape)\n",
    "    \n",
    "    return dZ\n",
    "\n",
    "def func_sigmoid_backward(dA, cache):\n",
    "    \"\"\"\n",
    "    Implement the backward propagation for a single SIGMOID unit.\n",
    "\n",
    "    Arguments:\n",
    "    dA -- post-activation gradient, of any shape\n",
    "    cache -- 'Z' where we store for computing backward propagation efficiently\n",
    "\n",
    "    Returns:\n",
    "    dZ -- Gradient of the cost with respect to Z\n",
    "    \"\"\"\n",
    "    \n",
    "    Z = cache\n",
    "    \n",
    "    s = 1/(1+np.exp(-Z))\n",
    "    dZ = dA * s * (1-s)\n",
    "    \n",
    "    assert (dZ.shape == Z.shape)\n",
    "    \n",
    "    return dZ"
   ]
  },
  {
   "cell_type": "markdown",
   "id": "8088a324-f631-4947-930b-d26fcb11cd8a",
   "metadata": {},
   "source": [
    "### 参数初始化"
   ]
  },
  {
   "cell_type": "code",
   "execution_count": 4,
   "id": "b408ca6f-e120-4e38-9efa-1a3c233bff42",
   "metadata": {},
   "outputs": [],
   "source": [
    "def func_L_layers_initialize_parameters(layer_dims, seed=1):\n",
    "    \"\"\"\n",
    "    L层神经网络参数初始化\n",
    "    :param layer_dims: python array (list) containing the dimensions of each layer in our network\n",
    "    :param seed: 随机种子\n",
    "    :return: \n",
    "        parameters -- python dictionary containing your parameters \"W1\", \"b1\", ..., \"WL\", \"bL\":\n",
    "        Wl -- weight matrix of shape (layer_dims[l], layer_dims[l-1])\n",
    "        bl -- bias vector of shape (layer_dims[l], 1)\n",
    "    \"\"\"\n",
    "    np.random.seed(seed)\n",
    "    parameters = {}\n",
    "    L = len(layer_dims)\n",
    "    \n",
    "    # 这里/ np.sqrt(layer_dims[layer-1])很重要，如果还是*0.01，会导致模型cost降不下去\n",
    "    for layer in range(1, L):\n",
    "#         parameters['W' + str(layer)] = np.random.randn(layer_dims[layer], layer_dims[layer-1]) / np.sqrt(layer_dims[layer-1]) # * 0.01\n",
    "        # todo he initialize\n",
    "        parameters['W' + str(layer)] = np.random.randn(layer_dims[layer], layer_dims[layer-1]) * np.sqrt(2 / layer_dims[layer-1]) # * 0.01\n",
    "        parameters['b' + str(layer)] = np.zeros((layer_dims[layer], 1))\n",
    "        \n",
    "        assert(parameters['W' + str(layer)].shape == (layer_dims[layer], layer_dims[layer-1]))\n",
    "        assert(parameters['b' + str(layer)].shape == (layer_dims[layer], 1))\n",
    "    return parameters"
   ]
  },
  {
   "cell_type": "markdown",
   "id": "8db615f7-b8f9-4af5-b056-5e0d6c0b7965",
   "metadata": {},
   "source": [
    "### forward"
   ]
  },
  {
   "cell_type": "code",
   "execution_count": 5,
   "id": "be352cec-cff5-47e1-906c-78df6ed83e53",
   "metadata": {},
   "outputs": [],
   "source": [
    "def func_linear_forward(A, W, b):\n",
    "    \"\"\"\n",
    "    linear forward\n",
    "    :param A:\n",
    "    :param W:\n",
    "    :param b:\n",
    "    :return Z,chche:\n",
    "        Z -- the input of the activation function, also called pre-activation parameter \n",
    "        cache -- a python dictionary containing \"A\", \"W\" and \"b\" ; stored for computing the backward pass efficiently\n",
    "    \"\"\"\n",
    "    Z = np.dot(W, A) + b\n",
    "    \n",
    "    assert(Z.shape == (W.shape[0], A.shape[1]))\n",
    "    cache = (A, W, b)\n",
    "    return Z, cache\n",
    "\n",
    "def func_linear_activation_forward(A_prev, W, b, activation):\n",
    "    \"\"\"\n",
    "    Implement the forward propagation for the LINEAR->ACTIVATION layer\n",
    "    :param A_prev: activations from previous layer (or input data): (size of previous layer, number of examples)\n",
    "    :param W: weights matrix: numpy array of shape (size of current layer, size of previous layer)\n",
    "    :param b: bias vector, numpy array of shape (size of the current layer, 1)\n",
    "    :param activation: the activation to be used in this layer, stored as a text string: \"sigmoid\" or \"relu\"\n",
    "    :return:\n",
    "        A -- the output of the activation function, also called the post-activation value \n",
    "        cache -- a python dictionary containing \"linear_cache\" and \"activation_cache\";\n",
    "                 stored for computing the backward pass efficiently\n",
    "    \"\"\"\n",
    "    Z, linear_cache = func_linear_forward(A_prev, W, b)\n",
    "    if activation == 'sigmoid':\n",
    "        A, activation_cache = func_sigmoid(Z)\n",
    "    elif activation == 'relu':\n",
    "        A, activation_cache = func_relu(Z)\n",
    "    else:\n",
    "        raise ValueError('activation param')\n",
    "    \n",
    "    assert(A.shape == (W.shape[0], A_prev.shape[1]))\n",
    "    cache = (linear_cache, activation_cache)\n",
    "    return A, cache\n",
    "\n",
    "def func_L_model_forward(X, parameters):\n",
    "    \"\"\"\n",
    "    Implement forward propagation for the [LINEAR->RELU]*(L-1)->LINEAR->SIGMOID computation\n",
    "    \n",
    "    :param X -- data, numpy array of shape (input size, number of examples)\n",
    "    :param parameters -- output of initialize_parameters_deep()\n",
    "    \n",
    "    :return:\n",
    "        AL -- last post-activation value\n",
    "        caches -- list of caches containing:\n",
    "                    every cache of linear_relu_forward() (there are L-1 of them, indexed from 0 to L-2)\n",
    "                    the cache of linear_sigmoid_forward() (there is one, indexed L-1)\n",
    "    \"\"\"\n",
    "    caches = []\n",
    "    A = X\n",
    "    L = len(parameters) // 2\n",
    "    \n",
    "    for layer in range(1, L):\n",
    "        A_prev = A\n",
    "        W, b = parameters['W'+str(layer)], parameters['b'+str(layer)]\n",
    "        A, cache = func_linear_activation_forward(A_prev, W, b, 'relu')\n",
    "        caches.append(cache)\n",
    "    \n",
    "    A_prev = A\n",
    "    layer = L\n",
    "    W, b = parameters['W'+str(layer)], parameters['b'+str(layer)]\n",
    "    A, cache = func_linear_activation_forward(A_prev, W, b, 'sigmoid')\n",
    "    caches.append(cache)\n",
    "    \n",
    "    assert(A.shape == (1, X.shape[1]))\n",
    "    return A, caches"
   ]
  },
  {
   "cell_type": "markdown",
   "id": "83940d29-e525-48c3-8cf5-b1f8eab82d1f",
   "metadata": {},
   "source": [
    "### compute cost"
   ]
  },
  {
   "cell_type": "code",
   "execution_count": 6,
   "id": "61daa929-af9b-414b-8fcb-85ce93249591",
   "metadata": {},
   "outputs": [],
   "source": [
    "def func_compute_cost(AL, Y):\n",
    "    \"\"\"\n",
    "    Implement the cost function defined by equation (7).\n",
    "\n",
    "    :param AL -- probability vector corresponding to your label predictions, shape (1, number of examples)\n",
    "    :param Y -- true \"label\" vector (for example: containing 0 if non-cat, 1 if cat), shape (1, number of examples)\n",
    "\n",
    "    :return:\n",
    "        cost -- cross-entropy cost\n",
    "    \"\"\"\n",
    "    m = Y.shape[1]\n",
    "    \n",
    "    # todo RuntimeWarning: divide by zero encountered in log\n",
    "    AL = np.clip(AL, 1e-10, 1-1e-10)\n",
    "    \n",
    "#     Compute loss from aL and y.\n",
    "\n",
    "#     logprobs = np.multiply(-np.log(AL), Y) + np.multiply(-np.log(1 - AL), 1 - Y)\n",
    "#     cost = 1./m * np.nansum(logprobs)\n",
    "\n",
    "#     cost = -1 / m * np.sum(np.multiply(Y, np.log(AL))+np.multiply(1-Y, np.log(1-AL)))\n",
    "    cost = (1./m) * (-np.dot(Y,np.log(AL).T) - np.dot(1-Y, np.log(1-AL).T))\n",
    "    \n",
    "    cost = np.squeeze(cost)      # To make sure your cost's shape is what we expect (e.g. this turns [[17]] into 17).\n",
    "    \n",
    "    assert(cost.shape == ())\n",
    "    return cost"
   ]
  },
  {
   "cell_type": "markdown",
   "id": "93fe7fbd-8fd6-498d-9bbe-7d8b17178ca8",
   "metadata": {},
   "source": [
    "### backward"
   ]
  },
  {
   "cell_type": "code",
   "execution_count": 7,
   "id": "9fdb3c7f-3aa2-40d4-ae80-40909897355d",
   "metadata": {},
   "outputs": [],
   "source": [
    "def func_linear_backward(dZ, cache):\n",
    "    \"\"\"\n",
    "    Implement the linear portion of backward propagation for a single layer (layer l)\n",
    "\n",
    "    :param dZ -- Gradient of the cost with respect to the linear output (of current layer l)\n",
    "    :param cache -- tuple of values (A_prev, W, b) coming from the forward propagation in the current layer\n",
    "\n",
    "    :return:\n",
    "        dA_prev -- Gradient of the cost with respect to the activation (of the previous layer l-1), same shape as A_prev\n",
    "        dW -- Gradient of the cost with respect to W (current layer l), same shape as W\n",
    "        db -- Gradient of the cost with respect to b (current layer l), same shape as b\n",
    "    \"\"\"\n",
    "    A_prev, W, b = cache\n",
    "    m = A_prev.shape[1]\n",
    "    \n",
    "    dW = 1. / m * np.dot(dZ, A_prev.T)\n",
    "    db = 1. / m * np.sum(dZ, axis=1, keepdims=True)  # axis=1是行记录求和\n",
    "    dA_prev = np.dot(W.T, dZ)\n",
    "    \n",
    "    assert(dW.shape == W.shape)\n",
    "    assert(db.shape == b.shape)\n",
    "    assert(dA_prev.shape == A_prev.shape)\n",
    "    return dA_prev, dW, db\n",
    "\n",
    "def func_linear_activation_backward(dA, cache, activation):\n",
    "    \"\"\"\n",
    "    Implement the backward propagation for the LINEAR->ACTIVATION layer.\n",
    "    \n",
    "    :param dA -- post-activation gradient for current layer l \n",
    "    :param cache -- tuple of values (linear_cache, activation_cache) we store for computing backward propagation efficiently\n",
    "    :param activation -- the activation to be used in this layer, stored as a text string: \"sigmoid\" or \"relu\"\n",
    "    \n",
    "    :returns\n",
    "        dA_prev -- Gradient of the cost with respect to the activation (of the previous layer l-1), same shape as A_prev\n",
    "        dW -- Gradient of the cost with respect to W (current layer l), same shape as W\n",
    "        db -- Gradient of the cost with respect to b (current layer l), same shape as b\n",
    "    \"\"\"\n",
    "    linear_cache, activation_cache = cache\n",
    "    \n",
    "    if activation == 'relu':\n",
    "        dZ = func_relu_backward(dA, activation_cache)\n",
    "    elif activation == 'sigmoid':\n",
    "        dZ = func_sigmoid_backward(dA, activation_cache)\n",
    "    else:\n",
    "        raise ValueError('activation param')\n",
    "    dA_prev, dW, db = func_linear_backward(dZ, linear_cache)\n",
    "    return dA_prev, dW, db\n",
    "\n",
    "def func_L_model_backward(AL, Y, caches):\n",
    "    \"\"\"\n",
    "    Implement the backward propagation for the [LINEAR->RELU] * (L-1) -> LINEAR -> SIGMOID group\n",
    "    \n",
    "    :param AL -- probability vector, output of the forward propagation (L_model_forward())\n",
    "    :param Y -- true \"label\" vector (containing 0 if non-cat, 1 if cat)\n",
    "    :param caches -- list of caches containing:\n",
    "                    every cache of linear_activation_forward() with \"relu\" (it's caches[l], for l in range(L-1) i.e l = 0...L-2)\n",
    "                    the cache of linear_activation_forward() with \"sigmoid\" (it's caches[L-1])\n",
    "    \n",
    "    :return:\n",
    "        grads -- A dictionary with the gradients\n",
    "                 grads[\"dA\" + str(l)] = ... \n",
    "                 grads[\"dW\" + str(l)] = ...\n",
    "                 grads[\"db\" + str(l)] = ... \n",
    "    \"\"\"\n",
    "    grads = {}\n",
    "    L = len(caches)\n",
    "    m = AL.shape[1]\n",
    "    Y = Y.reshape(AL.shape)\n",
    "    \n",
    "    # todo divide by zero encountered in true_divide\n",
    "    dAL = - (np.divide(Y, AL, where=AL!=0) - np.divide(1-Y, 1-AL, where=(1-AL)!=0))\n",
    "#     dAL = - (np.divide(Y, AL) - np.divide(1-Y, 1-AL))\n",
    "    \n",
    "    cur_cache = caches[L-1]\n",
    "    grads['dA' + str(L-1)], grads['dW'+str(L)], grads['db'+str(L)] = func_linear_activation_backward(dAL, cur_cache, activation='sigmoid')\n",
    "    \n",
    "    for layer in reversed(range(L-1)):\n",
    "        cur_cache = caches[layer]\n",
    "        dA_prev_tmp, dW_tmp, db_tmp = func_linear_activation_backward(grads[\"dA\"+str(layer+1)], cur_cache, activation='relu')\n",
    "        grads['dA'+str(layer)] = dA_prev_tmp\n",
    "        grads['dW'+str(layer+1)] = dW_tmp\n",
    "        grads['db'+str(layer+1)] = db_tmp\n",
    "    \n",
    "#     current_cache = caches[L-1]\n",
    "#     grads[\"dA\" + str(L)], grads[\"dW\" + str(L)], grads[\"db\" + str(L)] = func_linear_activation_backward(dAL, current_cache, activation = \"sigmoid\")\n",
    "    \n",
    "#     for l in reversed(range(L-1)):\n",
    "#         # lth layer: (RELU -> LINEAR) gradients.\n",
    "#         current_cache = caches[l]\n",
    "#         dA_prev_temp, dW_temp, db_temp = func_linear_activation_backward(grads[\"dA\" + str(l + 2)], current_cache, activation = \"relu\")\n",
    "#         grads[\"dA\" + str(l + 1)] = dA_prev_temp\n",
    "#         grads[\"dW\" + str(l + 1)] = dW_temp\n",
    "#         grads[\"db\" + str(l + 1)] = db_temp\n",
    "    \n",
    "    return grads"
   ]
  },
  {
   "cell_type": "markdown",
   "id": "82472d23-d469-4b9b-b974-f0ff8359d404",
   "metadata": {},
   "source": [
    "### update parameters"
   ]
  },
  {
   "cell_type": "code",
   "execution_count": 8,
   "id": "264ff6dd-a320-4258-8438-aab7dcac114e",
   "metadata": {},
   "outputs": [],
   "source": [
    "def func_update_parameters(parameters, grads, lr):\n",
    "    \"\"\"\n",
    "    Update parameters using gradient descent\n",
    "    \n",
    "    :param parameters -- python dictionary containing your parameters \n",
    "    :param grads -- python dictionary containing your gradients, output of L_model_backward\n",
    "    :param lr: learning rate\n",
    "    :return:\n",
    "        parameters -- python dictionary containing your updated parameters \n",
    "                      parameters[\"W\" + str(l)] = ... \n",
    "                      parameters[\"b\" + str(l)] = ...\n",
    "    \"\"\"\n",
    "    L = len(parameters) // 2\n",
    "    \n",
    "    for layer in range(1, L+1):\n",
    "        parameters['W'+str(layer)] = parameters['W'+str(layer)] - lr * grads['dW' + str(layer)]\n",
    "        parameters['b'+str(layer)] = parameters['b'+str(layer)] - lr * grads['db' + str(layer)]\n",
    "    \n",
    "    return parameters"
   ]
  },
  {
   "cell_type": "markdown",
   "id": "3a5370f7-be7b-4693-b6ca-bfc4d9129aea",
   "metadata": {},
   "source": [
    "### predict"
   ]
  },
  {
   "cell_type": "code",
   "execution_count": 9,
   "id": "4b982058-d1fe-413f-84ed-d29037f86877",
   "metadata": {},
   "outputs": [],
   "source": [
    "def func_predict(X, y, parameters):\n",
    "    \"\"\"\n",
    "    This function is used to predict the results of a  L-layer neural network.\n",
    "    \n",
    "    :param X -- data set of examples you would like to label\n",
    "    :param parameters -- parameters of the trained model\n",
    "    :return:\n",
    "        p -- predictions for the given dataset X\n",
    "    \"\"\"\n",
    "    m = X.shape[1]\n",
    "    L = len(parameters) // 2\n",
    "    p = np.zeros((1, m))\n",
    "    \n",
    "    probas, caches = func_L_model_forward(X, parameters)\n",
    "    \n",
    "    for i in range(probas.shape[1]):\n",
    "        if probas[0, i] > 0.5:\n",
    "            p[0, i] = 1\n",
    "        else:\n",
    "            p[0, i] = 0\n",
    "    \n",
    "    print('acc: {}'.format(np.sum(p==y)/m))\n",
    "    return p"
   ]
  },
  {
   "cell_type": "markdown",
   "id": "5d4d6e5b-f090-4be8-b8c5-e79fe8701412",
   "metadata": {},
   "source": [
    "### dnn model"
   ]
  },
  {
   "cell_type": "code",
   "execution_count": 10,
   "id": "62da6088-65a3-4e86-9a52-45b01596944f",
   "metadata": {},
   "outputs": [],
   "source": [
    "def func_L_layer_dnn_model(X, Y, layer_dims, lr=0.001, num_epochs=10000, print_cost=False):\n",
    "    \"\"\"\n",
    "    多层神经网络模型\n",
    "    :param X:\n",
    "    :param Y:\n",
    "    :param layer_dims: python array (list) containing the dimensions of each layer in our network\n",
    "    :param lr: learning rate\n",
    "    :param num_epochs:\n",
    "    :param print_cost:\n",
    "    :return params\n",
    "    \"\"\"\n",
    "    np.random.seed(1)\n",
    "    costs = []\n",
    "#     m = X.shape[1]\n",
    "    \n",
    "    # 参数初始化\n",
    "    parameters = func_L_layers_initialize_parameters(layer_dims)\n",
    "    \n",
    "    # loop\n",
    "    for epoch in range(num_epochs):\n",
    "        # 前向传播\n",
    "        AL, caches = func_L_model_forward(X, parameters)\n",
    "        \n",
    "        # 计算损失\n",
    "        cost = func_compute_cost(AL, Y)\n",
    "        \n",
    "        # 后向传播\n",
    "        grads = func_L_model_backward(AL, Y, caches)\n",
    "\n",
    "        # 更新参数\n",
    "        parameters = func_update_parameters(parameters, grads, lr)\n",
    "        \n",
    "        # 打印信息\n",
    "        if print_cost and epoch % 100 == 0:\n",
    "            print('cost after epoch {}: {}'.format(epoch, np.squeeze(cost)))\n",
    "        if epoch % 100 == 0:\n",
    "            costs.append(cost)\n",
    "    \n",
    "    return parameters, costs"
   ]
  },
  {
   "cell_type": "markdown",
   "id": "c853af40-d55e-4479-851f-28fb7cb82482",
   "metadata": {},
   "source": [
    "## 其他通用函数"
   ]
  },
  {
   "cell_type": "code",
   "execution_count": 11,
   "id": "6d877c58-08f5-4b85-9e25-1ff6d897ff72",
   "metadata": {},
   "outputs": [],
   "source": [
    "def func_load_params_and_grads(seed=1):\n",
    "    np.random.seed(seed)\n",
    "    W1 = np.random.randn(2,3)\n",
    "    b1 = np.random.randn(2,1)\n",
    "    W2 = np.random.randn(3,3)\n",
    "    b2 = np.random.randn(3,1)\n",
    "\n",
    "    dW1 = np.random.randn(2,3)\n",
    "    db1 = np.random.randn(2,1)\n",
    "    dW2 = np.random.randn(3,3)\n",
    "    db2 = np.random.randn(3,1)\n",
    "    \n",
    "    return W1, b1, W2, b2, dW1, db1, dW2, db2\n",
    "\n",
    "\n",
    "def func_load_2D_dataset():\n",
    "    data = scipy.io.loadmat('./深度学习之吴恩达课程作业5/data.mat')\n",
    "    train_X = data['X'].T\n",
    "    train_Y = data['y'].T\n",
    "    test_X = data['Xval'].T\n",
    "    test_Y = data['yval'].T\n",
    "\n",
    "    plt.scatter(train_X[0, :], train_X[1, :], c=train_Y, s=40, cmap=plt.cm.Spectral);\n",
    "    \n",
    "    return train_X, train_Y, test_X, test_Y\n",
    "\n",
    "\n",
    "def func_plot_decision_boundary(model, X, y):\n",
    "    # Set min and max values and give it some padding\n",
    "    x_min, x_max = X[0, :].min() - 1, X[0, :].max() + 1\n",
    "    y_min, y_max = X[1, :].min() - 1, X[1, :].max() + 1\n",
    "    h = 0.01\n",
    "    # Generate a grid of points with distance h between them\n",
    "    xx, yy = np.meshgrid(np.arange(x_min, x_max, h), np.arange(y_min, y_max, h))\n",
    "    # Predict the function value for the whole grid\n",
    "    Z = model(np.c_[xx.ravel(), yy.ravel()])\n",
    "    Z = Z.reshape(xx.shape)\n",
    "    # Plot the contour and training examples\n",
    "    plt.contourf(xx, yy, Z, cmap=plt.cm.Spectral)\n",
    "    plt.ylabel('x2')\n",
    "    plt.xlabel('x1')\n",
    "    plt.scatter(X[0, :], X[1, :], c=y, cmap=plt.cm.Spectral)\n",
    "    plt.show()\n",
    "\n",
    "\n",
    "def func_predict_dec(parameters, X):\n",
    "    \"\"\"\n",
    "    Used for plotting decision boundary.\n",
    "    \n",
    "    Arguments:\n",
    "    parameters -- python dictionary containing your parameters \n",
    "    X -- input data of size (m, K)\n",
    "    \n",
    "    Returns\n",
    "    predictions -- vector of predictions of our model (red: 0 / blue: 1)\n",
    "    \"\"\"\n",
    "    \n",
    "    # Predict using forward propagation and a classification threshold of 0.5\n",
    "    AL, cache = func_L_model_forward(X, parameters)\n",
    "    predictions = (AL>0.5)\n",
    "    return predictions\n",
    "\n",
    "\n",
    "def func_load_dataset():\n",
    "    np.random.seed(3)\n",
    "    train_X, train_Y = sklearn.datasets.make_moons(n_samples=300, noise=.2) #300 #0.2 \n",
    "    # Visualize the data\n",
    "    plt.scatter(train_X[:, 0], train_X[:, 1], c=train_Y, s=40, cmap=plt.cm.Spectral);\n",
    "    train_X = train_X.T\n",
    "    train_Y = train_Y.reshape((1, train_Y.shape[0]))\n",
    "    \n",
    "    return train_X, train_Y\n",
    "\n",
    "\n",
    "def func_plot_cost(costs, lr):\n",
    "    \"\"\"\n",
    "    plot cost\n",
    "    :param costs: \n",
    "    \"\"\"\n",
    "    # plot the cost\n",
    "    plt.plot(costs)\n",
    "    plt.ylabel('cost')\n",
    "    plt.xlabel('epochs (per 100)')\n",
    "    plt.title(\"Learning rate = \" + str(lr))\n",
    "    plt.show()"
   ]
  },
  {
   "cell_type": "markdown",
   "id": "07fbbfb2-fcbf-4dbb-abdd-8f3b56f478bd",
   "metadata": {},
   "source": [
    "## 梯度下降\n",
    "\n",
    "### batch gradient descent=全量梯度下降\n",
    "* When you take gradient steps with respect to all `m` examples on each step, it is also called `Batch Gradient Descent`\n",
    "* 参数更新公式\n",
    "$$\n",
    "W^{[l]} = W^{[l]} - \\alpha \\text{ } dW^{[l]} \\\\\n",
    "b^{[l]} = b^{[l]} - \\alpha \\text{ } db^{[l]}\n",
    "$$\n",
    "\n",
    "#### overwrite update parameters"
   ]
  },
  {
   "cell_type": "code",
   "execution_count": 12,
   "id": "56c256d5-7e03-49ae-80df-ca11058394e7",
   "metadata": {},
   "outputs": [],
   "source": [
    "def func_update_parameters_with_gd(parameters, grads, lr):\n",
    "    \"\"\"\n",
    "    Update parameters using one step of gradient descent\n",
    "    \n",
    "    :param parameters -- python dictionary containing your parameters \n",
    "    :param grads -- python dictionary containing your gradients, output of L_model_backward\n",
    "    :param lr: learning rate\n",
    "    :return:\n",
    "        parameters -- python dictionary containing your updated parameters \n",
    "                      parameters[\"W\" + str(l)] = ... \n",
    "                      parameters[\"b\" + str(l)] = ...\n",
    "    \"\"\"\n",
    "    L = len(parameters) // 2\n",
    "    \n",
    "    for layer in range(1, L+1):\n",
    "        parameters['W'+str(layer)] = parameters['W'+str(layer)] - lr * grads['dW' + str(layer)]\n",
    "        parameters['b'+str(layer)] = parameters['b'+str(layer)] - lr * grads['db' + str(layer)]\n",
    "    \n",
    "    return parameters"
   ]
  },
  {
   "cell_type": "code",
   "execution_count": 13,
   "id": "32abbb7b-9cc4-4ee4-818b-f67469d947bf",
   "metadata": {},
   "outputs": [
    {
     "data": {
      "text/plain": [
       "({'W1': array([[ 1.62434536, -0.61175641, -0.52817175],\n",
       "         [-1.07296862,  0.86540763, -2.3015387 ]]),\n",
       "  'b1': array([[ 1.74481176],\n",
       "         [-0.7612069 ]]),\n",
       "  'W2': array([[ 0.3190391 , -0.24937038,  1.46210794],\n",
       "         [-2.06014071, -0.3224172 , -0.38405435],\n",
       "         [ 1.13376944, -1.09989127, -0.17242821]]),\n",
       "  'b2': array([[-0.87785842],\n",
       "         [ 0.04221375],\n",
       "         [ 0.58281521]])},\n",
       " {'dW1': array([[-1.10061918,  1.14472371,  0.90159072],\n",
       "         [ 0.50249434,  0.90085595, -0.68372786]]),\n",
       "  'db1': array([[-0.12289023],\n",
       "         [-0.93576943]]),\n",
       "  'dW2': array([[-0.26788808,  0.53035547, -0.69166075],\n",
       "         [-0.39675353, -0.6871727 , -0.84520564],\n",
       "         [-0.67124613, -0.0126646 , -1.11731035]]),\n",
       "  'db2': array([[0.2344157 ],\n",
       "         [1.65980218],\n",
       "         [0.74204416]])},\n",
       " 0.01)"
      ]
     },
     "execution_count": 13,
     "metadata": {},
     "output_type": "execute_result"
    }
   ],
   "source": [
    "parameters, grads, lr = update_parameters_with_gd_test_case()\n",
    "parameters, grads, lr"
   ]
  },
  {
   "cell_type": "code",
   "execution_count": 14,
   "id": "1ae4c91f-e0e1-447b-b4b4-c1a83ac5642e",
   "metadata": {},
   "outputs": [
    {
     "data": {
      "text/plain": [
       "{'W1': array([[ 1.63535156, -0.62320365, -0.53718766],\n",
       "        [-1.07799357,  0.85639907, -2.29470142]]),\n",
       " 'b1': array([[ 1.74604067],\n",
       "        [-0.75184921]]),\n",
       " 'W2': array([[ 0.32171798, -0.25467393,  1.46902454],\n",
       "        [-2.05617317, -0.31554548, -0.3756023 ],\n",
       "        [ 1.1404819 , -1.09976462, -0.1612551 ]]),\n",
       " 'b2': array([[-0.88020257],\n",
       "        [ 0.02561572],\n",
       "        [ 0.57539477]])}"
      ]
     },
     "execution_count": 14,
     "metadata": {},
     "output_type": "execute_result"
    }
   ],
   "source": [
    "parameters = func_update_parameters_with_gd(parameters, grads, lr)\n",
    "parameters"
   ]
  },
  {
   "cell_type": "markdown",
   "id": "d1df7f8d-e59c-49fd-9394-79c0691a11da",
   "metadata": {},
   "source": [
    "### mini batch gradient descent=小批量梯度下降\n",
    "\n",
    "* 步骤\n",
    "    1. **Shuffle**: Create a shuffled version of the training set (X, Y) as shown below. Each column of X and Y represents a training example. Note that the random shuffling is done synchronously between X and Y. Such that after the shuffling the $i^{th}$ column of X is the example corresponding to the $i^{th}$ label in Y. The shuffling step ensures that examples will be split randomly into different mini-batches. \n",
    "    \n",
    "    <img src=\"./深度学习之吴恩达课程作业5/kiank_shuffle.png\" style=\"width:550px;height:300px;\">\n",
    "\n",
    "    2. **Partition**: Partition the shuffled (X, Y) into mini-batches of size `mini_batch_size` (here 64). Note that the number of training examples is not always divisible by `mini_batch_size`. The last mini batch might be smaller, but you don't need to worry about this. When the final mini-batch is smaller than the full `mini_batch_size`, it will look like this: \n",
    "\n",
    "    <img src=\"./深度学习之吴恩达课程作业5/kiank_partition.png\" style=\"width:550px;height:300px;\">\n",
    "\n",
    "* 注意：最后一个batch可能不满batch_size\n",
    "\n",
    "#### 构建 random_mini_batches函数"
   ]
  },
  {
   "cell_type": "code",
   "execution_count": 15,
   "id": "9b71637d-1244-4780-813f-07c40a099b69",
   "metadata": {},
   "outputs": [],
   "source": [
    "def func_random_mini_batches(X, Y, batch_size=64, seed=0):\n",
    "    \"\"\"\n",
    "    Creates a list of random minibatches from (X, Y)\n",
    "    \n",
    "    :param X -- input data, of shape (input size, number of examples)\n",
    "    :param Y -- true \"label\" vector (1 for blue dot / 0 for red dot), of shape (1, number of examples)\n",
    "    :param batch_size -- size of the mini-batches, integer\n",
    "    :return mini_batches -- list of synchronous (mini_batch_X, mini_batch_Y)\n",
    "    \"\"\"\n",
    "    np.random.seed(seed)\n",
    "    m = X.shape[1]\n",
    "    mini_batches = []\n",
    "    \n",
    "    # step 1: shuffle\n",
    "    permutation = list(np.random.permutation(m))\n",
    "    shuffled_X = X[:, permutation]\n",
    "    shuffled_Y = Y[:, permutation].reshape((1, m))\n",
    "    \n",
    "    # step 2: partition\n",
    "    num_complete_minibatches = math.floor(m / batch_size)\n",
    "    for k in range(0, num_complete_minibatches):\n",
    "        mini_batch_X = shuffled_X[:, k*batch_size: (k+1)*batch_size]\n",
    "        mini_batch_Y = shuffled_Y[:, k*batch_size: (k+1)*batch_size]\n",
    "        \n",
    "        mini_batch = (mini_batch_X, mini_batch_Y)\n",
    "        mini_batches.append(mini_batch)\n",
    "    \n",
    "    if m % batch_size != 0:\n",
    "        mini_batch_X = shuffled_X[:, num_complete_minibatches*batch_size:]\n",
    "        mini_batch_Y = shuffled_Y[:, num_complete_minibatches*batch_size:]\n",
    "        \n",
    "        mini_batch = (mini_batch_X, mini_batch_Y)\n",
    "        mini_batches.append(mini_batch)\n",
    "    return mini_batches"
   ]
  },
  {
   "cell_type": "code",
   "execution_count": 16,
   "id": "a11ad66c-8d35-49a5-b736-5a977334cc82",
   "metadata": {},
   "outputs": [
    {
     "name": "stdout",
     "output_type": "stream",
     "text": [
      "shape of the 1st mini_batch_X: (12288, 64)\n",
      "shape of the 2nd mini_batch_X: (12288, 64)\n",
      "shape of the 3rd mini_batch_X: (12288, 20)\n",
      "shape of the 1st mini_batch_Y: (1, 64)\n",
      "shape of the 2nd mini_batch_Y: (1, 64)\n",
      "shape of the 3rd mini_batch_Y: (1, 20)\n",
      "mini batch sanity check: [ 0.90085595 -0.7612069   0.2344157 ]\n"
     ]
    }
   ],
   "source": [
    "X_assess, Y_assess, mini_batch_size = random_mini_batches_test_case()\n",
    "mini_batches = func_random_mini_batches(X_assess, Y_assess, mini_batch_size)\n",
    "\n",
    "print (\"shape of the 1st mini_batch_X: \" + str(mini_batches[0][0].shape))\n",
    "print (\"shape of the 2nd mini_batch_X: \" + str(mini_batches[1][0].shape))\n",
    "print (\"shape of the 3rd mini_batch_X: \" + str(mini_batches[2][0].shape))\n",
    "print (\"shape of the 1st mini_batch_Y: \" + str(mini_batches[0][1].shape))\n",
    "print (\"shape of the 2nd mini_batch_Y: \" + str(mini_batches[1][1].shape)) \n",
    "print (\"shape of the 3rd mini_batch_Y: \" + str(mini_batches[2][1].shape))\n",
    "print (\"mini batch sanity check: \" + str(mini_batches[0][0][0][0:3]))"
   ]
  },
  {
   "cell_type": "markdown",
   "id": "7eafda4e-1edb-4038-9afc-f692ffe0fd38",
   "metadata": {},
   "source": [
    "### Stochastic Gradient Descent=随机梯度下降\n",
    "\n",
    "A variant of this is Stochastic Gradient Descent (SGD), which is equivalent to mini-batch gradient descent where each mini-batch has just 1 example. The update rule that you have just implemented does not change. What changes is that you would be computing gradients on just one training example at a time, rather than on the whole training set. The code examples below illustrate the difference between stochastic gradient descent and (batch) gradient descent.\n",
    "\n",
    "* 具体过程\n",
    "\n",
    "```python\n",
    "X = data_input\n",
    "Y = labels\n",
    "parameters = func_initialize_parameters(layer_dims)\n",
    "m = X.shape[1]\n",
    "\n",
    "for i in range(epochs):\n",
    "    for j in range(m):\n",
    "        a, caches = func_forward_propagation(X[:, j], parameters)  # 每次只用一个样本\n",
    "        cost = func_compute_cost(a, Y[:, j])\n",
    "        grads = func_backward_propagation(a, caches, parameters)\n",
    "        parameters = func_update_parameters(parameters, grads)\n",
    "```\n",
    "\n",
    "In Stochastic Gradient Descent, you use only 1 training example before updating the gradients. When the training set is large, SGD can be faster. But the parameters will \"oscillate\"(振荡) toward the minimum rather than converge smoothly. Here is an illustration of this:\n",
    "\n",
    "<img src=\"./深度学习之吴恩达课程作业5/kiank_sgd.png\" style=\"width:750px;height:250px;\">\n",
    "<caption><center> <u> <font color='purple'> **Figure 1** </u><font color='purple'>  : **SGD vs GD**<br> \"+\" denotes a minimum of the cost. SGD leads to many oscillations to reach convergence. But each step is a lot faster to compute for SGD than for GD, as it uses only one training example (vs. the whole batch for GD). </center></caption>\n",
    "\n",
    "**Note** also that implementing SGD requires 3 for-loops in total:\n",
    "1. Over the number of iterations\n",
    "2. Over the $m$ training examples\n",
    "3. Over the layers (to update all parameters, from $(W^{[1]},b^{[1]})$ to $(W^{[L]},b^{[L]})$)\n",
    "\n",
    "In practice, you'll often get faster results if you do not use neither the whole training set, nor only one training example, to perform each update. Mini-batch gradient descent uses an intermediate number of examples for each step. With mini-batch gradient descent, you loop over the mini-batches instead of looping over individual training examples.\n",
    "\n",
    "<img src=\"./深度学习之吴恩达课程作业5/kiank_minibatch.png\" style=\"width:750px;height:250px;\">\n",
    "<caption><center> <u> <font color='purple'> **Figure 2** </u>: <font color='purple'>  **SGD vs Mini-Batch GD**<br> \"+\" denotes a minimum of the cost. Using mini-batches in your optimization algorithm often leads to faster optimization. </center></caption>\n",
    "\n",
    "<font color='blue'>\n",
    "\n",
    "**What you should remember**:\n",
    "- The difference between gradient descent, mini-batch gradient descent and stochastic gradient descent is the number of examples you use to perform one update step.\n",
    "- You have to tune a learning rate hyperparameter $\\alpha$.\n",
    "- With a well-turned mini-batch size, usually it outperforms either gradient descent or stochastic gradient descent (particularly when the training set is large).\n",
    "\n",
    "选定一个良好的批量值，通常由于梯度下降和随机梯度下降"
   ]
  },
  {
   "cell_type": "markdown",
   "id": "d0e21152-1da4-4489-8d99-403a20c7514b",
   "metadata": {},
   "source": [
    "## 梯度下降with Momentum\n",
    "\n",
    "Because mini-batch gradient descent makes a parameter update after seeing just a subset of examples, the direction of the update has some variance, and so the path taken by mini-batch gradient descent will \"oscillate\" toward convergence. Using momentum can reduce these oscillations.(用Momentum可以减小这样的振荡)\n",
    "\n",
    "Momentum takes into account the past gradients to smooth out the update. We will store the 'direction' of the previous gradients in the variable $v$ (会考虑前面的梯度值). Formally, this will be the exponentially weighted average of the gradient on previous steps. You can also think of $v$ as the \"velocity\" of a ball rolling downhill, building up speed (and momentum) according to the direction of the gradient/slope of the hill. \n",
    "\n",
    "<img src=\"./深度学习之吴恩达课程作业5/opt_momentum.png\" style=\"width:400px;height:250px;\">\n",
    "<caption><center> <u><font color='purple'>**Figure 3**</u><font color='purple'>: The red arrows shows the direction taken by one step of mini-batch gradient descent with momentum. The blue points show the direction of the gradient (with respect to the current mini-batch) on each step. Rather than just following the gradient, we let the gradient influence $v$ and then take a step in the direction of $v$.<br> <font color='black'> </center>\n",
    "\n",
    "计算公式如下\n",
    "\n",
    "The momentum update rule is, for $l = 1, ..., L$: \n",
    "\n",
    "$$ \\begin{cases}\n",
    "v_{dW^{[l]}} = \\beta v_{dW^{[l]}} + (1 - \\beta) dW^{[l]} \\\\\n",
    "W^{[l]} = W^{[l]} - \\alpha v_{dW^{[l]}}\n",
    "\\end{cases}\\tag{3}$$\n",
    "\n",
    "$$\\begin{cases}\n",
    "v_{db^{[l]}} = \\beta v_{db^{[l]}} + (1 - \\beta) db^{[l]} \\\\\n",
    "b^{[l]} = b^{[l]} - \\alpha v_{db^{[l]}} \n",
    "\\end{cases}\\tag{4}$$\n",
    "\n",
    "where L is the number of layers, $\\beta$ is the momentum and $\\alpha$ is the learning rate. All parameters should be stored in the `parameters` dictionary.\n",
    "\n",
    "**Note** that:\n",
    "- The velocity is initialized with zeros. So the algorithm will take a few iterations to \"build up\" velocity and start to take bigger steps.\n",
    "- If $\\beta = 0$, then this just becomes standard gradient descent without momentum. \n",
    "\n",
    "**How do you choose $\\beta$?**\n",
    "\n",
    "- The larger the momentum $\\beta$ is, the smoother the update because the more we take the past gradients into account. But if $\\beta$ is too big, it could also smooth out the updates too much. \n",
    "- <font size=3 color=red>Common values for $\\beta$ range from 0.8 to 0.999. If you don't feel inclined to tune this, $\\beta = 0.9$ is often a reasonable default. </font>\n",
    "- Tuning the optimal $\\beta$ for your model might need trying several values to see what works best in term of reducing the value of the cost function $J$. \n",
    "\n",
    "<font color='blue'>\n",
    "\n",
    "**What you should remember**:\n",
    "- Momentum takes past gradients into account to smooth out the steps of gradient descent. It can be applied with batch gradient descent, mini-batch gradient descent or stochastic gradient descent.\n",
    "- You have to tune a momentum hyperparameter $\\beta$ and a learning rate $\\alpha$."
   ]
  },
  {
   "cell_type": "markdown",
   "id": "a40e381b-55d7-4042-a34b-c12fa817c987",
   "metadata": {},
   "source": [
    "### initialize velocity"
   ]
  },
  {
   "cell_type": "code",
   "execution_count": 17,
   "id": "8dac1303-1b59-4966-ae31-61b27a7c2407",
   "metadata": {},
   "outputs": [],
   "source": [
    "def func_initialize_velocity(parameters):\n",
    "    \"\"\"\n",
    "    initialize velocity\n",
    "    :param parameters:\n",
    "    :return v: python dictionary containing the current velocity.\n",
    "                v['dW' + str(l)] = velocity of dWl\n",
    "                v['db' + str(l)] = velocity of dbl\n",
    "    \"\"\"\n",
    "    L = len(parameters) // 2\n",
    "    v = {}\n",
    "    \n",
    "    for layer in range(1, L+1):\n",
    "        # Return an array of zeros with the same shape and type as a given array\n",
    "        v['dW' + str(layer)] = np.zeros_like(parameters['W' + str(layer)])\n",
    "        v['db' + str(layer)] = np.zeros_like(parameters['b' + str(layer)])\n",
    "    \n",
    "    return v"
   ]
  },
  {
   "cell_type": "code",
   "execution_count": 18,
   "id": "857b0426-82bf-4390-ab6e-47a679cb4fb6",
   "metadata": {},
   "outputs": [
    {
     "data": {
      "text/plain": [
       "{'W1': array([[ 1.62434536, -0.61175641, -0.52817175],\n",
       "        [-1.07296862,  0.86540763, -2.3015387 ]]),\n",
       " 'b1': array([[ 1.74481176],\n",
       "        [-0.7612069 ]]),\n",
       " 'W2': array([[ 0.3190391 , -0.24937038,  1.46210794],\n",
       "        [-2.06014071, -0.3224172 , -0.38405435],\n",
       "        [ 1.13376944, -1.09989127, -0.17242821]]),\n",
       " 'b2': array([[-0.87785842],\n",
       "        [ 0.04221375],\n",
       "        [ 0.58281521]])}"
      ]
     },
     "execution_count": 18,
     "metadata": {},
     "output_type": "execute_result"
    }
   ],
   "source": [
    "parameters = initialize_velocity_test_case()\n",
    "parameters"
   ]
  },
  {
   "cell_type": "code",
   "execution_count": 19,
   "id": "0b3aaea5-5e8c-4ab4-b716-6e1d57557829",
   "metadata": {},
   "outputs": [
    {
     "data": {
      "text/plain": [
       "{'dW1': array([[0., 0., 0.],\n",
       "        [0., 0., 0.]]),\n",
       " 'db1': array([[0.],\n",
       "        [0.]]),\n",
       " 'dW2': array([[0., 0., 0.],\n",
       "        [0., 0., 0.],\n",
       "        [0., 0., 0.]]),\n",
       " 'db2': array([[0.],\n",
       "        [0.],\n",
       "        [0.]])}"
      ]
     },
     "execution_count": 19,
     "metadata": {},
     "output_type": "execute_result"
    }
   ],
   "source": [
    "v = func_initialize_velocity(parameters)\n",
    "v"
   ]
  },
  {
   "cell_type": "markdown",
   "id": "b82f505d-4b8c-440d-8db4-52ca7be3bcb9",
   "metadata": {},
   "source": [
    "### overwrite update parameters"
   ]
  },
  {
   "cell_type": "code",
   "execution_count": 20,
   "id": "8ef59c29-eb8e-4649-9083-902ad351cdef",
   "metadata": {},
   "outputs": [],
   "source": [
    "def func_update_parameters_with_momentum(parameters, grads, v, beta, lr):\n",
    "    \"\"\"\n",
    "    Update parameters using gradient descent\n",
    "    \n",
    "    :param parameters -- python dictionary containing your parameters \n",
    "    :param grads -- python dictionary containing your gradients, output of L_model_backward\n",
    "    :param v -- python dictionary containing the current velocity\n",
    "    :param beta -- the momentum hyperparameter, scalar\n",
    "    :param lr: learning rate\n",
    "    :return:\n",
    "        parameters -- python dictionary containing your updated parameters \n",
    "                      parameters[\"W\" + str(l)] = ... \n",
    "                      parameters[\"b\" + str(l)] = ...\n",
    "    \"\"\"\n",
    "    L = len(parameters) // 2\n",
    "    \n",
    "    for layer in range(1, L+1):\n",
    "        v['dW' + str(layer)] = beta * v['dW' + str(layer)] + (1-beta) * grads['dW' + str(layer)]\n",
    "        v['db' + str(layer)] = beta * v['db' + str(layer)] + (1-beta) * grads['db' + str(layer)]\n",
    "        \n",
    "        parameters['W'+str(layer)] = parameters['W'+str(layer)] - lr * v['dW' + str(layer)]\n",
    "        parameters['b'+str(layer)] = parameters['b'+str(layer)] - lr * v['db' + str(layer)]\n",
    "    \n",
    "    return parameters, v"
   ]
  },
  {
   "cell_type": "code",
   "execution_count": 21,
   "id": "baebecf8-8e26-4976-a6d5-c1caf4de993a",
   "metadata": {},
   "outputs": [
    {
     "data": {
      "text/plain": [
       "({'W1': array([[ 1.62434536, -0.61175641, -0.52817175],\n",
       "         [-1.07296862,  0.86540763, -2.3015387 ]]),\n",
       "  'b1': array([[ 1.74481176],\n",
       "         [-0.7612069 ]]),\n",
       "  'W2': array([[ 0.3190391 , -0.24937038,  1.46210794],\n",
       "         [-2.06014071, -0.3224172 , -0.38405435],\n",
       "         [ 1.13376944, -1.09989127, -0.17242821]]),\n",
       "  'b2': array([[-0.87785842],\n",
       "         [ 0.04221375],\n",
       "         [ 0.58281521]])},\n",
       " {'dW1': array([[-1.10061918,  1.14472371,  0.90159072],\n",
       "         [ 0.50249434,  0.90085595, -0.68372786]]),\n",
       "  'db1': array([[-0.12289023],\n",
       "         [-0.93576943]]),\n",
       "  'dW2': array([[-0.26788808,  0.53035547, -0.69166075],\n",
       "         [-0.39675353, -0.6871727 , -0.84520564],\n",
       "         [-0.67124613, -0.0126646 , -1.11731035]]),\n",
       "  'db2': array([[0.2344157 ],\n",
       "         [1.65980218],\n",
       "         [0.74204416]])},\n",
       " {'dW1': array([[0., 0., 0.],\n",
       "         [0., 0., 0.]]),\n",
       "  'dW2': array([[0., 0., 0.],\n",
       "         [0., 0., 0.],\n",
       "         [0., 0., 0.]]),\n",
       "  'db1': array([[0.],\n",
       "         [0.]]),\n",
       "  'db2': array([[0.],\n",
       "         [0.],\n",
       "         [0.]])})"
      ]
     },
     "execution_count": 21,
     "metadata": {},
     "output_type": "execute_result"
    }
   ],
   "source": [
    "parameters, grads, v = update_parameters_with_momentum_test_case()\n",
    "parameters, grads, v"
   ]
  },
  {
   "cell_type": "code",
   "execution_count": 22,
   "id": "529f6644-4157-4204-825d-10df413e05b4",
   "metadata": {},
   "outputs": [
    {
     "data": {
      "text/plain": [
       "{'W1': array([[ 1.62544598, -0.61290114, -0.52907334],\n",
       "        [-1.07347112,  0.86450677, -2.30085497]]),\n",
       " 'b1': array([[ 1.74493465],\n",
       "        [-0.76027113]]),\n",
       " 'W2': array([[ 0.31930698, -0.24990073,  1.4627996 ],\n",
       "        [-2.05974396, -0.32173003, -0.38320915],\n",
       "        [ 1.13444069, -1.0998786 , -0.1713109 ]]),\n",
       " 'b2': array([[-0.87809283],\n",
       "        [ 0.04055394],\n",
       "        [ 0.58207317]])}"
      ]
     },
     "execution_count": 22,
     "metadata": {},
     "output_type": "execute_result"
    }
   ],
   "source": [
    "beta = 0.9\n",
    "lr = 0.01\n",
    "parameters, v = func_update_parameters_with_momentum(parameters, grads, v, beta, lr)\n",
    "parameters"
   ]
  },
  {
   "cell_type": "markdown",
   "id": "58e93e0b-3e05-487b-b497-3608cbccaf66",
   "metadata": {},
   "source": [
    "## 梯度下降 with adam\n",
    "\n",
    "Adam算法是训练神经网络最有效的优化算法之一。它结合了RMSProp和Momentum的想法\n",
    "\n",
    "计算步骤如下：\n",
    "1. It calculates an exponentially weighted average of past gradients, and stores it in variables $v$ (before bias correction) and $v^{corrected}$ (with bias correction). \n",
    "2. It calculates an exponentially weighted average of the squares of the past gradients, and  stores it in variables $s$ (before bias correction) and $s^{corrected}$ (with bias correction). \n",
    "3. It updates parameters in a direction based on combining information from \"1\" and \"2\".\n",
    "\n",
    "计算公式如下：\n",
    "\n",
    "$$\n",
    "\\begin{cases}\n",
    "v_{dW^{[l]}} = \\beta_1 v_{dW^{[l]}} + (1 - \\beta_1) \\frac{\\partial \\mathcal{J} }{ \\partial W^{[l]} } \\\\\n",
    "v^{corrected}_{dW^{[l]}} = \\frac{v_{dW^{[l]}}}{1 - (\\beta_1)^t} \\\\\n",
    "s_{dW^{[l]}} = \\beta_2 s_{dW^{[l]}} + (1 - \\beta_2) (\\frac{\\partial \\mathcal{J} }{\\partial W^{[l]} })^2 \\\\\n",
    "s^{corrected}_{dW^{[l]}} = \\frac{s_{dW^{[l]}}}{1 - (\\beta_1)^t} \\\\\n",
    "W^{[l]} = W^{[l]} - \\alpha \\frac{v^{corrected}_{dW^{[l]}}}{\\sqrt{s^{corrected}_{dW^{[l]}}} + \\varepsilon}\n",
    "\\end{cases}\n",
    "$$\n",
    "where:\n",
    "- t counts the number of steps taken of Adam \n",
    "- L is the number of layers\n",
    "- $\\beta_1$ and $\\beta_2$ are hyperparameters that control the two exponentially weighted averages. \n",
    "- $\\alpha$ is the learning rate\n",
    "- $\\varepsilon$ is a very small number to avoid dividing by zero\n",
    "\n",
    "<font color='blue' size=3>\n",
    "\n",
    "超参数一般设定：\n",
    "1. $\\beta_1$=0.9\n",
    "2. $\\beta_2$=0.999\n",
    "3. $\\varepsilon = 1e-10$\n",
    "</font>"
   ]
  },
  {
   "cell_type": "markdown",
   "id": "0d58a423-97d9-4bfa-bfd3-51fc22c1861d",
   "metadata": {},
   "source": [
    "### initialize adam"
   ]
  },
  {
   "cell_type": "code",
   "execution_count": 23,
   "id": "68c3037c-8054-4cf6-aa0c-cc7ff83c247c",
   "metadata": {},
   "outputs": [],
   "source": [
    "def func_initialize_adam(parameters):\n",
    "    \"\"\"\n",
    "    Initializes v and s as two python dictionaries with:\n",
    "                - keys: \"dW1\", \"db1\", ..., \"dWL\", \"dbL\" \n",
    "                - values: numpy arrays of zeros of the same shape as the corresponding gradients/parameters.\n",
    "    \n",
    "    Arguments:\n",
    "    parameters -- python dictionary containing your parameters.\n",
    "                    parameters[\"W\" + str(l)] = Wl\n",
    "                    parameters[\"b\" + str(l)] = bl\n",
    "    \n",
    "    Returns: \n",
    "    v -- python dictionary that will contain the exponentially weighted average of the gradient.\n",
    "                    v[\"dW\" + str(l)] = ...\n",
    "                    v[\"db\" + str(l)] = ...\n",
    "    s -- python dictionary that will contain the exponentially weighted average of the squared gradient.\n",
    "                    s[\"dW\" + str(l)] = ...\n",
    "                    s[\"db\" + str(l)] = ...\n",
    "    \"\"\"\n",
    "    L = len(parameters) // 2\n",
    "    v = {}\n",
    "    s = {}\n",
    "    \n",
    "    for layer in range(1, L+1):\n",
    "        v['dW'+str(layer)] = np.zeros_like(parameters['W'+str(layer)])\n",
    "        v['db'+str(layer)] = np.zeros_like(parameters['b'+str(layer)])\n",
    "        s['dW'+str(layer)] = np.zeros_like(parameters['W'+str(layer)])\n",
    "        s['db'+str(layer)] = np.zeros_like(parameters['b'+str(layer)])\n",
    "    \n",
    "    return v, s"
   ]
  },
  {
   "cell_type": "code",
   "execution_count": 24,
   "id": "945fb284-5e3b-4f95-8499-78fedfebb354",
   "metadata": {},
   "outputs": [
    {
     "data": {
      "text/plain": [
       "{'W1': array([[ 1.62434536, -0.61175641, -0.52817175],\n",
       "        [-1.07296862,  0.86540763, -2.3015387 ]]),\n",
       " 'b1': array([[ 1.74481176],\n",
       "        [-0.7612069 ]]),\n",
       " 'W2': array([[ 0.3190391 , -0.24937038,  1.46210794],\n",
       "        [-2.06014071, -0.3224172 , -0.38405435],\n",
       "        [ 1.13376944, -1.09989127, -0.17242821]]),\n",
       " 'b2': array([[-0.87785842],\n",
       "        [ 0.04221375],\n",
       "        [ 0.58281521]])}"
      ]
     },
     "execution_count": 24,
     "metadata": {},
     "output_type": "execute_result"
    }
   ],
   "source": [
    "parameters = initialize_adam_test_case()\n",
    "parameters"
   ]
  },
  {
   "cell_type": "code",
   "execution_count": 25,
   "id": "c8d5f19d-3c12-49f5-9a65-d25162aa7cdc",
   "metadata": {},
   "outputs": [
    {
     "data": {
      "text/plain": [
       "({'dW1': array([[0., 0., 0.],\n",
       "         [0., 0., 0.]]),\n",
       "  'db1': array([[0.],\n",
       "         [0.]]),\n",
       "  'dW2': array([[0., 0., 0.],\n",
       "         [0., 0., 0.],\n",
       "         [0., 0., 0.]]),\n",
       "  'db2': array([[0.],\n",
       "         [0.],\n",
       "         [0.]])},\n",
       " {'dW1': array([[0., 0., 0.],\n",
       "         [0., 0., 0.]]),\n",
       "  'db1': array([[0.],\n",
       "         [0.]]),\n",
       "  'dW2': array([[0., 0., 0.],\n",
       "         [0., 0., 0.],\n",
       "         [0., 0., 0.]]),\n",
       "  'db2': array([[0.],\n",
       "         [0.],\n",
       "         [0.]])})"
      ]
     },
     "execution_count": 25,
     "metadata": {},
     "output_type": "execute_result"
    }
   ],
   "source": [
    "v, s = func_initialize_adam(parameters)\n",
    "v, s"
   ]
  },
  {
   "cell_type": "markdown",
   "id": "53e01555-6fcb-4680-a7b2-a37b66626450",
   "metadata": {},
   "source": [
    "### overwrite update parameters"
   ]
  },
  {
   "cell_type": "code",
   "execution_count": 26,
   "id": "25532ea9-0dff-499c-b908-a14ccb693bf0",
   "metadata": {},
   "outputs": [],
   "source": [
    "def func_update_parameters_with_adam(parameters, grads, v, s, t, lr=0.01, beta1=0.9, beta2=0.999, epsilon=1e-8):\n",
    "    \"\"\"\n",
    "    Update parameters using Adam\n",
    "    \n",
    "    Arguments:\n",
    "    parameters -- python dictionary containing your parameters:\n",
    "                    parameters['W' + str(l)] = Wl\n",
    "                    parameters['b' + str(l)] = bl\n",
    "    grads -- python dictionary containing your gradients for each parameters:\n",
    "                    grads['dW' + str(l)] = dWl\n",
    "                    grads['db' + str(l)] = dbl\n",
    "    v -- Adam variable, moving average of the first gradient, python dictionary\n",
    "    s -- Adam variable, moving average of the squared gradient, python dictionary\n",
    "    t -- epoch\n",
    "    learning_rate -- the learning rate, scalar.\n",
    "    beta1 -- Exponential decay hyperparameter for the first moment estimates \n",
    "    beta2 -- Exponential decay hyperparameter for the second moment estimates \n",
    "    epsilon -- hyperparameter preventing division by zero in Adam updates\n",
    "\n",
    "    Returns:\n",
    "    parameters -- python dictionary containing your updated parameters \n",
    "    v -- Adam variable, moving average of the first gradient, python dictionary\n",
    "    s -- Adam variable, moving average of the squared gradient, python dictionary\n",
    "    \"\"\"\n",
    "    L = len(parameters) // 2\n",
    "    v_corrected = {}\n",
    "    s_corrected = {}\n",
    "    \n",
    "    for layer in range(1, L+1):\n",
    "        v['dW'+str(layer)] = beta1 * v['dW'+str(layer)] + (1-beta1)*grads['dW'+str(layer)]\n",
    "        v['db'+str(layer)] = beta1 * v['db'+str(layer)] + (1-beta1)*grads['db'+str(layer)]\n",
    "        \n",
    "        s['dW'+str(layer)] = beta2 * s['dW'+str(layer)] + (1-beta2)*np.square(grads['dW'+str(layer)])\n",
    "        s['db'+str(layer)] = beta2 * s['db'+str(layer)] + (1-beta2)*np.square(grads['db'+str(layer)])\n",
    "        \n",
    "        v_corrected['dW'+str(layer)] = v['dW'+str(layer)] / (1-pow(beta1, t))\n",
    "        v_corrected['db'+str(layer)] = v['db'+str(layer)] / (1-pow(beta1, t))\n",
    "        \n",
    "        s_corrected['dW'+str(layer)] = s['dW'+str(layer)] / (1-pow(beta2, t))\n",
    "        s_corrected['db'+str(layer)] = s['db'+str(layer)] / (1-pow(beta2, t))\n",
    "        \n",
    "        parameters['W'+str(layer)] = parameters['W'+str(layer)] - lr * v_corrected['dW'+str(layer)] / (np.sqrt(s_corrected['dW'+str(layer)]) + epsilon)\n",
    "        parameters['b'+str(layer)] = parameters['b'+str(layer)] - lr * v_corrected['db'+str(layer)] / (np.sqrt(s_corrected['db'+str(layer)]) + epsilon)\n",
    "    \n",
    "    return parameters, v, s"
   ]
  },
  {
   "cell_type": "code",
   "execution_count": 27,
   "id": "e877eb4c-f3a8-45da-af37-84657d599aeb",
   "metadata": {},
   "outputs": [
    {
     "data": {
      "text/plain": [
       "({'W1': array([[ 1.62434536, -0.61175641, -0.52817175],\n",
       "         [-1.07296862,  0.86540763, -2.3015387 ]]),\n",
       "  'b1': array([[ 1.74481176],\n",
       "         [-0.7612069 ]]),\n",
       "  'W2': array([[ 0.3190391 , -0.24937038,  1.46210794],\n",
       "         [-2.06014071, -0.3224172 , -0.38405435],\n",
       "         [ 1.13376944, -1.09989127, -0.17242821]]),\n",
       "  'b2': array([[-0.87785842],\n",
       "         [ 0.04221375],\n",
       "         [ 0.58281521]])},\n",
       " {'dW1': array([[-1.10061918,  1.14472371,  0.90159072],\n",
       "         [ 0.50249434,  0.90085595, -0.68372786]]),\n",
       "  'db1': array([[-0.12289023],\n",
       "         [-0.93576943]]),\n",
       "  'dW2': array([[-0.26788808,  0.53035547, -0.69166075],\n",
       "         [-0.39675353, -0.6871727 , -0.84520564],\n",
       "         [-0.67124613, -0.0126646 , -1.11731035]]),\n",
       "  'db2': array([[0.2344157 ],\n",
       "         [1.65980218],\n",
       "         [0.74204416]])},\n",
       " {'dW1': array([[0., 0., 0.],\n",
       "         [0., 0., 0.]]),\n",
       "  'dW2': array([[0., 0., 0.],\n",
       "         [0., 0., 0.],\n",
       "         [0., 0., 0.]]),\n",
       "  'db1': array([[0.],\n",
       "         [0.]]),\n",
       "  'db2': array([[0.],\n",
       "         [0.],\n",
       "         [0.]])},\n",
       " {'dW1': array([[0., 0., 0.],\n",
       "         [0., 0., 0.]]),\n",
       "  'dW2': array([[0., 0., 0.],\n",
       "         [0., 0., 0.],\n",
       "         [0., 0., 0.]]),\n",
       "  'db1': array([[0.],\n",
       "         [0.]]),\n",
       "  'db2': array([[0.],\n",
       "         [0.],\n",
       "         [0.]])})"
      ]
     },
     "execution_count": 27,
     "metadata": {},
     "output_type": "execute_result"
    }
   ],
   "source": [
    "parameters, grads, v, s = update_parameters_with_adam_test_case()\n",
    "parameters, grads, v, s"
   ]
  },
  {
   "cell_type": "code",
   "execution_count": 28,
   "id": "8c558a0d-87da-40b5-a324-9032f3487ab5",
   "metadata": {},
   "outputs": [
    {
     "data": {
      "text/plain": [
       "({'W1': array([[ 1.63178673, -0.61919778, -0.53561312],\n",
       "         [-1.08040999,  0.85796626, -2.29409733]]),\n",
       "  'b1': array([[ 1.75225313],\n",
       "         [-0.75376553]]),\n",
       "  'W2': array([[ 0.32648046, -0.25681174,  1.46954931],\n",
       "         [-2.05269934, -0.31497584, -0.37661299],\n",
       "         [ 1.14121081, -1.09244991, -0.16498684]]),\n",
       "  'b2': array([[-0.88529979],\n",
       "         [ 0.03477238],\n",
       "         [ 0.57537385]])},\n",
       " {'dW1': array([[-0.11006192,  0.11447237,  0.09015907],\n",
       "         [ 0.05024943,  0.09008559, -0.06837279]]),\n",
       "  'dW2': array([[-0.02678881,  0.05303555, -0.06916608],\n",
       "         [-0.03967535, -0.06871727, -0.08452056],\n",
       "         [-0.06712461, -0.00126646, -0.11173103]]),\n",
       "  'db1': array([[-0.01228902],\n",
       "         [-0.09357694]]),\n",
       "  'db2': array([[0.02344157],\n",
       "         [0.16598022],\n",
       "         [0.07420442]])},\n",
       " {'dW1': array([[0.00121136, 0.00131039, 0.00081287],\n",
       "         [0.0002525 , 0.00081154, 0.00046748]]),\n",
       "  'dW2': array([[7.17640232e-05, 2.81276921e-04, 4.78394595e-04],\n",
       "         [1.57413361e-04, 4.72206320e-04, 7.14372576e-04],\n",
       "         [4.50571368e-04, 1.60392066e-07, 1.24838242e-03]]),\n",
       "  'db1': array([[1.51020075e-05],\n",
       "         [8.75664434e-04]]),\n",
       "  'db2': array([[5.49507194e-05],\n",
       "         [2.75494327e-03],\n",
       "         [5.50629536e-04]])})"
      ]
     },
     "execution_count": 28,
     "metadata": {},
     "output_type": "execute_result"
    }
   ],
   "source": [
    "parameters, v, s = func_update_parameters_with_adam(parameters, grads, v, s, t=2, lr=0.01, beta1=0.9, beta2=0.999, epsilon=1e-8)\n",
    "parameters, v, s"
   ]
  },
  {
   "cell_type": "markdown",
   "id": "08edaf3a-1adf-4987-bb88-a753c63b360a",
   "metadata": {},
   "source": [
    "## model with different optimization algorithms=使用不同优化算法的模型"
   ]
  },
  {
   "cell_type": "markdown",
   "id": "d40d7d1c-f87c-4bcb-89a5-8fcd3cbc5fb4",
   "metadata": {},
   "source": [
    "### load moon dataset"
   ]
  },
  {
   "cell_type": "code",
   "execution_count": 29,
   "id": "b7ea8eb9-0450-4d75-b72a-934fa2a94680",
   "metadata": {},
   "outputs": [
    {
     "data": {
      "image/png": "[encoded data removed]",
      "text/plain": [
       "<Figure size 504x288 with 1 Axes>"
      ]
     },
     "metadata": {
      "needs_background": "light"
     },
     "output_type": "display_data"
    }
   ],
   "source": [
    "train_X, train_Y = func_load_dataset()"
   ]
  },
  {
   "cell_type": "markdown",
   "id": "2c6d6b65-1125-4d59-be8b-018b2e30adb7",
   "metadata": {},
   "source": [
    "### overwrite dnn model\n",
    "用以下三种方式：\n",
    "- Mini-batch **Gradient Descent**: it will call your function:\n",
    "    - `update_parameters_with_gd()`\n",
    "- Mini-batch **Momentum**: it will call your functions:\n",
    "    - `initialize_velocity()` and `update_parameters_with_momentum()`\n",
    "- Mini-batch **Adam**: it will call your functions:\n",
    "    - `initialize_adam()` and `update_parameters_with_adam()`"
   ]
  },
  {
   "cell_type": "code",
   "execution_count": 30,
   "id": "190c376f-6f45-41b3-b0af-8269587f2e3a",
   "metadata": {},
   "outputs": [],
   "source": [
    "def func_L_layer_dnn_model(X, Y, layer_dims, optimizer, lr=0.0007, mini_batch_size=64, beta=0.9,\n",
    "                           beta1=0.9, beta2=0.999, epsilon=1e-8, num_epochs=10000, print_cost=True):\n",
    "    \"\"\"\n",
    "    多层神经网络模型\n",
    "    Arguments:\n",
    "    X -- input data, of shape (2, number of examples)\n",
    "    Y -- true \"label\" vector (1 for blue dot / 0 for red dot), of shape (1, number of examples)\n",
    "    layers_dims -- python list, containing the size of each layer\n",
    "    learning_rate -- the learning rate, scalar.\n",
    "    mini_batch_size -- the size of a mini batch\n",
    "    beta -- Momentum hyperparameter\n",
    "    beta1 -- Exponential decay hyperparameter for the past gradients estimates \n",
    "    beta2 -- Exponential decay hyperparameter for the past squared gradients estimates \n",
    "    epsilon -- hyperparameter preventing division by zero in Adam updates\n",
    "    num_epochs -- number of epochs\n",
    "    print_cost -- True to print the cost every 1000 epochs\n",
    "\n",
    "    Returns:\n",
    "    parameters -- python dictionary containing your updated parameters \n",
    "    \"\"\"\n",
    "    seed = 10\n",
    "#     np.random.seed(seed)\n",
    "    L = len(layer_dims)\n",
    "    t = 0\n",
    "    costs = []\n",
    "#     m = X.shape[1]\n",
    "    \n",
    "    # 参数初始化\n",
    "    parameters = func_L_layers_initialize_parameters(layer_dims, seed=3)\n",
    "    \n",
    "    # initialize the optimizer\n",
    "    if optimizer == 'gd':\n",
    "        pass\n",
    "    elif optimizer == 'momentum':\n",
    "        v = func_initialize_velocity(parameters)\n",
    "    elif optimizer == 'adam':\n",
    "        v, s = func_initialize_adam(parameters)\n",
    "    else:\n",
    "        raise ValueError('error optimizer setting!')\n",
    "    \n",
    "    # loop\n",
    "    for epoch in range(num_epochs):\n",
    "        \n",
    "        # 每个epoch随机生成minibatch\n",
    "        seed += 1\n",
    "        mini_batches = func_random_mini_batches(X, Y, mini_batch_size, seed)\n",
    "        \n",
    "        for mini_batch in mini_batches:\n",
    "            (mini_batch_X, mini_batch_Y) = mini_batch\n",
    "        \n",
    "            # 前向传播\n",
    "            AL, caches = func_L_model_forward(mini_batch_X, parameters)\n",
    "\n",
    "            # 计算损失\n",
    "            cost = func_compute_cost(AL, mini_batch_Y)\n",
    "\n",
    "            # 后向传播\n",
    "            grads = func_L_model_backward(AL, mini_batch_Y, caches)\n",
    "\n",
    "            # 更新参数\n",
    "            if optimizer == 'gd':\n",
    "                parameters = func_update_parameters(parameters, grads, lr)\n",
    "            elif optimizer == 'momentum':\n",
    "                parameters, v = func_update_parameters_with_momentum(parameters, grads, v, beta, lr)\n",
    "            elif optimizer == 'adam':\n",
    "                t += 1\n",
    "                parameters, v, s = func_update_parameters_with_adam(parameters, grads, v, s, t, lr, beta1, beta2, epsilon)\n",
    "        \n",
    "        # 打印信息\n",
    "        if print_cost and epoch % 1000 == 0:\n",
    "            print('cost after epoch {}: {}'.format(epoch, np.squeeze(cost)))\n",
    "        if epoch % 100 == 0:\n",
    "            costs.append(cost)\n",
    "    \n",
    "    return parameters, costs"
   ]
  },
  {
   "cell_type": "markdown",
   "id": "18b6f667-8828-4318-89c7-02053e541335",
   "metadata": {},
   "source": [
    "### mini-batch gradient descent"
   ]
  },
  {
   "cell_type": "code",
   "execution_count": 31,
   "id": "aaea7dc1-bd49-4d9d-8c1b-ff6829777b87",
   "metadata": {},
   "outputs": [],
   "source": [
    "layer_dims = [train_X.shape[0], 5, 2, 1]\n",
    "lr=0.0007"
   ]
  },
  {
   "cell_type": "code",
   "execution_count": 32,
   "id": "d297d562-7589-4647-bcbc-9bc504f47ff3",
   "metadata": {},
   "outputs": [
    {
     "name": "stdout",
     "output_type": "stream",
     "text": [
      "cost after epoch 0: 0.6907355122911127\n",
      "cost after epoch 1000: 0.6852725328458241\n",
      "cost after epoch 2000: 0.6470722240719001\n",
      "cost after epoch 3000: 0.6195245549970403\n",
      "cost after epoch 4000: 0.5765844355950943\n",
      "cost after epoch 5000: 0.6072426395968578\n",
      "cost after epoch 6000: 0.5294033317684573\n",
      "cost after epoch 7000: 0.4607682398593011\n",
      "cost after epoch 8000: 0.465586082399045\n",
      "cost after epoch 9000: 0.46451797221676827\n"
     ]
    },
    {
     "data": {
      "image/png": "[encoded data removed]",
      "text/plain": [
       "<Figure size 504x288 with 1 Axes>"
      ]
     },
     "metadata": {
      "needs_background": "light"
     },
     "output_type": "display_data"
    }
   ],
   "source": [
    "parameters, costs = func_L_layer_dnn_model(train_X, train_Y, layer_dims, optimizer='gd', lr=lr)\n",
    "func_plot_cost(costs, lr=lr)"
   ]
  },
  {
   "cell_type": "code",
   "execution_count": 33,
   "id": "4aed8055-a636-43fa-b23b-20a38b75e3b1",
   "metadata": {},
   "outputs": [
    {
     "name": "stdout",
     "output_type": "stream",
     "text": [
      "acc: 0.7966666666666666\n"
     ]
    },
    {
     "data": {
      "image/png": "[encoded data removed]",
      "text/plain": [
       "<Figure size 504x288 with 1 Axes>"
      ]
     },
     "metadata": {
      "needs_background": "light"
     },
     "output_type": "display_data"
    }
   ],
   "source": [
    "pred = func_predict(train_X, train_Y, parameters)\n",
    "\n",
    "# Plot decision boundary\n",
    "plt.title(\"Model with Gradient Descent optimization\")\n",
    "axes = plt.gca()\n",
    "axes.set_xlim([-1.5,2.5])\n",
    "axes.set_ylim([-1,1.5])\n",
    "func_plot_decision_boundary(lambda x: func_predict_dec(parameters, x.T), train_X, train_Y)"
   ]
  },
  {
   "cell_type": "markdown",
   "id": "86cdaaa9-ac1f-42af-9148-9ccbdde31ee6",
   "metadata": {},
   "source": [
    "### mini-batch gradient descent with momentum"
   ]
  },
  {
   "cell_type": "code",
   "execution_count": 34,
   "id": "a71c4e2e-a143-4a21-b222-437a36f1f133",
   "metadata": {},
   "outputs": [],
   "source": [
    "layer_dims = [train_X.shape[0], 5, 2, 1]\n",
    "lr=0.0007"
   ]
  },
  {
   "cell_type": "code",
   "execution_count": 35,
   "id": "df99543d-9639-4d30-b8c5-4526681a4b43",
   "metadata": {},
   "outputs": [
    {
     "name": "stdout",
     "output_type": "stream",
     "text": [
      "cost after epoch 0: 0.6907412988351506\n",
      "cost after epoch 1000: 0.6853405261267576\n",
      "cost after epoch 2000: 0.6471448370095255\n",
      "cost after epoch 3000: 0.6195943032076023\n",
      "cost after epoch 4000: 0.576665034407302\n",
      "cost after epoch 5000: 0.607323821900647\n",
      "cost after epoch 6000: 0.5294761758786997\n",
      "cost after epoch 7000: 0.46093619004872377\n",
      "cost after epoch 8000: 0.4657800937012721\n",
      "cost after epoch 9000: 0.4647395967922749\n"
     ]
    },
    {
     "data": {
      "image/png": "[encoded data removed]",
      "text/plain": [
       "<Figure size 504x288 with 1 Axes>"
      ]
     },
     "metadata": {
      "needs_background": "light"
     },
     "output_type": "display_data"
    }
   ],
   "source": [
    "parameters, costs = func_L_layer_dnn_model(train_X, train_Y, layer_dims, optimizer='momentum', lr=lr)\n",
    "func_plot_cost(costs, lr=lr)"
   ]
  },
  {
   "cell_type": "code",
   "execution_count": 36,
   "id": "149d425c-7736-4432-8d52-b29627109062",
   "metadata": {},
   "outputs": [
    {
     "name": "stdout",
     "output_type": "stream",
     "text": [
      "acc: 0.7966666666666666\n"
     ]
    },
    {
     "data": {
      "image/png": "[encoded data removed]",
      "text/plain": [
       "<Figure size 504x288 with 1 Axes>"
      ]
     },
     "metadata": {
      "needs_background": "light"
     },
     "output_type": "display_data"
    }
   ],
   "source": [
    "pred = func_predict(train_X, train_Y, parameters)\n",
    "\n",
    "# Plot decision boundary\n",
    "plt.title(\"Model with momentum\")\n",
    "axes = plt.gca()\n",
    "axes.set_xlim([-1.5,2.5])\n",
    "axes.set_ylim([-1,1.5])\n",
    "func_plot_decision_boundary(lambda x: func_predict_dec(parameters, x.T), train_X, train_Y)"
   ]
  },
  {
   "cell_type": "markdown",
   "id": "d86ef6e8-20c2-44d8-8e50-2fca59564924",
   "metadata": {},
   "source": [
    "### mini-batch with adam"
   ]
  },
  {
   "cell_type": "code",
   "execution_count": 37,
   "id": "5cc521b9-f708-488b-a78f-286dea3d6015",
   "metadata": {},
   "outputs": [],
   "source": [
    "layer_dims = [train_X.shape[0], 5, 2, 1]\n",
    "lr=0.0007"
   ]
  },
  {
   "cell_type": "code",
   "execution_count": 38,
   "id": "ed1b7bb1-e4a3-4109-8d4d-45d3d7df4668",
   "metadata": {},
   "outputs": [
    {
     "name": "stdout",
     "output_type": "stream",
     "text": [
      "cost after epoch 0: 0.6905522282919487\n",
      "cost after epoch 1000: 0.1855671862856554\n",
      "cost after epoch 2000: 0.15085206145242497\n",
      "cost after epoch 3000: 0.0744535775981412\n",
      "cost after epoch 4000: 0.1259357502178564\n",
      "cost after epoch 5000: 0.10423511812705896\n",
      "cost after epoch 6000: 0.10055245705694958\n",
      "cost after epoch 7000: 0.031601421955873635\n",
      "cost after epoch 8000: 0.11170898323416338\n",
      "cost after epoch 9000: 0.19764808192436198\n"
     ]
    },
    {
     "data": {
      "image/png": "[encoded data removed]",
      "text/plain": [
       "<Figure size 504x288 with 1 Axes>"
      ]
     },
     "metadata": {
      "needs_background": "light"
     },
     "output_type": "display_data"
    }
   ],
   "source": [
    "parameters, costs = func_L_layer_dnn_model(train_X, train_Y, layer_dims, optimizer='adam', lr=lr)\n",
    "func_plot_cost(costs, lr=lr)"
   ]
  },
  {
   "cell_type": "code",
   "execution_count": 39,
   "id": "924d35e4-0095-48fc-b186-020ad6cf69bf",
   "metadata": {},
   "outputs": [
    {
     "name": "stdout",
     "output_type": "stream",
     "text": [
      "acc: 0.94\n"
     ]
    },
    {
     "data": {
      "image/png": "[encoded data removed]",
      "text/plain": [
       "<Figure size 504x288 with 1 Axes>"
      ]
     },
     "metadata": {
      "needs_background": "light"
     },
     "output_type": "display_data"
    }
   ],
   "source": [
    "pred = func_predict(train_X, train_Y, parameters)\n",
    "\n",
    "# Plot decision boundary\n",
    "plt.title(\"Model with adam\")\n",
    "axes = plt.gca()\n",
    "axes.set_xlim([-1.5,2.5])\n",
    "axes.set_ylim([-1,1.5])\n",
    "func_plot_decision_boundary(lambda x: func_predict_dec(parameters, x.T), train_X, train_Y)"
   ]
  },
  {
   "cell_type": "markdown",
   "id": "ad51ab67-5525-4919-8e6c-05ec085017f9",
   "metadata": {},
   "source": [
    "## 总结\n",
    "\n",
    "1. momentum是有效的，但是对较小的lr和小数据集，影响甚微\n",
    "2. adam收敛更快，通常表现很好（不怎么调参（除了lr）的情况下）"
   ]
  },
  {
   "cell_type": "code",
   "execution_count": null,
   "id": "f26532ac-fc59-47f2-b203-1fb6ca3f9fcc",
   "metadata": {},
   "outputs": [],
   "source": []
  }
 ],
 "metadata": {
  "kernelspec": {
   "display_name": "tensorflow",
   "language": "python",
   "name": "tensorflow"
  },
  "language_info": {
   "codemirror_mode": {
    "name": "ipython",
    "version": 3
   },
   "file_extension": ".py",
   "mimetype": "text/x-python",
   "name": "python",
   "nbconvert_exporter": "python",
   "pygments_lexer": "ipython3",
   "version": "3.8.12"
  }
 },
 "nbformat": 4,
 "nbformat_minor": 5
}
