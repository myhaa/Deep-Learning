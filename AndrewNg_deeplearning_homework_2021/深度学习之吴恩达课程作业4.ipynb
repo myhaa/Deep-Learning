{
 "cells": [
  {
   "cell_type": "markdown",
   "id": "cca890ef-c2d6-47f0-a922-a20b85a9bf96",
   "metadata": {},
   "source": [
    "# 吴恩达深度学习课程作业L2W5\n",
    "\n",
    "* Improving Deep Neural Networks\n",
    "* 加强深度网络性能的一些技巧\n",
    "* 参数初始化技巧\n",
    "* 正则化技巧，l2, dropout\n",
    "* 梯度检验\n",
    "\n",
    "## HW参考\n",
    "\n",
    "1. [视频链接](https://mooc.study.163.com/university/deeplearning_ai#/c)\n",
    "2. [作业链接](https://github.com/suqi/deeplearning_andrewng/tree/master/Course2-DL-tuning/week5)\n",
    "\n",
    "## 注意使用numpy的问题：\n",
    "\n",
    "1. [RuntimeWarning: divide by zero encountered in log](https://stackoverflow.com/questions/21610198/runtimewarning-divide-by-zero-encountered-in-log)\n",
    "2. [numpy: Invalid value encountered in true_divide](https://stackoverflow.com/questions/27842884/numpy-invalid-value-encountered-in-true-divide)"
   ]
  },
  {
   "cell_type": "markdown",
   "id": "a9b7a1d2-5f65-4986-8c84-c3699dd4441a",
   "metadata": {},
   "source": [
    "## 导入模块"
   ]
  },
  {
   "cell_type": "code",
   "execution_count": 1,
   "id": "d57ecbad-5d1e-47ae-9f61-b53d040d74b8",
   "metadata": {},
   "outputs": [],
   "source": [
    "import numpy as np\n",
    "import matplotlib.pyplot as plt\n",
    "import h5py\n",
    "import scipy\n",
    "import sklearn\n",
    "import sklearn.datasets\n",
    "import copy\n",
    "\n",
    "%matplotlib inline\n",
    "plt.rcParams['figure.figsize'] = (7.0, 4.0)\n",
    "plt.rcParams['image.interpolation'] = 'nearest'\n",
    "plt.rcParams['image.cmap'] = 'gray'"
   ]
  },
  {
   "cell_type": "markdown",
   "id": "4863ba8d-a5ba-4a56-b759-a971f45ae30e",
   "metadata": {},
   "source": [
    "## 神经网络结构封装\n",
    "\n",
    "### 激活函数"
   ]
  },
  {
   "cell_type": "code",
   "execution_count": 2,
   "id": "e32bcad5-56b2-4ff4-a14c-53b951c634d2",
   "metadata": {},
   "outputs": [],
   "source": [
    "def func_sigmoid(Z):\n",
    "    \"\"\"\n",
    "    Implements the sigmoid activation in numpy\n",
    "    \n",
    "    Arguments:\n",
    "    Z -- numpy array of any shape\n",
    "    \n",
    "    Returns:\n",
    "    A -- output of sigmoid(z), same shape as Z\n",
    "    cache -- returns Z as well, useful during backpropagation\n",
    "    \"\"\"\n",
    "    \n",
    "    A = 1/(1+np.exp(-Z))\n",
    "    cache = Z\n",
    "    \n",
    "    return A, cache\n",
    "\n",
    "def func_relu(Z):\n",
    "    \"\"\"\n",
    "    Implement the RELU function.\n",
    "\n",
    "    Arguments:\n",
    "    Z -- Output of the linear layer, of any shape\n",
    "\n",
    "    Returns:\n",
    "    A -- Post-activation parameter, of the same shape as Z\n",
    "    cache -- a python dictionary containing \"A\" ; stored for computing the backward pass efficiently\n",
    "    \"\"\"\n",
    "    \n",
    "    A = np.maximum(0,Z)\n",
    "    \n",
    "    assert(A.shape == Z.shape)\n",
    "    \n",
    "    cache = Z \n",
    "    return A, cache\n",
    "\n",
    "\n",
    "def func_relu_backward(dA, cache):\n",
    "    \"\"\"\n",
    "    Implement the backward propagation for a single RELU unit.\n",
    "\n",
    "    Arguments:\n",
    "    dA -- post-activation gradient, of any shape\n",
    "    cache -- 'Z' where we store for computing backward propagation efficiently\n",
    "\n",
    "    Returns:\n",
    "    dZ -- Gradient of the cost with respect to Z\n",
    "    \"\"\"\n",
    "    \n",
    "    Z = cache\n",
    "    dZ = np.array(dA, copy=True) # just converting dz to a correct object.\n",
    "    \n",
    "    # When z <= 0, you should set dz to 0 as well. \n",
    "    dZ[Z <= 0] = 0\n",
    "    \n",
    "    assert (dZ.shape == Z.shape)\n",
    "    \n",
    "    return dZ\n",
    "\n",
    "def func_sigmoid_backward(dA, cache):\n",
    "    \"\"\"\n",
    "    Implement the backward propagation for a single SIGMOID unit.\n",
    "\n",
    "    Arguments:\n",
    "    dA -- post-activation gradient, of any shape\n",
    "    cache -- 'Z' where we store for computing backward propagation efficiently\n",
    "\n",
    "    Returns:\n",
    "    dZ -- Gradient of the cost with respect to Z\n",
    "    \"\"\"\n",
    "    \n",
    "    Z = cache\n",
    "    \n",
    "    s = 1/(1+np.exp(-Z))\n",
    "    dZ = dA * s * (1-s)\n",
    "    \n",
    "    assert (dZ.shape == Z.shape)\n",
    "    \n",
    "    return dZ"
   ]
  },
  {
   "cell_type": "markdown",
   "id": "9047f913-1863-403f-a706-481d16b3749c",
   "metadata": {},
   "source": [
    "### 参数初始化"
   ]
  },
  {
   "cell_type": "code",
   "execution_count": 3,
   "id": "6719cffa-7a4b-4d09-9424-64385e84de87",
   "metadata": {},
   "outputs": [],
   "source": [
    "def func_L_layers_initialize_parameters(layer_dims, seed=1):\n",
    "    \"\"\"\n",
    "    L层神经网络参数初始化\n",
    "    :param layer_dims: python array (list) containing the dimensions of each layer in our network\n",
    "    :param seed: 随机种子\n",
    "    :return: \n",
    "        parameters -- python dictionary containing your parameters \"W1\", \"b1\", ..., \"WL\", \"bL\":\n",
    "        Wl -- weight matrix of shape (layer_dims[l], layer_dims[l-1])\n",
    "        bl -- bias vector of shape (layer_dims[l], 1)\n",
    "    \"\"\"\n",
    "    np.random.seed(seed)\n",
    "    parameters = {}\n",
    "    L = len(layer_dims)\n",
    "    \n",
    "    # 这里/ np.sqrt(layer_dims[layer-1])很重要，如果还是*0.01，会导致模型cost降不下去\n",
    "    for layer in range(1, L):\n",
    "        parameters['W' + str(layer)] = np.random.randn(layer_dims[layer], layer_dims[layer-1]) / np.sqrt(layer_dims[layer-1]) # * 0.01\n",
    "        parameters['b' + str(layer)] = np.zeros((layer_dims[layer], 1))\n",
    "        \n",
    "        assert(parameters['W' + str(layer)].shape == (layer_dims[layer], layer_dims[layer-1]))\n",
    "        assert(parameters['b' + str(layer)].shape == (layer_dims[layer], 1))\n",
    "    return parameters"
   ]
  },
  {
   "cell_type": "markdown",
   "id": "9982b57f-756e-4a0f-b4ab-923a8b0d541d",
   "metadata": {},
   "source": [
    "### forward"
   ]
  },
  {
   "cell_type": "code",
   "execution_count": 4,
   "id": "6f130045-816b-4dc2-b42b-fd3dabb74708",
   "metadata": {},
   "outputs": [],
   "source": [
    "def func_linear_forward(A, W, b):\n",
    "    \"\"\"\n",
    "    linear forward\n",
    "    :param A:\n",
    "    :param W:\n",
    "    :param b:\n",
    "    :return Z,chche:\n",
    "        Z -- the input of the activation function, also called pre-activation parameter \n",
    "        cache -- a python dictionary containing \"A\", \"W\" and \"b\" ; stored for computing the backward pass efficiently\n",
    "    \"\"\"\n",
    "    Z = np.dot(W, A) + b\n",
    "    \n",
    "    assert(Z.shape == (W.shape[0], A.shape[1]))\n",
    "    cache = (A, W, b)\n",
    "    return Z, cache\n",
    "\n",
    "def func_linear_activation_forward(A_prev, W, b, activation):\n",
    "    \"\"\"\n",
    "    Implement the forward propagation for the LINEAR->ACTIVATION layer\n",
    "    :param A_prev: activations from previous layer (or input data): (size of previous layer, number of examples)\n",
    "    :param W: weights matrix: numpy array of shape (size of current layer, size of previous layer)\n",
    "    :param b: bias vector, numpy array of shape (size of the current layer, 1)\n",
    "    :param activation: the activation to be used in this layer, stored as a text string: \"sigmoid\" or \"relu\"\n",
    "    :return:\n",
    "        A -- the output of the activation function, also called the post-activation value \n",
    "        cache -- a python dictionary containing \"linear_cache\" and \"activation_cache\";\n",
    "                 stored for computing the backward pass efficiently\n",
    "    \"\"\"\n",
    "    Z, linear_cache = func_linear_forward(A_prev, W, b)\n",
    "    if activation == 'sigmoid':\n",
    "        A, activation_cache = func_sigmoid(Z)\n",
    "    elif activation == 'relu':\n",
    "        A, activation_cache = func_relu(Z)\n",
    "    else:\n",
    "        raise ValueError('activation param')\n",
    "    \n",
    "    assert(A.shape == (W.shape[0], A_prev.shape[1]))\n",
    "    cache = (linear_cache, activation_cache)\n",
    "    return A, cache\n",
    "\n",
    "def func_L_model_forward(X, parameters):\n",
    "    \"\"\"\n",
    "    Implement forward propagation for the [LINEAR->RELU]*(L-1)->LINEAR->SIGMOID computation\n",
    "    \n",
    "    :param X -- data, numpy array of shape (input size, number of examples)\n",
    "    :param parameters -- output of initialize_parameters_deep()\n",
    "    \n",
    "    :return:\n",
    "        AL -- last post-activation value\n",
    "        caches -- list of caches containing:\n",
    "                    every cache of linear_relu_forward() (there are L-1 of them, indexed from 0 to L-2)\n",
    "                    the cache of linear_sigmoid_forward() (there is one, indexed L-1)\n",
    "    \"\"\"\n",
    "    caches = []\n",
    "    A = X\n",
    "    L = len(parameters) // 2\n",
    "    \n",
    "    for layer in range(1, L):\n",
    "        A_prev = A\n",
    "        W, b = parameters['W'+str(layer)], parameters['b'+str(layer)]\n",
    "        A, cache = func_linear_activation_forward(A_prev, W, b, 'relu')\n",
    "        caches.append(cache)\n",
    "    \n",
    "    A_prev = A\n",
    "    layer = L\n",
    "    W, b = parameters['W'+str(layer)], parameters['b'+str(layer)]\n",
    "    A, cache = func_linear_activation_forward(A_prev, W, b, 'sigmoid')\n",
    "    caches.append(cache)\n",
    "    \n",
    "    assert(A.shape == (1, X.shape[1]))\n",
    "    return A, caches"
   ]
  },
  {
   "cell_type": "markdown",
   "id": "5881bc15-a73e-4c95-9e64-c121ac2573e6",
   "metadata": {},
   "source": [
    "### compute cost"
   ]
  },
  {
   "cell_type": "code",
   "execution_count": 5,
   "id": "9554c8b6-25d8-43c1-889e-5f0bd171103c",
   "metadata": {},
   "outputs": [],
   "source": [
    "def func_compute_cost(AL, Y):\n",
    "    \"\"\"\n",
    "    Implement the cost function defined by equation (7).\n",
    "\n",
    "    :param AL -- probability vector corresponding to your label predictions, shape (1, number of examples)\n",
    "    :param Y -- true \"label\" vector (for example: containing 0 if non-cat, 1 if cat), shape (1, number of examples)\n",
    "\n",
    "    :return:\n",
    "        cost -- cross-entropy cost\n",
    "    \"\"\"\n",
    "    m = Y.shape[1]\n",
    "    \n",
    "    # todo RuntimeWarning: divide by zero encountered in log\n",
    "    AL = np.clip(AL, 1e-10, 1-1e-10)\n",
    "    \n",
    "#     Compute loss from aL and y.\n",
    "\n",
    "#     logprobs = np.multiply(-np.log(AL), Y) + np.multiply(-np.log(1 - AL), 1 - Y)\n",
    "#     cost = 1./m * np.nansum(logprobs)\n",
    "\n",
    "#     cost = -1 / m * np.sum(np.multiply(Y, np.log(AL))+np.multiply(1-Y, np.log(1-AL)))\n",
    "    cost = (1./m) * (-np.dot(Y,np.log(AL).T) - np.dot(1-Y, np.log(1-AL).T))\n",
    "    \n",
    "    cost = np.squeeze(cost)      # To make sure your cost's shape is what we expect (e.g. this turns [[17]] into 17).\n",
    "    \n",
    "    assert(cost.shape == ())\n",
    "    return cost"
   ]
  },
  {
   "cell_type": "markdown",
   "id": "d9e26284-2e30-4b6a-af55-c130ad071b10",
   "metadata": {},
   "source": [
    "### backward"
   ]
  },
  {
   "cell_type": "code",
   "execution_count": 6,
   "id": "582fadb7-34f9-4d03-8542-a79ff5fba1cb",
   "metadata": {},
   "outputs": [],
   "source": [
    "def func_linear_backward(dZ, cache):\n",
    "    \"\"\"\n",
    "    Implement the linear portion of backward propagation for a single layer (layer l)\n",
    "\n",
    "    :param dZ -- Gradient of the cost with respect to the linear output (of current layer l)\n",
    "    :param cache -- tuple of values (A_prev, W, b) coming from the forward propagation in the current layer\n",
    "\n",
    "    :return:\n",
    "        dA_prev -- Gradient of the cost with respect to the activation (of the previous layer l-1), same shape as A_prev\n",
    "        dW -- Gradient of the cost with respect to W (current layer l), same shape as W\n",
    "        db -- Gradient of the cost with respect to b (current layer l), same shape as b\n",
    "    \"\"\"\n",
    "    A_prev, W, b = cache\n",
    "    m = A_prev.shape[1]\n",
    "    \n",
    "    dW = 1. / m * np.dot(dZ, A_prev.T)\n",
    "    db = 1. / m * np.sum(dZ, axis=1, keepdims=True)  # axis=1是行记录求和\n",
    "    dA_prev = np.dot(W.T, dZ)\n",
    "    \n",
    "    assert(dW.shape == W.shape)\n",
    "    assert(db.shape == b.shape)\n",
    "    assert(dA_prev.shape == A_prev.shape)\n",
    "    return dA_prev, dW, db\n",
    "\n",
    "def func_linear_activation_backward(dA, cache, activation):\n",
    "    \"\"\"\n",
    "    Implement the backward propagation for the LINEAR->ACTIVATION layer.\n",
    "    \n",
    "    :param dA -- post-activation gradient for current layer l \n",
    "    :param cache -- tuple of values (linear_cache, activation_cache) we store for computing backward propagation efficiently\n",
    "    :param activation -- the activation to be used in this layer, stored as a text string: \"sigmoid\" or \"relu\"\n",
    "    \n",
    "    :returns\n",
    "        dA_prev -- Gradient of the cost with respect to the activation (of the previous layer l-1), same shape as A_prev\n",
    "        dW -- Gradient of the cost with respect to W (current layer l), same shape as W\n",
    "        db -- Gradient of the cost with respect to b (current layer l), same shape as b\n",
    "    \"\"\"\n",
    "    linear_cache, activation_cache = cache\n",
    "    \n",
    "    if activation == 'relu':\n",
    "        dZ = func_relu_backward(dA, activation_cache)\n",
    "    elif activation == 'sigmoid':\n",
    "        dZ = func_sigmoid_backward(dA, activation_cache)\n",
    "    else:\n",
    "        raise ValueError('activation param')\n",
    "    dA_prev, dW, db = func_linear_backward(dZ, linear_cache)\n",
    "    return dA_prev, dW, db\n",
    "\n",
    "def func_L_model_backward(AL, Y, caches):\n",
    "    \"\"\"\n",
    "    Implement the backward propagation for the [LINEAR->RELU] * (L-1) -> LINEAR -> SIGMOID group\n",
    "    \n",
    "    :param AL -- probability vector, output of the forward propagation (L_model_forward())\n",
    "    :param Y -- true \"label\" vector (containing 0 if non-cat, 1 if cat)\n",
    "    :param caches -- list of caches containing:\n",
    "                    every cache of linear_activation_forward() with \"relu\" (it's caches[l], for l in range(L-1) i.e l = 0...L-2)\n",
    "                    the cache of linear_activation_forward() with \"sigmoid\" (it's caches[L-1])\n",
    "    \n",
    "    :return:\n",
    "        grads -- A dictionary with the gradients\n",
    "                 grads[\"dA\" + str(l)] = ... \n",
    "                 grads[\"dW\" + str(l)] = ...\n",
    "                 grads[\"db\" + str(l)] = ... \n",
    "    \"\"\"\n",
    "    grads = {}\n",
    "    L = len(caches)\n",
    "    m = AL.shape[1]\n",
    "    Y = Y.reshape(AL.shape)\n",
    "    \n",
    "    # todo divide by zero encountered in true_divide\n",
    "    dAL = - (np.divide(Y, AL, where=AL!=0) - np.divide(1-Y, 1-AL, where=(1-AL)!=0))\n",
    "#     dAL = - (np.divide(Y, AL) - np.divide(1-Y, 1-AL))\n",
    "    \n",
    "    cur_cache = caches[L-1]\n",
    "    grads['dA' + str(L-1)], grads['dW'+str(L)], grads['db'+str(L)] = func_linear_activation_backward(dAL, cur_cache, activation='sigmoid')\n",
    "    \n",
    "    for layer in reversed(range(L-1)):\n",
    "        cur_cache = caches[layer]\n",
    "        dA_prev_tmp, dW_tmp, db_tmp = func_linear_activation_backward(grads[\"dA\"+str(layer+1)], cur_cache, activation='relu')\n",
    "        grads['dA'+str(layer)] = dA_prev_tmp\n",
    "        grads['dW'+str(layer+1)] = dW_tmp\n",
    "        grads['db'+str(layer+1)] = db_tmp\n",
    "    \n",
    "#     current_cache = caches[L-1]\n",
    "#     grads[\"dA\" + str(L)], grads[\"dW\" + str(L)], grads[\"db\" + str(L)] = func_linear_activation_backward(dAL, current_cache, activation = \"sigmoid\")\n",
    "    \n",
    "#     for l in reversed(range(L-1)):\n",
    "#         # lth layer: (RELU -> LINEAR) gradients.\n",
    "#         current_cache = caches[l]\n",
    "#         dA_prev_temp, dW_temp, db_temp = func_linear_activation_backward(grads[\"dA\" + str(l + 2)], current_cache, activation = \"relu\")\n",
    "#         grads[\"dA\" + str(l + 1)] = dA_prev_temp\n",
    "#         grads[\"dW\" + str(l + 1)] = dW_temp\n",
    "#         grads[\"db\" + str(l + 1)] = db_temp\n",
    "    \n",
    "    return grads"
   ]
  },
  {
   "cell_type": "markdown",
   "id": "d4b17939-6b42-467a-a892-2c555575b6bb",
   "metadata": {},
   "source": [
    "### update parameters"
   ]
  },
  {
   "cell_type": "code",
   "execution_count": 7,
   "id": "3d310191-71f4-4d58-9cd3-2ed3b31a491f",
   "metadata": {},
   "outputs": [],
   "source": [
    "def func_update_parameters(parameters, grads, lr):\n",
    "    \"\"\"\n",
    "    Update parameters using gradient descent\n",
    "    \n",
    "    :param parameters -- python dictionary containing your parameters \n",
    "    :param grads -- python dictionary containing your gradients, output of L_model_backward\n",
    "    :param lr: learning rate\n",
    "    :return:\n",
    "        parameters -- python dictionary containing your updated parameters \n",
    "                      parameters[\"W\" + str(l)] = ... \n",
    "                      parameters[\"b\" + str(l)] = ...\n",
    "    \"\"\"\n",
    "    L = len(parameters) // 2\n",
    "    \n",
    "    for layer in range(1, L+1):\n",
    "        parameters['W'+str(layer)] = parameters['W'+str(layer)] - lr * grads['dW' + str(layer)]\n",
    "        parameters['b'+str(layer)] = parameters['b'+str(layer)] - lr * grads['db' + str(layer)]\n",
    "    \n",
    "    return parameters"
   ]
  },
  {
   "cell_type": "markdown",
   "id": "c6403f4a-4014-4180-92fe-63b9f6493ee8",
   "metadata": {},
   "source": [
    "### predict"
   ]
  },
  {
   "cell_type": "code",
   "execution_count": 8,
   "id": "ee490de7-de5c-4e95-9fb1-8471d4aa334b",
   "metadata": {},
   "outputs": [],
   "source": [
    "def func_predict(X, y, parameters):\n",
    "    \"\"\"\n",
    "    This function is used to predict the results of a  L-layer neural network.\n",
    "    \n",
    "    :param X -- data set of examples you would like to label\n",
    "    :param parameters -- parameters of the trained model\n",
    "    :return:\n",
    "        p -- predictions for the given dataset X\n",
    "    \"\"\"\n",
    "    m = X.shape[1]\n",
    "    L = len(parameters) // 2\n",
    "    p = np.zeros((1, m))\n",
    "    \n",
    "    probas, caches = func_L_model_forward(X, parameters)\n",
    "    \n",
    "    for i in range(probas.shape[1]):\n",
    "        if probas[0, i] > 0.5:\n",
    "            p[0, i] = 1\n",
    "        else:\n",
    "            p[0, i] = 0\n",
    "    \n",
    "    print('acc: {}'.format(np.sum(p==y)/m))\n",
    "    return p"
   ]
  },
  {
   "cell_type": "markdown",
   "id": "963f4545-9158-42d6-afd1-e2068c3478ee",
   "metadata": {},
   "source": [
    "### dnn model"
   ]
  },
  {
   "cell_type": "code",
   "execution_count": 9,
   "id": "53678303-d9f1-435b-8679-3977846ba99a",
   "metadata": {},
   "outputs": [],
   "source": [
    "def func_L_layer_dnn_model(X, Y, layer_dims, lr=0.001, num_epochs=10000, print_cost=False):\n",
    "    \"\"\"\n",
    "    多层神经网络模型\n",
    "    :param X:\n",
    "    :param Y:\n",
    "    :param layer_dims: python array (list) containing the dimensions of each layer in our network\n",
    "    :param lr: learning rate\n",
    "    :param num_epochs:\n",
    "    :param print_cost:\n",
    "    :return params\n",
    "    \"\"\"\n",
    "    np.random.seed(1)\n",
    "    costs = []\n",
    "#     m = X.shape[1]\n",
    "    \n",
    "    # 参数初始化\n",
    "    parameters = func_L_layers_initialize_parameters(layer_dims)\n",
    "    \n",
    "    # loop\n",
    "    for epoch in range(num_epochs):\n",
    "        # 前向传播\n",
    "        AL, caches = func_L_model_forward(X, parameters)\n",
    "        \n",
    "        # 计算损失\n",
    "        cost = func_compute_cost(AL, Y)\n",
    "        \n",
    "        # 后向传播\n",
    "        grads = func_L_model_backward(AL, Y, caches)\n",
    "\n",
    "        # 更新参数\n",
    "        parameters = func_update_parameters(parameters, grads, lr)\n",
    "        \n",
    "        # 打印信息\n",
    "        if print_cost and epoch % 100 == 0:\n",
    "            print('cost after epoch {}: {}'.format(epoch, np.squeeze(cost)))\n",
    "        if epoch % 100 == 0:\n",
    "            costs.append(cost)\n",
    "    \n",
    "    return parameters, costs"
   ]
  },
  {
   "cell_type": "markdown",
   "id": "1ac335d3-5024-4cbe-8203-2434351d2812",
   "metadata": {},
   "source": [
    "## 其他通用函数"
   ]
  },
  {
   "cell_type": "code",
   "execution_count": 10,
   "id": "31d8f4e0-1dee-4c5b-8ea7-85bc950fe237",
   "metadata": {},
   "outputs": [],
   "source": [
    "def load_cat_dataset():\n",
    "    train_dataset = h5py.File('./深度学习之吴恩达课程作业1/train_catvnoncat.h5', \"r\")\n",
    "    train_set_x_orig = np.array(train_dataset[\"train_set_x\"][:]) # your train set features\n",
    "    train_set_y_orig = np.array(train_dataset[\"train_set_y\"][:]) # your train set labels\n",
    "\n",
    "    test_dataset = h5py.File('./深度学习之吴恩达课程作业1/test_catvnoncat.h5', \"r\")\n",
    "    test_set_x_orig = np.array(test_dataset[\"test_set_x\"][:]) # your test set features\n",
    "    test_set_y_orig = np.array(test_dataset[\"test_set_y\"][:]) # your test set labels\n",
    "\n",
    "    classes = np.array(test_dataset[\"list_classes\"][:]) # the list of classes\n",
    "    \n",
    "    train_set_y = train_set_y_orig.reshape((1, train_set_y_orig.shape[0]))\n",
    "    test_set_y = test_set_y_orig.reshape((1, test_set_y_orig.shape[0]))\n",
    "    \n",
    "    train_set_x_orig = train_set_x_orig.reshape(train_set_x_orig.shape[0], -1).T\n",
    "    test_set_x_orig = test_set_x_orig.reshape(test_set_x_orig.shape[0], -1).T\n",
    "    \n",
    "    train_set_x = train_set_x_orig/255\n",
    "    test_set_x = test_set_x_orig/255\n",
    "\n",
    "    return train_set_x, train_set_y, test_set_x, test_set_y, classes"
   ]
  },
  {
   "cell_type": "code",
   "execution_count": 11,
   "id": "5a034060-b28c-42ed-9871-087890b1e858",
   "metadata": {},
   "outputs": [],
   "source": [
    "def load_dataset():\n",
    "    np.random.seed(1)\n",
    "    train_X, train_Y = sklearn.datasets.make_circles(n_samples=300, noise=.05)\n",
    "    np.random.seed(2)\n",
    "    test_X, test_Y = sklearn.datasets.make_circles(n_samples=100, noise=.05)\n",
    "    # Visualize the data\n",
    "    plt.scatter(train_X[:, 0], train_X[:, 1], c=train_Y, s=40, cmap=plt.cm.Spectral);\n",
    "    train_X = train_X.T\n",
    "    train_Y = train_Y.reshape((1, train_Y.shape[0]))\n",
    "    test_X = test_X.T\n",
    "    test_Y = test_Y.reshape((1, test_Y.shape[0]))\n",
    "    return train_X, train_Y, test_X, test_Y"
   ]
  },
  {
   "cell_type": "code",
   "execution_count": 12,
   "id": "b2aebe71-75ae-4fdb-b17e-4287e47ec821",
   "metadata": {},
   "outputs": [],
   "source": [
    "def load_planar_dataset(seed):\n",
    "    \n",
    "    np.random.seed(seed)\n",
    "    \n",
    "    m = 400 # number of examples\n",
    "    N = int(m/2) # number of points per class\n",
    "    D = 2 # dimensionality\n",
    "    X = np.zeros((m,D)) # data matrix where each row is a single example\n",
    "    Y = np.zeros((m,1), dtype='uint8') # labels vector (0 for red, 1 for blue)\n",
    "    a = 4 # maximum ray of the flower\n",
    "\n",
    "    for j in range(2):\n",
    "        ix = range(N*j,N*(j+1))\n",
    "        t = np.linspace(j*3.12,(j+1)*3.12,N) + np.random.randn(N)*0.2 # theta\n",
    "        r = a*np.sin(4*t) + np.random.randn(N)*0.2 # radius\n",
    "        X[ix] = np.c_[r*np.sin(t), r*np.cos(t)]\n",
    "        Y[ix] = j\n",
    "        \n",
    "    X = X.T\n",
    "    Y = Y.T\n",
    "\n",
    "    return X, Y"
   ]
  },
  {
   "cell_type": "code",
   "execution_count": 13,
   "id": "78e5cf36-968e-4966-badd-769ffcdd6e84",
   "metadata": {},
   "outputs": [],
   "source": [
    "def load_planar_dataset(randomness, seed):\n",
    "    \n",
    "    np.random.seed(seed)\n",
    "    \n",
    "    m = 50\n",
    "    N = int(m/2) # number of points per class\n",
    "    D = 2 # dimensionality\n",
    "    X = np.zeros((m,D)) # data matrix where each row is a single example\n",
    "    Y = np.zeros((m,1), dtype='uint8') # labels vector (0 for red, 1 for blue)\n",
    "    a = 2 # maximum ray of the flower\n",
    "\n",
    "    for j in range(2):\n",
    "        \n",
    "        ix = range(N*j,N*(j+1))\n",
    "        if j == 0:\n",
    "            t = np.linspace(j, 4*3.1415*(j+1),N) #+ np.random.randn(N)*randomness # theta\n",
    "            r = 0.3*np.square(t) + np.random.randn(N)*randomness # radius\n",
    "        if j == 1:\n",
    "            t = np.linspace(j, 2*3.1415*(j+1),N) #+ np.random.randn(N)*randomness # theta\n",
    "            r = 0.2*np.square(t) + np.random.randn(N)*randomness # radius\n",
    "            \n",
    "        X[ix] = np.c_[r*np.cos(t), r*np.sin(t)]\n",
    "        Y[ix] = j\n",
    "        \n",
    "    X = X.T\n",
    "    Y = Y.T\n",
    "\n",
    "    return X, Y"
   ]
  },
  {
   "cell_type": "code",
   "execution_count": 14,
   "id": "4a57f745-aac9-44b0-8390-f597c7480765",
   "metadata": {},
   "outputs": [],
   "source": [
    "def func_predict_dec(parameters, X):\n",
    "    \"\"\"\n",
    "    Used for plotting decision boundary.\n",
    "    \n",
    "    Arguments:\n",
    "    parameters -- python dictionary containing your parameters \n",
    "    X -- input data of size (m, K)\n",
    "    \n",
    "    Returns\n",
    "    predictions -- vector of predictions of our model (red: 0 / blue: 1)\n",
    "    \"\"\"\n",
    "    \n",
    "    # Predict using forward propagation and a classification threshold of 0.5\n",
    "    AL, cache = func_L_model_forward(X, parameters)\n",
    "    predictions = (AL>0.5)\n",
    "    return predictions"
   ]
  },
  {
   "cell_type": "code",
   "execution_count": 15,
   "id": "de993eb6-4e86-4123-80ab-3060bc922e90",
   "metadata": {},
   "outputs": [],
   "source": [
    "def func_plot_decision_boundary(model, X, y):\n",
    "    # Set min and max values and give it some padding\n",
    "    x_min, x_max = X[0, :].min() - 1, X[0, :].max() + 1\n",
    "    y_min, y_max = X[1, :].min() - 1, X[1, :].max() + 1\n",
    "    h = 0.01\n",
    "    # Generate a grid of points with distance h between them\n",
    "    xx, yy = np.meshgrid(np.arange(x_min, x_max, h), np.arange(y_min, y_max, h))\n",
    "    # Predict the function value for the whole grid\n",
    "    Z = model(np.c_[xx.ravel(), yy.ravel()])\n",
    "    Z = Z.reshape(xx.shape)\n",
    "    # Plot the contour and training examples\n",
    "    plt.contourf(xx, yy, Z, cmap=plt.cm.Spectral)\n",
    "    plt.ylabel('x2')\n",
    "    plt.xlabel('x1')\n",
    "    plt.scatter(X[0, :], X[1, :], c=y, cmap=plt.cm.Spectral)\n",
    "    plt.show()"
   ]
  },
  {
   "cell_type": "markdown",
   "id": "cea5dbfc-445a-48ce-bc3e-966b6460a142",
   "metadata": {},
   "source": [
    "## 通过`参数初始化`技巧提升dnn\n",
    "\n",
    "* 一个好的参数初始化选择能够：\n",
    "    1. Speed up the convergence of gradient descent\n",
    "    2. Increase the odds of gradient descent converging to a lower training (and generalization) error"
   ]
  },
  {
   "cell_type": "markdown",
   "id": "0bf69386-a3d3-4077-a0ac-4ac78a8004ee",
   "metadata": {},
   "source": [
    "### 1-zero initialization"
   ]
  },
  {
   "cell_type": "code",
   "execution_count": 16,
   "id": "d33dc287-05eb-4699-a36a-a713a06bd6ae",
   "metadata": {},
   "outputs": [],
   "source": [
    "def func_initialize_parameters_zeros(layer_dims):\n",
    "    \"\"\"\n",
    "    zero initialization\n",
    "    :param layer_dims -- python array (list) containing the size of each layer.\n",
    "    \n",
    "    :return:\n",
    "        parameters -- python dictionary containing your parameters \"W1\", \"b1\", ..., \"WL\", \"bL\":\n",
    "            W1 -- weight matrix of shape (layers_dims[1], layers_dims[0])\n",
    "            b1 -- bias vector of shape (layers_dims[1], 1)\n",
    "            ...\n",
    "            WL -- weight matrix of shape (layers_dims[L], layers_dims[L-1])\n",
    "            bL -- bias vector of shape (layers_dims[L], 1)\n",
    "    \"\"\"\n",
    "    parameters = {}\n",
    "    L = len(layer_dims)\n",
    "    \n",
    "    for layer in range(1, L):\n",
    "        parameters['W'+str(layer)] = np.zeros((layer_dims[layer], layer_dims[layer-1]))\n",
    "        parameters['b'+str(layer)] = np.zeros((layer_dims[layer], 1))\n",
    "    return parameters"
   ]
  },
  {
   "cell_type": "code",
   "execution_count": 17,
   "id": "26525475-dd01-4a1e-b51c-c087df49eeb5",
   "metadata": {},
   "outputs": [
    {
     "name": "stdout",
     "output_type": "stream",
     "text": [
      "{'W1': array([[0., 0., 0.],\n",
      "       [0., 0., 0.]]), 'b1': array([[0.],\n",
      "       [0.]]), 'W2': array([[0., 0.]]), 'b2': array([[0.]])}\n"
     ]
    }
   ],
   "source": [
    "parameters = func_initialize_parameters_zeros([3,2,1])\n",
    "print(parameters)"
   ]
  },
  {
   "cell_type": "markdown",
   "id": "fce5c9ca-abfc-4442-b341-474ff3fb6982",
   "metadata": {},
   "source": [
    "### 2-random initialization"
   ]
  },
  {
   "cell_type": "code",
   "execution_count": 18,
   "id": "8b15bbca-d029-4b45-93ca-659e8e5e08ac",
   "metadata": {},
   "outputs": [],
   "source": [
    "def func_initialize_parameters_random(layer_dims):\n",
    "    \"\"\"\n",
    "    random initialization\n",
    "    :param layer_dims -- python array (list) containing the size of each layer.\n",
    "    \n",
    "    :return:\n",
    "        parameters -- python dictionary containing your parameters \"W1\", \"b1\", ..., \"WL\", \"bL\":\n",
    "            W1 -- weight matrix of shape (layers_dims[1], layers_dims[0])\n",
    "            b1 -- bias vector of shape (layers_dims[1], 1)\n",
    "            ...\n",
    "            WL -- weight matrix of shape (layers_dims[L], layers_dims[L-1])\n",
    "            bL -- bias vector of shape (layers_dims[L], 1)\n",
    "    \"\"\"\n",
    "    np.random.seed(3)\n",
    "    parameters = {}\n",
    "    L = len(layer_dims)\n",
    "    \n",
    "    for layer in range(1, L):\n",
    "        parameters['W'+str(layer)] = np.random.randn(layer_dims[layer], layer_dims[layer-1]) * 10\n",
    "        parameters['b'+str(layer)] = np.zeros((layer_dims[layer], 1))\n",
    "    return parameters"
   ]
  },
  {
   "cell_type": "code",
   "execution_count": 19,
   "id": "c8966650-4dd2-4541-8edb-ade80ea2b3c9",
   "metadata": {},
   "outputs": [
    {
     "name": "stdout",
     "output_type": "stream",
     "text": [
      "{'W1': array([[ 17.88628473,   4.36509851,   0.96497468],\n",
      "       [-18.63492703,  -2.77388203,  -3.54758979]]), 'b1': array([[0.],\n",
      "       [0.]]), 'W2': array([[-0.82741481, -6.27000677]]), 'b2': array([[0.]])}\n"
     ]
    }
   ],
   "source": [
    "parameters = func_initialize_parameters_random([3,2,1])\n",
    "print(parameters)"
   ]
  },
  {
   "cell_type": "markdown",
   "id": "2f43a0b5-a168-4945-80d7-ff7ce6f20cae",
   "metadata": {},
   "source": [
    "### 3-He initialization\n",
    "\n",
    "This function is similar to the previous `initialize_parameters_random(...)`. The only difference is that instead of multiplying `np.random.randn(..,..)` by 10, you will multiply it by $\\sqrt{\\frac{2}{\\text{dimension of the previous layer}}}$, which is what He initialization recommends for layers with a ReLU activation. "
   ]
  },
  {
   "cell_type": "code",
   "execution_count": 20,
   "id": "8243f141-2762-435c-8efa-5606fafd6ce3",
   "metadata": {},
   "outputs": [],
   "source": [
    "def func_initialize_parameters_he(layer_dims):\n",
    "    \"\"\"\n",
    "    he initialization\n",
    "    :param layer_dims -- python array (list) containing the size of each layer.\n",
    "    \n",
    "    :return:\n",
    "        parameters -- python dictionary containing your parameters \"W1\", \"b1\", ..., \"WL\", \"bL\":\n",
    "            W1 -- weight matrix of shape (layers_dims[1], layers_dims[0])\n",
    "            b1 -- bias vector of shape (layers_dims[1], 1)\n",
    "            ...\n",
    "            WL -- weight matrix of shape (layers_dims[L], layers_dims[L-1])\n",
    "            bL -- bias vector of shape (layers_dims[L], 1)\n",
    "    \"\"\"\n",
    "    np.random.seed(3)\n",
    "    parameters = {}\n",
    "    L = len(layer_dims)\n",
    "    \n",
    "    for layer in range(1, L):\n",
    "        parameters['W'+str(layer)] = np.random.randn(layer_dims[layer], layer_dims[layer-1]) * np.sqrt(2/layer_dims[layer-1])\n",
    "        parameters['b'+str(layer)] = np.zeros((layer_dims[layer], 1))\n",
    "    return parameters"
   ]
  },
  {
   "cell_type": "code",
   "execution_count": 21,
   "id": "e0ff6366-fa61-4845-a233-f77d87284c81",
   "metadata": {},
   "outputs": [
    {
     "name": "stdout",
     "output_type": "stream",
     "text": [
      "{'W1': array([[ 1.78862847,  0.43650985],\n",
      "       [ 0.09649747, -1.8634927 ],\n",
      "       [-0.2773882 , -0.35475898],\n",
      "       [-0.08274148, -0.62700068]]), 'b1': array([[0.],\n",
      "       [0.],\n",
      "       [0.],\n",
      "       [0.]]), 'W2': array([[-0.03098412, -0.33744411, -0.92904268,  0.62552248]]), 'b2': array([[0.]])}\n"
     ]
    }
   ],
   "source": [
    "parameters = func_initialize_parameters_he([2,4,1])\n",
    "print(parameters)"
   ]
  },
  {
   "cell_type": "markdown",
   "id": "241f8ea4-5dbc-4bc6-8c6b-87072e546ab2",
   "metadata": {},
   "source": [
    "### overwrite dnn model"
   ]
  },
  {
   "cell_type": "code",
   "execution_count": 22,
   "id": "5389e5c4-ca20-4a18-a05e-70fa15351341",
   "metadata": {},
   "outputs": [],
   "source": [
    "def func_L_layer_dnn_model(X, Y, layer_dims, lr=0.01, num_epochs=15000, print_cost=True, initialization=None):\n",
    "    \"\"\"\n",
    "    多层神经网络模型\n",
    "    :param X:\n",
    "    :param Y:\n",
    "    :param layer_dims: python array (list) containing the dimensions of each layer in our network\n",
    "    :param lr: learning rate\n",
    "    :param num_epochs:\n",
    "    :param print_cost:\n",
    "    :param initialization : flag to choose which initialization to use (\"zeros\",\"random\" or \"he\")\n",
    "    \n",
    "    :return params\n",
    "    \"\"\"\n",
    "#     np.random.seed(1)\n",
    "    costs = []\n",
    "#     m = X.shape[1]\n",
    "    \n",
    "    # 参数初始化\n",
    "    if initialization == 'zeros':\n",
    "        parameters = func_initialize_parameters_zeros(layer_dims)\n",
    "    elif initialization == 'random':\n",
    "        parameters = func_initialize_parameters_random(layer_dims)\n",
    "    elif initialization == 'he':\n",
    "        parameters = func_initialize_parameters_he(layer_dims)\n",
    "    else:\n",
    "        parameters = func_L_layers_initialize_parameters(layer_dims)\n",
    "#         raise ValueError('error initialization set!')\n",
    "    print('parameters: \\n', parameters)\n",
    "    \n",
    "    # loop\n",
    "    for epoch in range(num_epochs):\n",
    "        # 前向传播\n",
    "        AL, caches = func_L_model_forward(X, parameters)\n",
    "        # 计算损失\n",
    "        cost = func_compute_cost(AL, Y)\n",
    "        \n",
    "        # 后向传播\n",
    "        grads = func_L_model_backward(AL, Y, caches)\n",
    "\n",
    "        # 更新参数\n",
    "        parameters = func_update_parameters(parameters, grads, lr)\n",
    "        \n",
    "        # 打印信息\n",
    "        if print_cost and epoch % 1000 == 0:\n",
    "            print('cost after epoch {}: {}'.format(epoch, np.squeeze(cost)))\n",
    "#             print('AL:', AL)\n",
    "        if epoch % 1000 == 0:\n",
    "            costs.append(cost)\n",
    "            \n",
    "    \n",
    "    return parameters, costs"
   ]
  },
  {
   "cell_type": "markdown",
   "id": "169eb15a-8c97-4e82-8fde-e5d798509ff1",
   "metadata": {},
   "source": [
    "### 在模拟数据上训练\n",
    "#### 导入数据"
   ]
  },
  {
   "cell_type": "code",
   "execution_count": 23,
   "id": "b42b272b-2419-4af6-8ce4-1421181e4223",
   "metadata": {},
   "outputs": [
    {
     "data": {
      "image/png": "[encoded data removed]",
      "text/plain": [
       "<Figure size 504x288 with 1 Axes>"
      ]
     },
     "metadata": {
      "needs_background": "light"
     },
     "output_type": "display_data"
    }
   ],
   "source": [
    "train_X, train_Y, test_X, test_Y = load_dataset()"
   ]
  },
  {
   "cell_type": "markdown",
   "id": "2b77b3a4-6e27-47e1-9ea0-6e9ebaf14e69",
   "metadata": {},
   "source": [
    "#### 设置参数"
   ]
  },
  {
   "cell_type": "code",
   "execution_count": 24,
   "id": "0407572e-82f2-4dd9-970d-0a52e8eb5161",
   "metadata": {},
   "outputs": [
    {
     "name": "stdout",
     "output_type": "stream",
     "text": [
      "[2, 10, 5, 1]\n"
     ]
    }
   ],
   "source": [
    "layer_dims = [train_X.shape[0], 10, 5, 1]\n",
    "print(layer_dims)\n",
    "\n",
    "lr = 0.01\n",
    "num_epochs = 15000\n",
    "print_cost=True"
   ]
  },
  {
   "cell_type": "markdown",
   "id": "76d91489-e566-4161-9774-5c8676714f75",
   "metadata": {},
   "source": [
    "#### 正常初始化"
   ]
  },
  {
   "cell_type": "code",
   "execution_count": 25,
   "id": "f406bb09-f256-4a9a-97dc-12f01f1a45e7",
   "metadata": {},
   "outputs": [
    {
     "name": "stdout",
     "output_type": "stream",
     "text": [
      "parameters: \n",
      " {'W1': array([[ 1.14858562, -0.43257711],\n",
      "       [-0.37347383, -0.75870339],\n",
      "       [ 0.6119356 , -1.62743362],\n",
      "       [ 1.23376823, -0.53825456],\n",
      "       [ 0.22559471, -0.17633148],\n",
      "       [ 1.03386644, -1.45673947],\n",
      "       [-0.22798339, -0.27156744],\n",
      "       [ 0.80169606, -0.77774057],\n",
      "       [-0.12192515, -0.62073964],\n",
      "       [ 0.02984963,  0.41211259]]), 'b1': array([[0.],\n",
      "       [0.],\n",
      "       [0.],\n",
      "       [0.],\n",
      "       [0.],\n",
      "       [0.],\n",
      "       [0.],\n",
      "       [0.],\n",
      "       [0.],\n",
      "       [0.]]), 'W2': array([[-0.34804634,  0.36199342,  0.28510802,  0.15890266,  0.28487566,\n",
      "        -0.21621373, -0.0388613 , -0.29591628, -0.08471365,  0.16771312],\n",
      "       [-0.21872233, -0.12546448, -0.21730309, -0.26727749, -0.21226666,\n",
      "        -0.0040049 , -0.35332456,  0.07412875,  0.52487553,  0.23465497],\n",
      "       [-0.06066373, -0.28069292, -0.2362722 ,  0.53520114,  0.01606682,\n",
      "        -0.20143571,  0.06037278,  0.66415899,  0.0379976 ,  0.19517676],\n",
      "       [ 0.09492219, -0.11139118, -0.36129598, -0.11047187, -0.06605816,\n",
      "         0.18550654,  0.26530985,  0.29444033,  0.09031064,  0.27990621],\n",
      "       [-0.23856158,  0.3961917 ,  0.16220265, -0.09426523,  0.154483  ,\n",
      "        -0.02389787,  0.35785263,  0.48060828,  0.69113963, -0.44161092]]), 'b2': array([[0.],\n",
      "       [0.],\n",
      "       [0.],\n",
      "       [0.],\n",
      "       [0.]]), 'W3': array([[-0.64582733, -0.22560399,  0.07157075,  0.39183465,  0.14115624]]), 'b3': array([[0.]])}\n",
      "cost after epoch 0: 0.6960659020466242\n",
      "cost after epoch 1000: 0.6892005439078841\n",
      "cost after epoch 2000: 0.6850049132576146\n",
      "cost after epoch 3000: 0.6798306324866793\n",
      "cost after epoch 4000: 0.6729361200642482\n",
      "cost after epoch 5000: 0.6578134850604765\n",
      "cost after epoch 6000: 0.6308733720773914\n",
      "cost after epoch 7000: 0.5847718750117528\n",
      "cost after epoch 8000: 0.512240914977723\n",
      "cost after epoch 9000: 0.41737297954575764\n",
      "cost after epoch 10000: 0.32777046260752574\n",
      "cost after epoch 11000: 0.25687394311562106\n",
      "cost after epoch 12000: 0.20428449077110009\n",
      "cost after epoch 13000: 0.16602627481234417\n",
      "cost after epoch 14000: 0.13073861742391021\n",
      "on the train set:\n",
      "acc: 0.99\n",
      "on the test set:\n",
      "acc: 0.94\n"
     ]
    },
    {
     "data": {
      "image/png": "[encoded data removed]",
      "text/plain": [
       "<Figure size 504x288 with 1 Axes>"
      ]
     },
     "metadata": {
      "needs_background": "light"
     },
     "output_type": "display_data"
    }
   ],
   "source": [
    "parameters, costs = func_L_layer_dnn_model(train_X, train_Y, layer_dims, lr, num_epochs, print_cost)\n",
    "print('on the train set:')\n",
    "pred_train = func_predict(train_X, train_Y, parameters)\n",
    "print('on the test set:')\n",
    "pred_test = func_predict(test_X, test_Y, parameters)\n",
    "\n",
    "plt.plot(np.squeeze(costs))\n",
    "plt.ylabel('cost')\n",
    "plt.xlabel('iterations (per hundreds)')\n",
    "plt.title(\"Learning rate =\" + str(lr))\n",
    "plt.show()"
   ]
  },
  {
   "cell_type": "code",
   "execution_count": 26,
   "id": "b95286cf-84c2-430a-870c-df339d1f7f56",
   "metadata": {},
   "outputs": [
    {
     "data": {
      "image/png": "[encoded data removed]",
      "text/plain": [
       "<Figure size 504x288 with 1 Axes>"
      ]
     },
     "metadata": {
      "needs_background": "light"
     },
     "output_type": "display_data"
    }
   ],
   "source": [
    "plt.title(\"Model with np.sqrt(layer_dims[layer-1]) initialization\")\n",
    "axes = plt.gca()\n",
    "axes.set_xlim([-1.5,1.5])\n",
    "axes.set_ylim([-1.5,1.5])\n",
    "func_plot_decision_boundary(lambda x: func_predict_dec(parameters, x.T), train_X, train_Y)"
   ]
  },
  {
   "cell_type": "markdown",
   "id": "0945d041-abde-466b-ad60-af5a1000c563",
   "metadata": {},
   "source": [
    "#### zero 初始化"
   ]
  },
  {
   "cell_type": "code",
   "execution_count": 27,
   "id": "d31898d9-fb57-4a79-a445-3e8bf177be3a",
   "metadata": {
    "tags": []
   },
   "outputs": [
    {
     "name": "stdout",
     "output_type": "stream",
     "text": [
      "parameters: \n",
      " {'W1': array([[0., 0.],\n",
      "       [0., 0.],\n",
      "       [0., 0.],\n",
      "       [0., 0.],\n",
      "       [0., 0.],\n",
      "       [0., 0.],\n",
      "       [0., 0.],\n",
      "       [0., 0.],\n",
      "       [0., 0.],\n",
      "       [0., 0.]]), 'b1': array([[0.],\n",
      "       [0.],\n",
      "       [0.],\n",
      "       [0.],\n",
      "       [0.],\n",
      "       [0.],\n",
      "       [0.],\n",
      "       [0.],\n",
      "       [0.],\n",
      "       [0.]]), 'W2': array([[0., 0., 0., 0., 0., 0., 0., 0., 0., 0.],\n",
      "       [0., 0., 0., 0., 0., 0., 0., 0., 0., 0.],\n",
      "       [0., 0., 0., 0., 0., 0., 0., 0., 0., 0.],\n",
      "       [0., 0., 0., 0., 0., 0., 0., 0., 0., 0.],\n",
      "       [0., 0., 0., 0., 0., 0., 0., 0., 0., 0.]]), 'b2': array([[0.],\n",
      "       [0.],\n",
      "       [0.],\n",
      "       [0.],\n",
      "       [0.]]), 'W3': array([[0., 0., 0., 0., 0.]]), 'b3': array([[0.]])}\n",
      "cost after epoch 0: 0.6931471805599453\n",
      "cost after epoch 1000: 0.6931471805599453\n",
      "cost after epoch 2000: 0.6931471805599453\n",
      "cost after epoch 3000: 0.6931471805599453\n",
      "cost after epoch 4000: 0.6931471805599453\n",
      "cost after epoch 5000: 0.6931471805599453\n",
      "cost after epoch 6000: 0.6931471805599453\n",
      "cost after epoch 7000: 0.6931471805599453\n",
      "cost after epoch 8000: 0.6931471805599453\n",
      "cost after epoch 9000: 0.6931471805599453\n",
      "cost after epoch 10000: 0.6931471805599453\n",
      "cost after epoch 11000: 0.6931471805599453\n",
      "cost after epoch 12000: 0.6931471805599453\n",
      "cost after epoch 13000: 0.6931471805599453\n",
      "cost after epoch 14000: 0.6931471805599453\n",
      "on the train set:\n",
      "acc: 0.5\n",
      "on the test set:\n",
      "acc: 0.5\n"
     ]
    },
    {
     "data": {
      "image/png": "[encoded data removed]",
      "text/plain": [
       "<Figure size 504x288 with 1 Axes>"
      ]
     },
     "metadata": {
      "needs_background": "light"
     },
     "output_type": "display_data"
    }
   ],
   "source": [
    "parameters, costs = func_L_layer_dnn_model(train_X, train_Y, layer_dims, lr, num_epochs, print_cost, initialization='zeros')\n",
    "print('on the train set:')\n",
    "pred_train = func_predict(train_X, train_Y, parameters)\n",
    "print('on the test set:')\n",
    "pred_test = func_predict(test_X, test_Y, parameters)\n",
    "\n",
    "plt.plot(np.squeeze(costs))\n",
    "plt.ylabel('cost')\n",
    "plt.xlabel('iterations (per hundreds)')\n",
    "plt.title(\"Learning rate =\" + str(lr))\n",
    "plt.show()"
   ]
  },
  {
   "cell_type": "code",
   "execution_count": 28,
   "id": "372a7b3b-f307-4a0e-94c8-0a631e8dfc2e",
   "metadata": {},
   "outputs": [
    {
     "data": {
      "image/png": "[encoded data removed]",
      "text/plain": [
       "<Figure size 504x288 with 1 Axes>"
      ]
     },
     "metadata": {
      "needs_background": "light"
     },
     "output_type": "display_data"
    }
   ],
   "source": [
    "plt.title(\"Model with Zeros initialization\")\n",
    "axes = plt.gca()\n",
    "axes.set_xlim([-1.5,1.5])\n",
    "axes.set_ylim([-1.5,1.5])\n",
    "func_plot_decision_boundary(lambda x: func_predict_dec(parameters, x.T), train_X, train_Y)"
   ]
  },
  {
   "cell_type": "markdown",
   "id": "27e6c891-8721-4ea5-adf1-77efac72fa72",
   "metadata": {},
   "source": [
    "#### random 初始化"
   ]
  },
  {
   "cell_type": "code",
   "execution_count": 29,
   "id": "87c95865-60b8-43d0-9823-b505570eada5",
   "metadata": {},
   "outputs": [
    {
     "name": "stdout",
     "output_type": "stream",
     "text": [
      "parameters: \n",
      " {'W1': array([[ 17.88628473,   4.36509851],\n",
      "       [  0.96497468, -18.63492703],\n",
      "       [ -2.77388203,  -3.54758979],\n",
      "       [ -0.82741481,  -6.27000677],\n",
      "       [ -0.43818169,  -4.7721803 ],\n",
      "       [-13.13864753,   8.8462238 ],\n",
      "       [  8.81318042,  17.09573064],\n",
      "       [  0.50033642,  -4.04677415],\n",
      "       [ -5.45359948, -15.46477316],\n",
      "       [  9.82367434, -11.0106763 ]]), 'b1': array([[0.],\n",
      "       [0.],\n",
      "       [0.],\n",
      "       [0.],\n",
      "       [0.],\n",
      "       [0.],\n",
      "       [0.],\n",
      "       [0.],\n",
      "       [0.],\n",
      "       [0.]]), 'W2': array([[-11.85046527,  -2.05649899,  14.86148355,   2.36716267,\n",
      "        -10.2378514 ,  -7.129932  ,   6.25244966,  -1.60513363,\n",
      "         -7.6883635 ,  -2.30030722],\n",
      "       [  7.45056266,  19.76110783, -12.44123329,  -6.26416911,\n",
      "         -8.03766095, -24.19083173,  -9.23792022, -10.23875761,\n",
      "         11.23977959,  -1.31914233],\n",
      "       [-16.23285446,   6.46675452,  -3.56270759, -17.43141037,\n",
      "         -5.96649642,  -5.8859438 ,  -8.73882298,   0.29713815,\n",
      "        -22.48257768,  -2.67761865],\n",
      "       [ 10.13183442,   8.52797841,  11.081875  ,  11.19390655,\n",
      "         14.87543132, -11.18300684,   8.45833407, -18.60889529,\n",
      "         -6.02885104, -19.14472043],\n",
      "       [ 10.48147512,  13.33737819,  -1.97414679,  17.74645031,\n",
      "         -6.7472751 ,   1.50616865,   1.52945703, -10.64195274,\n",
      "          4.37946611,  19.3897846 ]]), 'b2': array([[0.],\n",
      "       [0.],\n",
      "       [0.],\n",
      "       [0.],\n",
      "       [0.]]), 'W3': array([[-10.24930875,   8.99338446,  -1.54506852,  17.69627303,\n",
      "          4.83788348]]), 'b3': array([[0.]])}\n",
      "cost after epoch 0: 11.512925423650048\n",
      "cost after epoch 1000: 11.512925423650048\n",
      "cost after epoch 2000: 11.512925423650048\n",
      "cost after epoch 3000: 11.512925423650048\n",
      "cost after epoch 4000: 11.512925423650048\n",
      "cost after epoch 5000: 11.512925423650048\n",
      "cost after epoch 6000: 11.512925423650048\n",
      "cost after epoch 7000: 11.512925423650048\n",
      "cost after epoch 8000: 11.512925423650048\n",
      "cost after epoch 9000: 11.512925423650048\n",
      "cost after epoch 10000: 11.512925423650048\n",
      "cost after epoch 11000: 11.512925423650048\n",
      "cost after epoch 12000: 11.512925423650048\n",
      "cost after epoch 13000: 11.512925423650048\n",
      "cost after epoch 14000: 11.512925423650048\n",
      "on the train set:\n",
      "acc: 0.5\n",
      "on the test set:\n",
      "acc: 0.5\n"
     ]
    },
    {
     "data": {
      "image/png": "[encoded data removed]",
      "text/plain": [
       "<Figure size 504x288 with 1 Axes>"
      ]
     },
     "metadata": {
      "needs_background": "light"
     },
     "output_type": "display_data"
    }
   ],
   "source": [
    "parameters, costs = func_L_layer_dnn_model(train_X, train_Y, layer_dims, lr, num_epochs, print_cost, initialization='random')\n",
    "# print(parameters)\n",
    "print('on the train set:')\n",
    "pred_train = func_predict(train_X, train_Y, parameters)\n",
    "print('on the test set:')\n",
    "pred_test = func_predict(test_X, test_Y, parameters)\n",
    "\n",
    "plt.plot(np.squeeze(costs))\n",
    "plt.ylabel('cost')\n",
    "plt.xlabel('iterations (per hundreds)')\n",
    "plt.title(\"Learning rate =\" + str(lr))\n",
    "plt.show()"
   ]
  },
  {
   "cell_type": "code",
   "execution_count": 30,
   "id": "0e234ad0-d89c-45b7-98d3-2009e8eaca8f",
   "metadata": {},
   "outputs": [
    {
     "data": {
      "image/png": "[encoded data removed]",
      "text/plain": [
       "<Figure size 504x288 with 1 Axes>"
      ]
     },
     "metadata": {
      "needs_background": "light"
     },
     "output_type": "display_data"
    }
   ],
   "source": [
    "plt.title(\"Model with random initialization\")\n",
    "axes = plt.gca()\n",
    "axes.set_xlim([-1.5,1.5])\n",
    "axes.set_ylim([-1.5,1.5])\n",
    "func_plot_decision_boundary(lambda x: func_predict_dec(parameters, x.T), train_X, train_Y)"
   ]
  },
  {
   "cell_type": "markdown",
   "id": "49e0e1ae-4117-49ac-99cc-11fb6c756841",
   "metadata": {},
   "source": [
    "<font color=red size=5>注意：</font>\n",
    "* 这里训练不起来是因为参数随机初始化时，参数太大，导致wx+b很大或很少，在sigmoid计算时，处于梯度为0的情况下，导致参数没法更新，即梯度消失情况"
   ]
  },
  {
   "cell_type": "markdown",
   "id": "d44b6b9a-9134-48a0-8e27-c205cfb6348c",
   "metadata": {},
   "source": [
    "#### he初始化"
   ]
  },
  {
   "cell_type": "code",
   "execution_count": 31,
   "id": "d283c91e-7038-44d3-9c57-cc9dcb2f23a1",
   "metadata": {},
   "outputs": [
    {
     "name": "stdout",
     "output_type": "stream",
     "text": [
      "parameters: \n",
      " {'W1': array([[ 1.78862847,  0.43650985],\n",
      "       [ 0.09649747, -1.8634927 ],\n",
      "       [-0.2773882 , -0.35475898],\n",
      "       [-0.08274148, -0.62700068],\n",
      "       [-0.04381817, -0.47721803],\n",
      "       [-1.31386475,  0.88462238],\n",
      "       [ 0.88131804,  1.70957306],\n",
      "       [ 0.05003364, -0.40467741],\n",
      "       [-0.54535995, -1.54647732],\n",
      "       [ 0.98236743, -1.10106763]]), 'b1': array([[0.],\n",
      "       [0.],\n",
      "       [0.],\n",
      "       [0.],\n",
      "       [0.],\n",
      "       [0.],\n",
      "       [0.],\n",
      "       [0.],\n",
      "       [0.],\n",
      "       [0.]]), 'W2': array([[-0.52996892, -0.09196943,  0.66462575,  0.10586273, -0.45785063,\n",
      "        -0.31886025,  0.27961805, -0.07178376, -0.34383407, -0.10287287],\n",
      "       [ 0.33319929,  0.88374361, -0.55638887, -0.28014216, -0.35945513,\n",
      "        -1.08184688, -0.41313235, -0.45789116,  0.50265822, -0.05899384],\n",
      "       [-0.72595532,  0.28920205, -0.15932913, -0.77955637, -0.26682983,\n",
      "        -0.26322741, -0.39081204,  0.01328842, -1.00545144, -0.11974675],\n",
      "       [ 0.45310941,  0.38138279,  0.49559652,  0.50060672,  0.66524951,\n",
      "        -0.50011927,  0.3782682 , -0.8322151 , -0.26961842, -0.85617793],\n",
      "       [ 0.46874582,  0.59646569, -0.08828653,  0.79364539, -0.30174732,\n",
      "         0.06735791,  0.0683994 , -0.47592259,  0.19585568,  0.86713753]]), 'b2': array([[0.],\n",
      "       [0.],\n",
      "       [0.],\n",
      "       [0.],\n",
      "       [0.]]), 'W3': array([[-0.6482232 ,  0.56879158, -0.09771871,  1.11921058,  0.30597462]]), 'b3': array([[0.]])}\n",
      "cost after epoch 0: 0.8830537463419762\n",
      "cost after epoch 1000: 0.6879825919728063\n",
      "cost after epoch 2000: 0.6751286264523371\n",
      "cost after epoch 3000: 0.6526117768893805\n",
      "cost after epoch 4000: 0.6082958970572938\n",
      "cost after epoch 5000: 0.5304944491717493\n",
      "cost after epoch 6000: 0.41386458170717944\n",
      "cost after epoch 7000: 0.3117803464844441\n",
      "cost after epoch 8000: 0.23696215330322565\n",
      "cost after epoch 9000: 0.18597287209206842\n",
      "cost after epoch 10000: 0.15015556280371814\n",
      "cost after epoch 11000: 0.12325079292273551\n",
      "cost after epoch 12000: 0.09917746546525927\n",
      "cost after epoch 13000: 0.0845705595402428\n",
      "cost after epoch 14000: 0.07357895962677369\n",
      "on the train set:\n",
      "acc: 0.9933333333333333\n",
      "on the test set:\n",
      "acc: 0.96\n"
     ]
    },
    {
     "data": {
      "image/png": "[encoded data removed]",
      "text/plain": [
       "<Figure size 504x288 with 1 Axes>"
      ]
     },
     "metadata": {
      "needs_background": "light"
     },
     "output_type": "display_data"
    }
   ],
   "source": [
    "parameters, costs = func_L_layer_dnn_model(train_X, train_Y, layer_dims, lr, num_epochs, print_cost, initialization='he')\n",
    "print('on the train set:')\n",
    "pred_train = func_predict(train_X, train_Y, parameters)\n",
    "print('on the test set:')\n",
    "pred_test = func_predict(test_X, test_Y, parameters)\n",
    "\n",
    "plt.plot(np.squeeze(costs))\n",
    "plt.ylabel('cost')\n",
    "plt.xlabel('iterations (per hundreds)')\n",
    "plt.title(\"Learning rate =\" + str(lr))\n",
    "plt.show()"
   ]
  },
  {
   "cell_type": "code",
   "execution_count": 32,
   "id": "6e2cf1c9-7fbe-4d6e-9736-0e3ddfdf7498",
   "metadata": {},
   "outputs": [
    {
     "data": {
      "image/png": "[encoded data removed]",
      "text/plain": [
       "<Figure size 504x288 with 1 Axes>"
      ]
     },
     "metadata": {
      "needs_background": "light"
     },
     "output_type": "display_data"
    }
   ],
   "source": [
    "plt.title(\"Model with he initialization\")\n",
    "axes = plt.gca()\n",
    "axes.set_xlim([-1.5,1.5])\n",
    "axes.set_ylim([-1.5,1.5])\n",
    "func_plot_decision_boundary(lambda x: func_predict_dec(parameters, x.T), train_X, train_Y)"
   ]
  },
  {
   "cell_type": "markdown",
   "id": "abe626cb-fabd-4ffe-9036-66fe24edf54f",
   "metadata": {},
   "source": [
    "### <font color=red size=5>总结</font>\n",
    "\n",
    "1. 不同的参数初始化导致不同的结果\n",
    "2. 随机参数初始化是为了打破对称性以及确保各隐藏units可以学习不同的特征\n",
    "3. 不要初始化太大的值，会导致梯度消失或者爆炸\n",
    "4. 对于relu激活函数来说，he初始化方式能表现很好"
   ]
  },
  {
   "cell_type": "markdown",
   "id": "26de2801-7f4b-4fd8-a3c0-f445719cb537",
   "metadata": {},
   "source": [
    "## 通过`正则化`技巧提升dnn\n",
    "\n",
    "Deep Learning models have so much flexibility and capacity that **overfitting can be a serious problem**, if the training dataset is not big enough. Sure it does well on the training set, but the learned network **doesn't generalize to new examples** that it has never seen!"
   ]
  },
  {
   "cell_type": "markdown",
   "id": "8d044b36-695d-419b-81c2-e01f188548a8",
   "metadata": {},
   "source": [
    "### 1-L2 Regularization\n",
    "\n",
    "The standard way to avoid overfitting is called **L2 regularization**. It consists of appropriately modifying your cost function, from:\n",
    "$$J = -\\frac{1}{m} \\sum\\limits_{i = 1}^{m} \\large{(}\\small  y^{(i)}\\log\\left(a^{[L](i)}\\right) + (1-y^{(i)})\\log\\left(1- a^{[L](i)}\\right) \\large{)} \\tag{1}$$\n",
    "To:\n",
    "$$J_{regularized} = \\small \\underbrace{-\\frac{1}{m} \\sum\\limits_{i = 1}^{m} \\large{(}\\small y^{(i)}\\log\\left(a^{[L](i)}\\right) + (1-y^{(i)})\\log\\left(1- a^{[L](i)}\\right) \\large{)} }_\\text{cross-entropy cost} + \\underbrace{\\frac{1}{m} \\frac{\\lambda}{2} \\sum\\limits_l\\sum\\limits_k\\sum\\limits_j W_{k,j}^{[l]2} }_\\text{L2 regularization cost} \\tag{2}$$"
   ]
  },
  {
   "cell_type": "markdown",
   "id": "821eb773-c5ca-4274-a434-059facc81c8a",
   "metadata": {},
   "source": [
    "#### 1.1 overwrite compute cost"
   ]
  },
  {
   "cell_type": "code",
   "execution_count": 33,
   "id": "d718afdb-30f3-4ab5-8983-864dabf7bf63",
   "metadata": {},
   "outputs": [],
   "source": [
    "def func_compute_cost_with_regularization(AL, Y, parameters, lambd):\n",
    "    \"\"\"\n",
    "    Implement the cost function with L2 regularization. See formula (2) above.\n",
    "    \n",
    "    :param AL -- post-activation, output of forward propagation, of shape (output size, number of examples)\n",
    "    :param Y -- \"true\" labels vector, of shape (output size, number of examples)\n",
    "    :param parameters -- python dictionary containing parameters of the model\n",
    "    :param lambd -- 正则系数\n",
    "    :return:\n",
    "        cost - value of the regularized loss function (formula (2))\n",
    "    \"\"\"\n",
    "    cross_entropy_cost = func_compute_cost(AL, Y)\n",
    "    \n",
    "    m = Y.shape[1]\n",
    "    L = len(parameters) // 2\n",
    "    tmp = [parameters['W'+str(layer)] for layer in range(1, L+1)]\n",
    "    \n",
    "    L2_regularization_cost = sum([np.sum(np.square(w)) for w in tmp]) * lambd / 2 / m\n",
    "    \n",
    "    cost = cross_entropy_cost + L2_regularization_cost\n",
    "    return cost"
   ]
  },
  {
   "cell_type": "code",
   "execution_count": 34,
   "id": "f4adc814-df79-45cc-ba9a-a71ca57093df",
   "metadata": {},
   "outputs": [],
   "source": [
    "def func_compute_cost_with_regularization_test_case():\n",
    "    np.random.seed(1)\n",
    "    Y_assess = np.array([[1, 1, 0, 1, 0]])\n",
    "    W1 = np.random.randn(2, 3)\n",
    "    b1 = np.random.randn(2, 1)\n",
    "    W2 = np.random.randn(3, 2)\n",
    "    b2 = np.random.randn(3, 1)\n",
    "    W3 = np.random.randn(1, 3)\n",
    "    b3 = np.random.randn(1, 1)\n",
    "    parameters = {\"W1\": W1, \"b1\": b1, \"W2\": W2, \"b2\": b2, \"W3\": W3, \"b3\": b3}\n",
    "    a3 = np.array([[ 0.40682402,  0.01629284,  0.16722898,  0.10118111,  0.40682402]])\n",
    "    return a3, Y_assess, parameters"
   ]
  },
  {
   "cell_type": "code",
   "execution_count": 35,
   "id": "7a5cf42e-8822-4d7b-9c21-4b8bdbb48094",
   "metadata": {},
   "outputs": [],
   "source": [
    "A3, Y_assess, parameters = func_compute_cost_with_regularization_test_case()"
   ]
  },
  {
   "cell_type": "code",
   "execution_count": 36,
   "id": "4ae8a871-c598-41f3-9bde-93c38e17dd2e",
   "metadata": {},
   "outputs": [
    {
     "data": {
      "text/plain": [
       "(array([[0.40682402, 0.01629284, 0.16722898, 0.10118111, 0.40682402]]),\n",
       " array([[1, 1, 0, 1, 0]]),\n",
       " {'W1': array([[ 1.62434536, -0.61175641, -0.52817175],\n",
       "         [-1.07296862,  0.86540763, -2.3015387 ]]),\n",
       "  'b1': array([[ 1.74481176],\n",
       "         [-0.7612069 ]]),\n",
       "  'W2': array([[ 0.3190391 , -0.24937038],\n",
       "         [ 1.46210794, -2.06014071],\n",
       "         [-0.3224172 , -0.38405435]]),\n",
       "  'b2': array([[ 1.13376944],\n",
       "         [-1.09989127],\n",
       "         [-0.17242821]]),\n",
       "  'W3': array([[-0.87785842,  0.04221375,  0.58281521]]),\n",
       "  'b3': array([[-1.10061918]])})"
      ]
     },
     "execution_count": 36,
     "metadata": {},
     "output_type": "execute_result"
    }
   ],
   "source": [
    "A3, Y_assess, parameters"
   ]
  },
  {
   "cell_type": "code",
   "execution_count": 37,
   "id": "101f75fe-3086-4858-9611-4f20b5762391",
   "metadata": {},
   "outputs": [
    {
     "data": {
      "text/plain": [
       "1.7864859451590758"
      ]
     },
     "execution_count": 37,
     "metadata": {},
     "output_type": "execute_result"
    }
   ],
   "source": [
    "func_compute_cost_with_regularization(A3, Y_assess, parameters, lambd=0.1)"
   ]
  },
  {
   "cell_type": "markdown",
   "id": "4950b011-6d6e-48db-beff-66a013f1cb9c",
   "metadata": {},
   "source": [
    "#### 1.2 overwrite backward propagation\n",
    "\n",
    "$$\n",
    "\\frac{d}{dW} ( \\frac{1}{2}\\frac{\\lambda}{m}  W^2) = \\frac{\\lambda}{m} W\n",
    "$$"
   ]
  },
  {
   "cell_type": "code",
   "execution_count": 38,
   "id": "22fe9921-811d-4611-ba1a-1683103d365b",
   "metadata": {},
   "outputs": [],
   "source": [
    "def func_linear_backward_with_regularization(dZ, cache, lambd):\n",
    "    \"\"\"\n",
    "    Implement the linear portion of backward propagation for a single layer (layer l)\n",
    "\n",
    "    :param dZ -- Gradient of the cost with respect to the linear output (of current layer l)\n",
    "    :param cache -- tuple of values (A_prev, W, b) coming from the forward propagation in the current layer\n",
    "    :param lambd -- 正则系数\n",
    "    :return:\n",
    "        dA_prev -- Gradient of the cost with respect to the activation (of the previous layer l-1), same shape as A_prev\n",
    "        dW -- Gradient of the cost with respect to W (current layer l), same shape as W\n",
    "        db -- Gradient of the cost with respect to b (current layer l), same shape as b\n",
    "    \"\"\"\n",
    "    A_prev, W, b = cache\n",
    "    m = A_prev.shape[1]\n",
    "    \n",
    "    dW = 1 / m * np.dot(dZ, A_prev.T) + lambd / m * W\n",
    "    db = 1 / m * np.sum(dZ, axis=1, keepdims=True)  # axis=1是行记录求和\n",
    "    dA_prev = np.dot(W.T, dZ)\n",
    "    \n",
    "    assert(dW.shape == W.shape)\n",
    "    assert(db.shape == b.shape)\n",
    "    assert(dA_prev.shape == A_prev.shape)\n",
    "    return dA_prev, dW, db\n",
    "\n",
    "def func_linear_activation_backward_with_regularization(dA, cache, lambd, activation):\n",
    "    \"\"\"\n",
    "    Implement the backward propagation for the LINEAR->ACTIVATION layer.\n",
    "    \n",
    "    :param dA -- post-activation gradient for current layer l \n",
    "    :param cache -- tuple of values (linear_cache, activation_cache) we store for computing backward propagation efficiently\n",
    "    :param lambd -- 正则系数\n",
    "    :param activation -- the activation to be used in this layer, stored as a text string: \"sigmoid\" or \"relu\"\n",
    "    \n",
    "    :returns\n",
    "        dA_prev -- Gradient of the cost with respect to the activation (of the previous layer l-1), same shape as A_prev\n",
    "        dW -- Gradient of the cost with respect to W (current layer l), same shape as W\n",
    "        db -- Gradient of the cost with respect to b (current layer l), same shape as b\n",
    "    \"\"\"\n",
    "    linear_cache, activation_cache = cache\n",
    "    \n",
    "    if activation == 'relu':\n",
    "        dZ = func_relu_backward(dA, activation_cache)\n",
    "    elif activation == 'sigmoid':\n",
    "        dZ = func_sigmoid_backward(dA, activation_cache)\n",
    "    else:\n",
    "        raise ValueError('activation param')\n",
    "    dA_prev, dW, db = func_linear_backward_with_regularization(dZ, linear_cache, lambd)\n",
    "    return dA_prev, dW, db\n",
    "\n",
    "def func_L_model_backward_with_regularization(AL, Y, caches, lambd):\n",
    "    \"\"\"\n",
    "    Implement the backward propagation for the [LINEAR->RELU] * (L-1) -> LINEAR -> SIGMOID group\n",
    "    \n",
    "    :param AL -- probability vector, output of the forward propagation (L_model_forward())\n",
    "    :param Y -- true \"label\" vector (containing 0 if non-cat, 1 if cat)\n",
    "    :param caches -- list of caches containing:\n",
    "                    every cache of linear_activation_forward() with \"relu\" (it's caches[l], for l in range(L-1) i.e l = 0...L-2)\n",
    "                    the cache of linear_activation_forward() with \"sigmoid\" (it's caches[L-1])\n",
    "    :param lambd -- 正则系数\n",
    "    :return:\n",
    "        grads -- A dictionary with the gradients\n",
    "                 grads[\"dA\" + str(l)] = ... \n",
    "                 grads[\"dW\" + str(l)] = ...\n",
    "                 grads[\"db\" + str(l)] = ... \n",
    "    \"\"\"\n",
    "    grads = {}\n",
    "    L = len(caches)\n",
    "    m = AL.shape[1]\n",
    "    Y = Y.reshape(AL.shape)\n",
    "    \n",
    "    dAL = - (np.divide(Y, AL) - np.divide(1-Y, 1-AL))\n",
    "    \n",
    "    cur_cache = caches[L-1]\n",
    "    grads['dA' + str(L-1)], grads['dW'+str(L)], grads['db'+str(L)] = func_linear_activation_backward_with_regularization(dAL, cur_cache, lambd, activation='sigmoid')\n",
    "    \n",
    "    for layer in reversed(range(L-1)):\n",
    "        cur_cache = caches[layer]\n",
    "        dA_prev_tmp, dW_tmp, db_tmp = func_linear_activation_backward_with_regularization(grads[\"dA\"+str(layer+1)], cur_cache, lambd, activation='relu')\n",
    "        grads['dA'+str(layer)] = dA_prev_tmp\n",
    "        grads['dW'+str(layer+1)] = dW_tmp\n",
    "        grads['db'+str(layer+1)] = db_tmp\n",
    "    \n",
    "#     current_cache = caches[L-1]\n",
    "#     grads[\"dA\" + str(L)], grads[\"dW\" + str(L)], grads[\"db\" + str(L)] = func_linear_activation_backward(dAL, current_cache, activation = \"sigmoid\")\n",
    "    \n",
    "#     for l in reversed(range(L-1)):\n",
    "#         # lth layer: (RELU -> LINEAR) gradients.\n",
    "#         current_cache = caches[l]\n",
    "#         dA_prev_temp, dW_temp, db_temp = func_linear_activation_backward(grads[\"dA\" + str(l + 2)], current_cache, activation = \"relu\")\n",
    "#         grads[\"dA\" + str(l + 1)] = dA_prev_temp\n",
    "#         grads[\"dW\" + str(l + 1)] = dW_temp\n",
    "#         grads[\"db\" + str(l + 1)] = db_temp\n",
    "    \n",
    "    return grads"
   ]
  },
  {
   "cell_type": "code",
   "execution_count": 39,
   "id": "c1a7d13f-3866-4d56-8c1c-02e0ff356a9f",
   "metadata": {},
   "outputs": [],
   "source": [
    "def func_backward_propagation_with_regularization_test_case():\n",
    "    np.random.seed(1)\n",
    "    X_assess = np.random.randn(3, 5)\n",
    "    Y_assess = np.array([[1, 1, 0, 1, 0]])\n",
    "    cache = (np.array([[-1.52855314,  3.32524635,  2.13994541,  2.60700654, -0.75942115],\n",
    "         [-1.98043538,  4.1600994 ,  0.79051021,  1.46493512, -0.45506242]]),\n",
    "  np.array([[ 0.        ,  3.32524635,  2.13994541,  2.60700654,  0.        ],\n",
    "         [ 0.        ,  4.1600994 ,  0.79051021,  1.46493512,  0.        ]]),\n",
    "  np.array([[-1.09989127, -0.17242821, -0.87785842],\n",
    "         [ 0.04221375,  0.58281521, -1.10061918]]),\n",
    "  np.array([[ 1.14472371],\n",
    "         [ 0.90159072]]),\n",
    "  np.array([[ 0.53035547,  5.94892323,  2.31780174,  3.16005701,  0.53035547],\n",
    "         [-0.69166075, -3.47645987, -2.25194702, -2.65416996, -0.69166075],\n",
    "         [-0.39675353, -4.62285846, -2.61101729, -3.22874921, -0.39675353]]),\n",
    "  np.array([[ 0.53035547,  5.94892323,  2.31780174,  3.16005701,  0.53035547],\n",
    "         [ 0.        ,  0.        ,  0.        ,  0.        ,  0.        ],\n",
    "         [ 0.        ,  0.        ,  0.        ,  0.        ,  0.        ]]),\n",
    "  np.array([[ 0.50249434,  0.90085595],\n",
    "         [-0.68372786, -0.12289023],\n",
    "         [-0.93576943, -0.26788808]]),\n",
    "  np.array([[ 0.53035547],\n",
    "         [-0.69166075],\n",
    "         [-0.39675353]]),\n",
    "  np.array([[-0.3771104 , -4.10060224, -1.60539468, -2.18416951, -0.3771104 ]]),\n",
    "  np.array([[ 0.40682402,  0.01629284,  0.16722898,  0.10118111,  0.40682402]]),\n",
    "  np.array([[-0.6871727 , -0.84520564, -0.67124613]]),\n",
    "  np.array([[-0.0126646]]))\n",
    "    return X_assess, Y_assess, cache"
   ]
  },
  {
   "cell_type": "code",
   "execution_count": 40,
   "id": "4da88110-96aa-4bd6-87f7-673a72ab440e",
   "metadata": {},
   "outputs": [],
   "source": [
    "X_assess, Y_assess, cache = func_backward_propagation_with_regularization_test_case()"
   ]
  },
  {
   "cell_type": "code",
   "execution_count": 41,
   "id": "5aebc845-5fcc-4060-9375-5bb498cb5473",
   "metadata": {},
   "outputs": [
    {
     "data": {
      "text/plain": [
       "(array([[ 1.62434536, -0.61175641, -0.52817175, -1.07296862,  0.86540763],\n",
       "        [-2.3015387 ,  1.74481176, -0.7612069 ,  0.3190391 , -0.24937038],\n",
       "        [ 1.46210794, -2.06014071, -0.3224172 , -0.38405435,  1.13376944]]),\n",
       " array([[1, 1, 0, 1, 0]]),\n",
       " (array([[-1.52855314,  3.32524635,  2.13994541,  2.60700654, -0.75942115],\n",
       "         [-1.98043538,  4.1600994 ,  0.79051021,  1.46493512, -0.45506242]]),\n",
       "  array([[0.        , 3.32524635, 2.13994541, 2.60700654, 0.        ],\n",
       "         [0.        , 4.1600994 , 0.79051021, 1.46493512, 0.        ]]),\n",
       "  array([[-1.09989127, -0.17242821, -0.87785842],\n",
       "         [ 0.04221375,  0.58281521, -1.10061918]]),\n",
       "  array([[1.14472371],\n",
       "         [0.90159072]]),\n",
       "  array([[ 0.53035547,  5.94892323,  2.31780174,  3.16005701,  0.53035547],\n",
       "         [-0.69166075, -3.47645987, -2.25194702, -2.65416996, -0.69166075],\n",
       "         [-0.39675353, -4.62285846, -2.61101729, -3.22874921, -0.39675353]]),\n",
       "  array([[0.53035547, 5.94892323, 2.31780174, 3.16005701, 0.53035547],\n",
       "         [0.        , 0.        , 0.        , 0.        , 0.        ],\n",
       "         [0.        , 0.        , 0.        , 0.        , 0.        ]]),\n",
       "  array([[ 0.50249434,  0.90085595],\n",
       "         [-0.68372786, -0.12289023],\n",
       "         [-0.93576943, -0.26788808]]),\n",
       "  array([[ 0.53035547],\n",
       "         [-0.69166075],\n",
       "         [-0.39675353]]),\n",
       "  array([[-0.3771104 , -4.10060224, -1.60539468, -2.18416951, -0.3771104 ]]),\n",
       "  array([[0.40682402, 0.01629284, 0.16722898, 0.10118111, 0.40682402]]),\n",
       "  array([[-0.6871727 , -0.84520564, -0.67124613]]),\n",
       "  array([[-0.0126646]])))"
      ]
     },
     "execution_count": 41,
     "metadata": {},
     "output_type": "execute_result"
    }
   ],
   "source": [
    "X_assess, Y_assess, cache"
   ]
  },
  {
   "cell_type": "code",
   "execution_count": 42,
   "id": "6171e5e3-61cf-45fa-b9a8-d19a1206598d",
   "metadata": {},
   "outputs": [],
   "source": [
    "(Z1, A1, W1, b1, Z2, A2, W2, b2, Z3, A3, W3, b3) = cache"
   ]
  },
  {
   "cell_type": "code",
   "execution_count": 43,
   "id": "67b6c576-78e7-4a9e-b965-ba10455a7114",
   "metadata": {},
   "outputs": [],
   "source": [
    "caches = [((X_assess, W1, b1), Z1), \n",
    "          ((A1, W2, b2), Z2), \n",
    "          ((A2, W3, b3), Z3)]"
   ]
  },
  {
   "cell_type": "code",
   "execution_count": 44,
   "id": "afa65f6d-b77e-4f22-aea6-88a0a2f13265",
   "metadata": {},
   "outputs": [
    {
     "data": {
      "text/plain": [
       "[((array([[ 1.62434536, -0.61175641, -0.52817175, -1.07296862,  0.86540763],\n",
       "          [-2.3015387 ,  1.74481176, -0.7612069 ,  0.3190391 , -0.24937038],\n",
       "          [ 1.46210794, -2.06014071, -0.3224172 , -0.38405435,  1.13376944]]),\n",
       "   array([[-1.09989127, -0.17242821, -0.87785842],\n",
       "          [ 0.04221375,  0.58281521, -1.10061918]]),\n",
       "   array([[1.14472371],\n",
       "          [0.90159072]])),\n",
       "  array([[-1.52855314,  3.32524635,  2.13994541,  2.60700654, -0.75942115],\n",
       "         [-1.98043538,  4.1600994 ,  0.79051021,  1.46493512, -0.45506242]])),\n",
       " ((array([[0.        , 3.32524635, 2.13994541, 2.60700654, 0.        ],\n",
       "          [0.        , 4.1600994 , 0.79051021, 1.46493512, 0.        ]]),\n",
       "   array([[ 0.50249434,  0.90085595],\n",
       "          [-0.68372786, -0.12289023],\n",
       "          [-0.93576943, -0.26788808]]),\n",
       "   array([[ 0.53035547],\n",
       "          [-0.69166075],\n",
       "          [-0.39675353]])),\n",
       "  array([[ 0.53035547,  5.94892323,  2.31780174,  3.16005701,  0.53035547],\n",
       "         [-0.69166075, -3.47645987, -2.25194702, -2.65416996, -0.69166075],\n",
       "         [-0.39675353, -4.62285846, -2.61101729, -3.22874921, -0.39675353]])),\n",
       " ((array([[0.53035547, 5.94892323, 2.31780174, 3.16005701, 0.53035547],\n",
       "          [0.        , 0.        , 0.        , 0.        , 0.        ],\n",
       "          [0.        , 0.        , 0.        , 0.        , 0.        ]]),\n",
       "   array([[-0.6871727 , -0.84520564, -0.67124613]]),\n",
       "   array([[-0.0126646]])),\n",
       "  array([[-0.3771104 , -4.10060224, -1.60539468, -2.18416951, -0.3771104 ]]))]"
      ]
     },
     "execution_count": 44,
     "metadata": {},
     "output_type": "execute_result"
    }
   ],
   "source": [
    "caches"
   ]
  },
  {
   "cell_type": "code",
   "execution_count": 45,
   "id": "d041f60c-350e-4d0c-bd47-b187d17b739c",
   "metadata": {},
   "outputs": [],
   "source": [
    "grads = func_L_model_backward_with_regularization(A3, Y_assess, caches, lambd=0.7)"
   ]
  },
  {
   "cell_type": "code",
   "execution_count": 46,
   "id": "a9921de9-ef83-4607-85c0-605ab1ce323b",
   "metadata": {},
   "outputs": [
    {
     "data": {
      "text/plain": [
       "{'dA2': array([[ 0.40761434,  0.67597688, -0.11491519,  0.61764379, -0.27955836],\n",
       "        [ 0.50135568,  0.83143505, -0.14134288,  0.75968678, -0.34384996],\n",
       "        [ 0.39816708,  0.66030979, -0.11225181,  0.60332869, -0.27307905]]),\n",
       " 'dW3': array([[-1.77691375, -0.11832879, -0.09397446]]),\n",
       " 'db3': array([[-0.38032985]]),\n",
       " 'dA1': array([[ 0.2048239 ,  0.33967455, -0.05774423,  0.31036251, -0.14047649],\n",
       "        [ 0.3672018 ,  0.60895779, -0.10352203,  0.55640808, -0.25184181]]),\n",
       " 'dW2': array([[ 0.79276497,  0.85133932],\n",
       "        [-0.0957219 , -0.01720463],\n",
       "        [-0.13100772, -0.03750433]]),\n",
       " 'db2': array([[0.26135229],\n",
       "        [0.        ],\n",
       "        [0.        ]]),\n",
       " 'dA0': array([[ 0.        , -0.34789869,  0.05914233, -0.31787694,  0.        ],\n",
       "        [ 0.        ,  0.29634039, -0.05037748,  0.27076784,  0.        ],\n",
       "        [ 0.        , -0.96841679,  0.1646296 , -0.88484775,  0.        ]]),\n",
       " 'dW1': array([[-0.25604647,  0.1229883 , -0.28297132],\n",
       "        [-0.17706304,  0.345361  , -0.44105717]]),\n",
       " 'db1': array([[0.11845857],\n",
       "        [0.21236877]])}"
      ]
     },
     "execution_count": 46,
     "metadata": {},
     "output_type": "execute_result"
    }
   ],
   "source": [
    "grads"
   ]
  },
  {
   "cell_type": "markdown",
   "id": "604efd42-f931-42ff-b41e-2e3d61269818",
   "metadata": {},
   "source": [
    "### 2-dropout\n",
    "\n",
    "详情如以下视频\n",
    "\n",
    "<center>\n",
    "<video width=\"620\" height=\"440\" src=\"./深度学习之吴恩达课程作业4/dropout1_kiank.mp4\" type=\"video/mp4\" controls>\n",
    "</video>\n",
    "</center>\n",
    "<br>\n",
    "<caption><center> <u> Figure 2 </u>: Drop-out on the second hidden layer. <br> At each iteration, you shut down (= set to zero) each neuron of a layer with probability $1 - keep\\_prob$ or keep it with probability $keep\\_prob$ (50% here). The dropped neurons don't contribute to the training in both the forward and backward propagations of the iteration. </center></caption>\n",
    "\n",
    "<center>\n",
    "<video width=\"620\" height=\"440\" src=\"./深度学习之吴恩达课程作业4/dropout2_kiank.mp4\" type=\"video/mp4\" controls>\n",
    "</video>\n",
    "</center>\n",
    "\n",
    "<caption><center> <u> Figure 3 </u>: Drop-out on the first and third hidden layers. <br> $1^{st}$ layer: we shut down on average 40% of the neurons.  $3^{rd}$ layer: we shut down on average 20% of the neurons. </center></caption>\n",
    "\n",
    "<font color=red size=5>注意：</font>\n",
    "1. 以`1-keep_prob`值丢弃units，则要将 Divide $A^{[1]}$ by `keep_prob`. By doing this you are assuring that the result of the cost will still have the same expected value as without drop-out. (This technique is also called inverted dropout.)"
   ]
  },
  {
   "cell_type": "markdown",
   "id": "304ef4d2-24f5-4fde-901c-16d082d4d106",
   "metadata": {},
   "source": [
    "#### 2.1-overwrite forward propagation"
   ]
  },
  {
   "cell_type": "code",
   "execution_count": 47,
   "id": "58f568e3-1487-4431-a48a-1ee25ba20e38",
   "metadata": {},
   "outputs": [],
   "source": [
    "def func_linear_forward(A, W, b):\n",
    "    \"\"\"\n",
    "    linear forward\n",
    "    :param A:\n",
    "    :param W:\n",
    "    :param b:\n",
    "    :return Z,chche:\n",
    "        Z -- the input of the activation function, also called pre-activation parameter \n",
    "        cache -- a python dictionary containing \"A\", \"W\" and \"b\" ; stored for computing the backward pass efficiently\n",
    "    \"\"\"\n",
    "    Z = np.dot(W, A) + b\n",
    "    \n",
    "    assert(Z.shape == (W.shape[0], A.shape[1]))\n",
    "    cache = (A, W, b)\n",
    "    return Z, cache\n",
    "\n",
    "def func_linear_activation_forward_with_dropout(A_prev, W, b, activation, keep_prob=None):\n",
    "    \"\"\"\n",
    "    Implement the forward propagation for the LINEAR->ACTIVATION layer\n",
    "    :param A_prev: activations from previous layer (or input data): (size of previous layer, number of examples)\n",
    "    :param W: weights matrix: numpy array of shape (size of current layer, size of previous layer)\n",
    "    :param b: bias vector, numpy array of shape (size of the current layer, 1)\n",
    "    :param activation: the activation to be used in this layer, stored as a text string: \"sigmoid\" or \"relu\"\n",
    "    :param keep_prob -- probability of keeping a neuron active during drop-out, scalar\n",
    "    :return:\n",
    "        A -- the output of the activation function, also called the post-activation value \n",
    "        cache -- a python dictionary containing \"linear_cache\" and \"activation_cache\";\n",
    "                 stored for computing the backward pass efficiently\n",
    "    \"\"\"\n",
    "    Z, linear_cache = func_linear_forward(A_prev, W, b)\n",
    "    D = None\n",
    "    if activation == 'sigmoid':\n",
    "        A, activation_cache = func_sigmoid(Z)\n",
    "    elif activation == 'relu':\n",
    "        A, activation_cache = func_relu(Z)\n",
    "        if keep_prob:\n",
    "            D = np.random.rand(*A.shape)  # Step 1: initialize matrix D1 = np.random.rand(..., ...)\n",
    "            D = D < keep_prob  # convert entries of D1 to 0 or 1 (using keep_prob as the threshold)\n",
    "            A = A * D  # shut down some neurons of A\n",
    "            A = A / keep_prob  # scale the value of neurons that haven't been shut down\n",
    "    else:\n",
    "        raise ValueError('activation param')\n",
    "    \n",
    "    assert(A.shape == (W.shape[0], A_prev.shape[1]))\n",
    "    cache = (linear_cache, activation_cache, D)\n",
    "    return A, cache\n",
    "\n",
    "def func_L_model_forward_with_dropout(X, parameters, keep_prob=0.5):\n",
    "    \"\"\"\n",
    "    Implement forward propagation for the [LINEAR->RELU]*(L-1)->LINEAR->SIGMOID computation\n",
    "    \n",
    "    :param X -- data, numpy array of shape (input size, number of examples)\n",
    "    :param parameters -- output of initialize_parameters_deep()\n",
    "    :param keep_prob -- probability of keeping a neuron active during drop-out, scalar\n",
    "    :return:\n",
    "        AL -- last post-activation value\n",
    "        caches -- list of caches containing:\n",
    "                    every cache of linear_relu_forward() (there are L-1 of them, indexed from 0 to L-2)\n",
    "                    the cache of linear_sigmoid_forward() (there is one, indexed L-1)\n",
    "    \"\"\"\n",
    "    np.random.seed(1)\n",
    "    caches = []\n",
    "    A = X\n",
    "    L = len(parameters) // 2\n",
    "    \n",
    "    for layer in range(1, L):\n",
    "        A_prev = A\n",
    "        W, b = parameters['W'+str(layer)], parameters['b'+str(layer)]\n",
    "        A, cache = func_linear_activation_forward_with_dropout(A_prev, W, b, 'relu', keep_prob)\n",
    "        caches.append(cache)\n",
    "    \n",
    "    A_prev = A\n",
    "    layer = L\n",
    "    W, b = parameters['W'+str(layer)], parameters['b'+str(layer)]\n",
    "    A, cache = func_linear_activation_forward_with_dropout(A_prev, W, b, 'sigmoid')\n",
    "    caches.append(cache)\n",
    "    \n",
    "    assert(A.shape == (1, X.shape[1]))\n",
    "    return A, caches"
   ]
  },
  {
   "cell_type": "code",
   "execution_count": 48,
   "id": "cc146245-9fdb-4179-9b41-3f98925af118",
   "metadata": {},
   "outputs": [],
   "source": [
    "def func_forward_propagation_with_dropout_test_case():\n",
    "    np.random.seed(1)\n",
    "    X_assess = np.random.randn(3, 5)\n",
    "    W1 = np.random.randn(2, 3)\n",
    "    b1 = np.random.randn(2, 1)\n",
    "    W2 = np.random.randn(3, 2)\n",
    "    b2 = np.random.randn(3, 1)\n",
    "    W3 = np.random.randn(1, 3)\n",
    "    b3 = np.random.randn(1, 1)\n",
    "    parameters = {\"W1\": W1, \"b1\": b1, \"W2\": W2, \"b2\": b2, \"W3\": W3, \"b3\": b3}\n",
    "    \n",
    "    return X_assess, parameters"
   ]
  },
  {
   "cell_type": "code",
   "execution_count": 49,
   "id": "c5b4d466-ba33-4434-b088-cccbdbc1d814",
   "metadata": {},
   "outputs": [],
   "source": [
    "X_assess, parameters = func_forward_propagation_with_dropout_test_case()"
   ]
  },
  {
   "cell_type": "code",
   "execution_count": 50,
   "id": "9e0eff7a-9224-49c6-88d9-dc06031e0472",
   "metadata": {},
   "outputs": [
    {
     "data": {
      "text/plain": [
       "(array([[ 1.62434536, -0.61175641, -0.52817175, -1.07296862,  0.86540763],\n",
       "        [-2.3015387 ,  1.74481176, -0.7612069 ,  0.3190391 , -0.24937038],\n",
       "        [ 1.46210794, -2.06014071, -0.3224172 , -0.38405435,  1.13376944]]),\n",
       " {'W1': array([[-1.09989127, -0.17242821, -0.87785842],\n",
       "         [ 0.04221375,  0.58281521, -1.10061918]]),\n",
       "  'b1': array([[1.14472371],\n",
       "         [0.90159072]]),\n",
       "  'W2': array([[ 0.50249434,  0.90085595],\n",
       "         [-0.68372786, -0.12289023],\n",
       "         [-0.93576943, -0.26788808]]),\n",
       "  'b2': array([[ 0.53035547],\n",
       "         [-0.69166075],\n",
       "         [-0.39675353]]),\n",
       "  'W3': array([[-0.6871727 , -0.84520564, -0.67124613]]),\n",
       "  'b3': array([[-0.0126646]])})"
      ]
     },
     "execution_count": 50,
     "metadata": {},
     "output_type": "execute_result"
    }
   ],
   "source": [
    "X_assess, parameters"
   ]
  },
  {
   "cell_type": "code",
   "execution_count": 51,
   "id": "c9b78cc5-77dc-4737-bc13-3629ae3a2659",
   "metadata": {},
   "outputs": [],
   "source": [
    "AL, caches = func_L_model_forward_with_dropout(X_assess, parameters, keep_prob=0.7)"
   ]
  },
  {
   "cell_type": "code",
   "execution_count": 52,
   "id": "3056aadb-b720-4cfc-8a52-43c7016419ae",
   "metadata": {},
   "outputs": [
    {
     "data": {
      "text/plain": [
       "(array([[0.36974721, 0.00305176, 0.04565099, 0.49683389, 0.36974721]]),\n",
       " [((array([[ 1.62434536, -0.61175641, -0.52817175, -1.07296862,  0.86540763],\n",
       "           [-2.3015387 ,  1.74481176, -0.7612069 ,  0.3190391 , -0.24937038],\n",
       "           [ 1.46210794, -2.06014071, -0.3224172 , -0.38405435,  1.13376944]]),\n",
       "    array([[-1.09989127, -0.17242821, -0.87785842],\n",
       "           [ 0.04221375,  0.58281521, -1.10061918]]),\n",
       "    array([[1.14472371],\n",
       "           [0.90159072]])),\n",
       "   array([[-1.52855314,  3.32524635,  2.13994541,  2.60700654, -0.75942115],\n",
       "          [-1.98043538,  4.1600994 ,  0.79051021,  1.46493512, -0.45506242]]),\n",
       "   array([[ True, False,  True,  True,  True],\n",
       "          [ True,  True,  True,  True,  True]])),\n",
       "  ((array([[0.        , 0.        , 3.05706487, 3.72429505, 0.        ],\n",
       "           [0.        , 5.94299915, 1.1293003 , 2.09276446, 0.        ]]),\n",
       "    array([[ 0.50249434,  0.90085595],\n",
       "           [-0.68372786, -0.12289023],\n",
       "           [-0.93576943, -0.26788808]]),\n",
       "    array([[ 0.53035547],\n",
       "           [-0.69166075],\n",
       "           [-0.39675353]])),\n",
       "   array([[ 0.53035547,  5.88414161,  3.08385015,  4.28707196,  0.53035547],\n",
       "          [-0.69166075, -1.42199726, -2.92064114, -3.49524533, -0.69166075],\n",
       "          [-0.39675353, -1.98881216, -3.55998747, -4.44246165, -0.39675353]]),\n",
       "   array([[ True,  True,  True, False,  True],\n",
       "          [ True,  True,  True,  True,  True],\n",
       "          [False, False,  True,  True, False]])),\n",
       "  ((array([[0.75765067, 8.40591658, 4.40550021, 0.        , 0.75765067],\n",
       "           [0.        , 0.        , 0.        , 0.        , 0.        ],\n",
       "           [0.        , 0.        , 0.        , 0.        , 0.        ]]),\n",
       "    array([[-0.6871727 , -0.84520564, -0.67124613]]),\n",
       "    array([[-0.0126646]])),\n",
       "   array([[-0.53330145, -5.78898099, -3.04000407, -0.0126646 , -0.53330145]]),\n",
       "   None)])"
      ]
     },
     "execution_count": 52,
     "metadata": {},
     "output_type": "execute_result"
    }
   ],
   "source": [
    "AL, caches"
   ]
  },
  {
   "cell_type": "markdown",
   "id": "f41ac35e-e17f-4b7c-8b14-31bf1d8c9984",
   "metadata": {},
   "source": [
    "#### 2.2 overwrite backward propagation\n",
    "\n",
    "1. You had previously shut down some neurons during forward propagation, by applying a mask $D^{[1]}$ to `A1`. In backpropagation, you will have to shut down the same neurons, by reapplying the same mask $D^{[1]}$ to `dA1`. \n",
    "2. During forward propagation, you had divided `A1` by `keep_prob`. In backpropagation, you'll therefore have to divide `dA1` by `keep_prob` again (the calculus interpretation is that if $A^{[1]}$ is scaled by `keep_prob`, then its derivative $dA^{[1]}$ is also scaled by the same `keep_prob`).\n"
   ]
  },
  {
   "cell_type": "code",
   "execution_count": 53,
   "id": "94630581-276f-4337-9b8f-3c0dd4650cdb",
   "metadata": {},
   "outputs": [],
   "source": [
    "def func_linear_backward(dZ, cache):\n",
    "    \"\"\"\n",
    "    Implement the linear portion of backward propagation for a single layer (layer l)\n",
    "\n",
    "    :param dZ -- Gradient of the cost with respect to the linear output (of current layer l)\n",
    "    :param cache -- tuple of values (A_prev, W, b) coming from the forward propagation in the current layer\n",
    "\n",
    "    :return:\n",
    "        dA_prev -- Gradient of the cost with respect to the activation (of the previous layer l-1), same shape as A_prev\n",
    "        dW -- Gradient of the cost with respect to W (current layer l), same shape as W\n",
    "        db -- Gradient of the cost with respect to b (current layer l), same shape as b\n",
    "    \"\"\"\n",
    "    A_prev, W, b = cache\n",
    "    m = A_prev.shape[1]\n",
    "    \n",
    "    dW = 1 / m * np.dot(dZ, A_prev.T)\n",
    "    db = 1 / m * np.sum(dZ, axis=1, keepdims=True)  # axis=1是行记录求和\n",
    "    dA_prev = np.dot(W.T, dZ)\n",
    "    \n",
    "    assert(dW.shape == W.shape)\n",
    "    assert(db.shape == b.shape)\n",
    "    assert(dA_prev.shape == A_prev.shape)\n",
    "    return dA_prev, dW, db\n",
    "\n",
    "def func_linear_activation_backward_with_dropout(dA, cache, activation, keep_prob=None):\n",
    "    \"\"\"\n",
    "    Implement the backward propagation for the LINEAR->ACTIVATION layer.\n",
    "    \n",
    "    :param dA -- post-activation gradient for current layer l \n",
    "    :param cache -- tuple of values (linear_cache, activation_cache) we store for computing backward propagation efficiently\n",
    "    :param activation -- the activation to be used in this layer, stored as a text string: \"sigmoid\" or \"relu\"\n",
    "    :param keep_prob -- 保留neuron的比例\n",
    "    :returns\n",
    "        dA_prev -- Gradient of the cost with respect to the activation (of the previous layer l-1), same shape as A_prev\n",
    "        dW -- Gradient of the cost with respect to W (current layer l), same shape as W\n",
    "        db -- Gradient of the cost with respect to b (current layer l), same shape as b\n",
    "    \"\"\"\n",
    "    linear_cache, activation_cache, D = cache\n",
    "    \n",
    "    if activation == 'relu':\n",
    "        if keep_prob and D is not None:\n",
    "            dA = dA * D  # shut down some neurons of A\n",
    "            dA = dA / keep_prob  # scale the value of neurons that haven't been shut down\n",
    "        dZ = func_relu_backward(dA, activation_cache)\n",
    "    elif activation == 'sigmoid':\n",
    "        dZ = func_sigmoid_backward(dA, activation_cache)\n",
    "    else:\n",
    "        raise ValueError('activation param')\n",
    "    dA_prev, dW, db = func_linear_backward(dZ, linear_cache)\n",
    "    return dA_prev, dW, db\n",
    "\n",
    "def func_L_model_backward_with_dropout(AL, Y, caches, keep_prob):\n",
    "    \"\"\"\n",
    "    Implement the backward propagation for the [LINEAR->RELU] * (L-1) -> LINEAR -> SIGMOID group\n",
    "    \n",
    "    :param AL -- probability vector, output of the forward propagation (L_model_forward())\n",
    "    :param Y -- true \"label\" vector (containing 0 if non-cat, 1 if cat)\n",
    "    :param caches -- list of caches containing:\n",
    "                    every cache of linear_activation_forward() with \"relu\" (it's caches[l], for l in range(L-1) i.e l = 0...L-2)\n",
    "                    the cache of linear_activation_forward() with \"sigmoid\" (it's caches[L-1])\n",
    "    :param keep_prob -- 保留neuron的比例\n",
    "    :return:\n",
    "        grads -- A dictionary with the gradients\n",
    "                 grads[\"dA\" + str(l)] = ... \n",
    "                 grads[\"dW\" + str(l)] = ...\n",
    "                 grads[\"db\" + str(l)] = ... \n",
    "    \"\"\"\n",
    "    grads = {}\n",
    "    L = len(caches)\n",
    "    m = AL.shape[1]\n",
    "    Y = Y.reshape(AL.shape)\n",
    "    \n",
    "    # todo divide by zero encountered in true_divide\n",
    "    dAL = - (np.divide(Y, AL, where=AL!=0) - np.divide(1-Y, 1-AL, where=(1-AL)!=0))\n",
    "    \n",
    "    cur_cache = caches[L-1]\n",
    "    grads['dA' + str(L-1)], grads['dW'+str(L)], grads['db'+str(L)] = func_linear_activation_backward_with_dropout(dAL, cur_cache, activation='sigmoid')\n",
    "    \n",
    "    for layer in reversed(range(L-1)):\n",
    "        cur_cache = caches[layer]\n",
    "        dA_prev_tmp, dW_tmp, db_tmp = func_linear_activation_backward_with_dropout(grads[\"dA\"+str(layer+1)], cur_cache, activation='relu', keep_prob=keep_prob)\n",
    "        grads['dA'+str(layer)] = dA_prev_tmp\n",
    "        grads['dW'+str(layer+1)] = dW_tmp\n",
    "        grads['db'+str(layer+1)] = db_tmp\n",
    "    \n",
    "#     current_cache = caches[L-1]\n",
    "#     grads[\"dA\" + str(L)], grads[\"dW\" + str(L)], grads[\"db\" + str(L)] = func_linear_activation_backward(dAL, current_cache, activation = \"sigmoid\")\n",
    "    \n",
    "#     for l in reversed(range(L-1)):\n",
    "#         # lth layer: (RELU -> LINEAR) gradients.\n",
    "#         current_cache = caches[l]\n",
    "#         dA_prev_temp, dW_temp, db_temp = func_linear_activation_backward(grads[\"dA\" + str(l + 2)], current_cache, activation = \"relu\")\n",
    "#         grads[\"dA\" + str(l + 1)] = dA_prev_temp\n",
    "#         grads[\"dW\" + str(l + 1)] = dW_temp\n",
    "#         grads[\"db\" + str(l + 1)] = db_temp\n",
    "    \n",
    "    return grads"
   ]
  },
  {
   "cell_type": "code",
   "execution_count": 54,
   "id": "08e76125-d635-41d4-8fb0-9c3e6aa664df",
   "metadata": {},
   "outputs": [],
   "source": [
    "def func_backward_propagation_with_dropout_test_case():\n",
    "    np.random.seed(1)\n",
    "    X_assess = np.random.randn(3, 5)\n",
    "    Y_assess = np.array([[1, 1, 0, 1, 0]])\n",
    "    cache = (np.array([[-1.52855314,  3.32524635,  2.13994541,  2.60700654, -0.75942115],\n",
    "           [-1.98043538,  4.1600994 ,  0.79051021,  1.46493512, -0.45506242]]), np.array([[ True, False,  True,  True,  True],\n",
    "           [ True,  True,  True,  True, False]], dtype=bool), np.array([[ 0.        ,  0.        ,  4.27989081,  5.21401307,  0.        ],\n",
    "           [ 0.        ,  8.32019881,  1.58102041,  2.92987024,  0.        ]]), np.array([[-1.09989127, -0.17242821, -0.87785842],\n",
    "           [ 0.04221375,  0.58281521, -1.10061918]]), np.array([[ 1.14472371],\n",
    "           [ 0.90159072]]), np.array([[ 0.53035547,  8.02565606,  4.10524802,  5.78975856,  0.53035547],\n",
    "           [-0.69166075, -1.71413186, -3.81223329, -4.61667916, -0.69166075],\n",
    "           [-0.39675353, -2.62563561, -4.82528105, -6.0607449 , -0.39675353]]), np.array([[ True, False,  True, False,  True],\n",
    "           [False,  True, False,  True,  True],\n",
    "           [False, False,  True, False, False]], dtype=bool), np.array([[ 1.06071093,  0.        ,  8.21049603,  0.        ,  1.06071093],\n",
    "           [ 0.        ,  0.        ,  0.        ,  0.        ,  0.        ],\n",
    "           [ 0.        ,  0.        ,  0.        ,  0.        ,  0.        ]]), np.array([[ 0.50249434,  0.90085595],\n",
    "           [-0.68372786, -0.12289023],\n",
    "           [-0.93576943, -0.26788808]]), np.array([[ 0.53035547],\n",
    "           [-0.69166075],\n",
    "           [-0.39675353]]), np.array([[-0.7415562 , -0.0126646 , -5.65469333, -0.0126646 , -0.7415562 ]]), np.array([[ 0.32266394,  0.49683389,  0.00348883,  0.49683389,  0.32266394]]), np.array([[-0.6871727 , -0.84520564, -0.67124613]]), np.array([[-0.0126646]]))\n",
    "\n",
    "\n",
    "    return X_assess, Y_assess, cache"
   ]
  },
  {
   "cell_type": "code",
   "execution_count": 55,
   "id": "180cd446-2dbc-4687-b952-5d838bb7a54f",
   "metadata": {},
   "outputs": [],
   "source": [
    "X_assess, Y_assess, cache = func_backward_propagation_with_dropout_test_case()"
   ]
  },
  {
   "cell_type": "code",
   "execution_count": 56,
   "id": "9f069f61-c832-481c-bc83-9fc7df0df7f1",
   "metadata": {},
   "outputs": [],
   "source": [
    "(Z1, D1, A1, W1, b1, Z2, D2, A2, W2, b2, Z3, A3, W3, b3) = cache"
   ]
  },
  {
   "cell_type": "code",
   "execution_count": 57,
   "id": "59f8bb25-d4b0-4648-89e7-e84aed9152e0",
   "metadata": {},
   "outputs": [],
   "source": [
    "caches = [((X_assess, W1, b1), Z1, D1), \n",
    "          ((A1, W2, b2), Z2, D2), \n",
    "          ((A2, W3, b3), Z3, None)]"
   ]
  },
  {
   "cell_type": "code",
   "execution_count": 58,
   "id": "75abf8da-1fec-4dc4-8801-2fafc8977fdc",
   "metadata": {},
   "outputs": [],
   "source": [
    "grads = func_L_model_backward_with_dropout(A3, Y_assess, caches, keep_prob=0.8)"
   ]
  },
  {
   "cell_type": "code",
   "execution_count": 59,
   "id": "b58f83e7-ddb3-47ed-b4bb-8059eefda25e",
   "metadata": {},
   "outputs": [
    {
     "data": {
      "text/plain": [
       "{'dA2': array([[ 0.46544685,  0.34576201, -0.00239743,  0.34576201, -0.22172585],\n",
       "        [ 0.57248826,  0.42527883, -0.00294878,  0.42527883, -0.27271738],\n",
       "        [ 0.45465921,  0.3377483 , -0.00234186,  0.3377483 , -0.21658692]]),\n",
       " 'dW3': array([[-0.06951191,  0.        ,  0.        ]]),\n",
       " 'db3': array([[-0.2715031]]),\n",
       " 'dA1': array([[ 0.29235551,  0.        , -0.00150587,  0.        , -0.13926998],\n",
       "        [ 0.5241257 ,  0.        , -0.00269967,  0.        , -0.24967881]]),\n",
       " 'dW2': array([[-0.00256518, -0.0009476 ],\n",
       "        [ 0.        ,  0.        ],\n",
       "        [ 0.        ,  0.        ]]),\n",
       " 'db2': array([[0.06033089],\n",
       "        [0.        ],\n",
       "        [0.        ]]),\n",
       " 'dA0': array([[ 0.        ,  0.        ,  0.00192791,  0.        ,  0.        ],\n",
       "        [ 0.        ,  0.        , -0.0016422 ,  0.        ,  0.        ],\n",
       "        [ 0.        ,  0.        ,  0.00536657,  0.        ,  0.        ]]),\n",
       " 'dW1': array([[0.00019884, 0.00028657, 0.00012138],\n",
       "        [0.00035647, 0.00051375, 0.00021761]]),\n",
       " 'db1': array([[-0.00037647],\n",
       "        [-0.00067492]])}"
      ]
     },
     "execution_count": 59,
     "metadata": {},
     "output_type": "execute_result"
    }
   ],
   "source": [
    "grads"
   ]
  },
  {
   "cell_type": "code",
   "execution_count": 60,
   "id": "83d1d012-9fcd-46ed-ac0f-07dbf79aa702",
   "metadata": {},
   "outputs": [
    {
     "data": {
      "text/plain": [
       "array([[ 0.58180856,  0.        , -0.00299679,  0.        , -0.27715731],\n",
       "       [ 0.        ,  0.53159854, -0.        ,  0.53159854, -0.34089673],\n",
       "       [ 0.        ,  0.        , -0.00292733,  0.        , -0.        ]])"
      ]
     },
     "execution_count": 60,
     "metadata": {},
     "output_type": "execute_result"
    }
   ],
   "source": [
    "grads['dA2'] * D2 / 0.8"
   ]
  },
  {
   "cell_type": "code",
   "execution_count": 61,
   "id": "3e8b9f2e-0493-4f36-bbb2-9716cb862a70",
   "metadata": {},
   "outputs": [
    {
     "data": {
      "text/plain": [
       "array([[ 0.36544439,  0.        , -0.00188234,  0.        , -0.17408748],\n",
       "       [ 0.65515713,  0.        , -0.00337459,  0.        , -0.        ]])"
      ]
     },
     "execution_count": 61,
     "metadata": {},
     "output_type": "execute_result"
    }
   ],
   "source": [
    "grads['dA1'] * D1 / 0.8"
   ]
  },
  {
   "cell_type": "markdown",
   "id": "d99d3fa6-6ef3-4e84-8c9b-e023488615f3",
   "metadata": {},
   "source": [
    "### overwrite dnn model"
   ]
  },
  {
   "cell_type": "code",
   "execution_count": 62,
   "id": "6317c804-399a-45db-85d8-8b4efe553bb6",
   "metadata": {},
   "outputs": [],
   "source": [
    "def func_L_layer_dnn_model(X, Y, layer_dims, lr=0.3, num_epochs=30000, print_cost=True, lambd=0, keep_prob=1):\n",
    "    \"\"\"\n",
    "    多层神经网络模型\n",
    "    :param X:\n",
    "    :param Y:\n",
    "    :param layer_dims: python array (list) containing the dimensions of each layer in our network\n",
    "    :param lr: learning rate\n",
    "    :param num_epochs:\n",
    "    :param print_cost:\n",
    "    :param lambd: regularilization parameters\n",
    "    :param keep_prob: dropout keep prob\n",
    "    \n",
    "    :return params\n",
    "    \"\"\"\n",
    "#     np.random.seed(1)\n",
    "    costs = []\n",
    "    grads = {}\n",
    "#     m = X.shape[1]\n",
    "    \n",
    "    # 参数初始化\n",
    "    parameters = func_L_layers_initialize_parameters(layer_dims, seed=3)\n",
    "    \n",
    "    # loop\n",
    "    for epoch in range(num_epochs):\n",
    "        # 前向传播\n",
    "        if keep_prob == 1:\n",
    "            AL, caches = func_L_model_forward(X, parameters)\n",
    "        elif keep_prob < 1:\n",
    "            AL, caches = func_L_model_forward_with_dropout(X, parameters, keep_prob)\n",
    "        \n",
    "        # 计算损失\n",
    "        if lambd == 0:\n",
    "            cost = func_compute_cost(AL, Y)\n",
    "        else:\n",
    "            cost = func_compute_cost_with_regularization(AL, Y, parameters, lambd)\n",
    "        \n",
    "        # 后向传播\n",
    "        assert(lambd==0 or keep_prob==1)    # it is possible to use both L2 regularization and dropout, \n",
    "                                            # but this assignment will only explore one at a time\n",
    "        if lambd == 0 and keep_prob == 1:\n",
    "            grads = func_L_model_backward(AL, Y, caches)\n",
    "        elif lambd != 0:\n",
    "            grads = func_L_model_backward_with_regularization(AL, Y, caches, lambd)\n",
    "        elif keep_prob < 1:\n",
    "            grads = func_L_model_backward_with_dropout(AL, Y, caches, keep_prob)\n",
    "\n",
    "        # 更新参数\n",
    "        parameters = func_update_parameters(parameters, grads, lr)\n",
    "        \n",
    "        # 打印信息\n",
    "        if print_cost and epoch % 1000 == 0:\n",
    "            print('cost after epoch {}: {}'.format(epoch, np.squeeze(cost)))\n",
    "        if epoch % 1000 == 0:\n",
    "            costs.append(cost)\n",
    "    \n",
    "    return parameters, costs"
   ]
  },
  {
   "cell_type": "markdown",
   "id": "041196df-4353-49b6-bb96-d3df1342fc99",
   "metadata": {},
   "source": [
    "### 在模拟数据上训练\n",
    "#### 导入数据"
   ]
  },
  {
   "cell_type": "code",
   "execution_count": 63,
   "id": "ee5d94fa-e4c3-4e6e-835f-b0f3eaf47843",
   "metadata": {},
   "outputs": [],
   "source": [
    "def load_2D_dataset():\n",
    "    data = scipy.io.loadmat('./深度学习之吴恩达课程作业4/data.mat')\n",
    "    train_X = data['X'].T\n",
    "    train_Y = data['y'].T\n",
    "    test_X = data['Xval'].T\n",
    "    test_Y = data['yval'].T\n",
    "\n",
    "    plt.scatter(train_X[0, :], train_X[1, :], c=train_Y, s=40, cmap=plt.cm.Spectral);\n",
    "    \n",
    "    return train_X, train_Y, test_X, test_Y"
   ]
  },
  {
   "cell_type": "code",
   "execution_count": 64,
   "id": "a555d11f-e126-4e53-8a34-685251651e48",
   "metadata": {},
   "outputs": [
    {
     "data": {
      "image/png": "[encoded data removed]",
      "text/plain": [
       "<Figure size 504x288 with 1 Axes>"
      ]
     },
     "metadata": {
      "needs_background": "light"
     },
     "output_type": "display_data"
    }
   ],
   "source": [
    "train_X, train_Y, test_X, test_Y = load_2D_dataset()"
   ]
  },
  {
   "cell_type": "markdown",
   "id": "c849c4e6-d5e1-4045-9d5a-ae93da109e3f",
   "metadata": {},
   "source": [
    "#### 设置参数"
   ]
  },
  {
   "cell_type": "code",
   "execution_count": 65,
   "id": "a6249956-b6c2-4f06-84ed-eba398d403fc",
   "metadata": {},
   "outputs": [
    {
     "name": "stdout",
     "output_type": "stream",
     "text": [
      "[2, 20, 3, 1]\n"
     ]
    }
   ],
   "source": [
    "layer_dims = [train_X.shape[0], 20, 3, 1]\n",
    "print(layer_dims)\n",
    "\n",
    "lr = 0.3\n",
    "num_epochs = 30000\n",
    "print_cost=True\n",
    "\n",
    "lambd = 0\n",
    "keep_prob=1"
   ]
  },
  {
   "cell_type": "markdown",
   "id": "ec869097-f205-4051-b4fe-6d50f7d8d156",
   "metadata": {},
   "source": [
    "#### baseline model: 没有任何正则化手段的模型"
   ]
  },
  {
   "cell_type": "code",
   "execution_count": 66,
   "id": "c7d34e33-730c-4f41-b8e2-c8864e392646",
   "metadata": {},
   "outputs": [
    {
     "name": "stdout",
     "output_type": "stream",
     "text": [
      "cost after epoch 0: 0.6557412523481002\n",
      "cost after epoch 1000: 0.2222669386845115\n",
      "cost after epoch 2000: 0.20288702607598844\n",
      "cost after epoch 3000: 0.1825149792468696\n",
      "cost after epoch 4000: 0.18053978306217752\n",
      "cost after epoch 5000: 0.17620471758400458\n",
      "cost after epoch 6000: 0.1683273039211542\n",
      "cost after epoch 7000: 0.16583593654672965\n",
      "cost after epoch 8000: 0.163126719144605\n",
      "cost after epoch 9000: 0.15942612253245111\n",
      "cost after epoch 10000: 0.16329987525724202\n",
      "cost after epoch 11000: 0.16098614487789192\n",
      "cost after epoch 12000: 0.15764474148192972\n",
      "cost after epoch 13000: 0.15213599644222855\n",
      "cost after epoch 14000: 0.14843713518977336\n",
      "cost after epoch 15000: 0.1479640092257416\n",
      "cost after epoch 16000: 0.1463487630634997\n",
      "cost after epoch 17000: 0.14634375863077015\n",
      "cost after epoch 18000: 0.1433508853738097\n",
      "cost after epoch 19000: 0.13936488362305466\n",
      "cost after epoch 20000: 0.13851642423258528\n",
      "cost after epoch 21000: 0.14118678351792227\n",
      "cost after epoch 22000: 0.13629319468823384\n",
      "cost after epoch 23000: 0.1315186013752767\n",
      "cost after epoch 24000: 0.13032326002084876\n",
      "cost after epoch 25000: 0.13285370211500933\n",
      "cost after epoch 26000: 0.12814812861960656\n",
      "cost after epoch 27000: 0.13263846518850458\n",
      "cost after epoch 28000: 0.12678384582783875\n",
      "cost after epoch 29000: 0.12408776091061005\n",
      "on the train set:\n",
      "acc: 0.9478672985781991\n",
      "on the test set:\n",
      "acc: 0.915\n"
     ]
    },
    {
     "data": {
      "image/png": "[encoded data removed]",
      "text/plain": [
       "<Figure size 504x288 with 1 Axes>"
      ]
     },
     "metadata": {
      "needs_background": "light"
     },
     "output_type": "display_data"
    }
   ],
   "source": [
    "parameters, costs = func_L_layer_dnn_model(train_X, train_Y, layer_dims, lr, num_epochs, print_cost, lambd=lambd, keep_prob=keep_prob)\n",
    "print('on the train set:')\n",
    "pred_train = func_predict(train_X, train_Y, parameters)\n",
    "print('on the test set:')\n",
    "pred_test = func_predict(test_X, test_Y, parameters)\n",
    "\n",
    "plt.plot(np.squeeze(costs))\n",
    "plt.ylabel('cost')\n",
    "plt.xlabel('iterations (per hundreds)')\n",
    "plt.title(\"Learning rate =\" + str(lr))\n",
    "plt.show()"
   ]
  },
  {
   "cell_type": "code",
   "execution_count": 67,
   "id": "3dbe65f0-4e49-4c03-9f9b-81da59651710",
   "metadata": {},
   "outputs": [
    {
     "data": {
      "image/png": "[encoded data removed]",
      "text/plain": [
       "<Figure size 504x288 with 1 Axes>"
      ]
     },
     "metadata": {
      "needs_background": "light"
     },
     "output_type": "display_data"
    }
   ],
   "source": [
    "plt.title(\"Model without regularization\")\n",
    "axes = plt.gca()\n",
    "axes.set_xlim([-0.75,0.40])\n",
    "axes.set_ylim([-0.75,0.65])\n",
    "func_plot_decision_boundary(lambda x: func_predict_dec(parameters, x.T), train_X, train_Y)"
   ]
  },
  {
   "cell_type": "markdown",
   "id": "7e280754-5412-485e-9aae-921c755b9d3a",
   "metadata": {
    "tags": []
   },
   "source": [
    "#### L2 regularization model"
   ]
  },
  {
   "cell_type": "code",
   "execution_count": 68,
   "id": "801c08ef-1c0e-4fa1-a022-e2353e1a81ad",
   "metadata": {},
   "outputs": [
    {
     "name": "stdout",
     "output_type": "stream",
     "text": [
      "[2, 20, 3, 1]\n"
     ]
    }
   ],
   "source": [
    "layer_dims = [train_X.shape[0], 20, 3, 1]\n",
    "print(layer_dims)\n",
    "\n",
    "lr = 0.3\n",
    "num_epochs = 30000\n",
    "print_cost=True\n",
    "\n",
    "lambd = 0.7\n",
    "keep_prob=1"
   ]
  },
  {
   "cell_type": "code",
   "execution_count": 69,
   "id": "f5efbc49-0024-428c-bb70-1046ed0cdbcf",
   "metadata": {},
   "outputs": [
    {
     "name": "stdout",
     "output_type": "stream",
     "text": [
      "cost after epoch 0: 0.6974484493131264\n",
      "cost after epoch 1000: 0.27304563479326766\n",
      "cost after epoch 2000: 0.26985760798332925\n",
      "cost after epoch 3000: 0.269508280641266\n",
      "cost after epoch 4000: 0.26926544493616217\n",
      "cost after epoch 5000: 0.2690430474349705\n",
      "cost after epoch 6000: 0.26889745607345616\n",
      "cost after epoch 7000: 0.26877517178557253\n",
      "cost after epoch 8000: 0.26867325020602606\n",
      "cost after epoch 9000: 0.2685595174585008\n",
      "cost after epoch 10000: 0.2684918873282239\n",
      "cost after epoch 11000: 0.2684141282822975\n",
      "cost after epoch 12000: 0.268370115369031\n",
      "cost after epoch 13000: 0.2683177401855035\n",
      "cost after epoch 14000: 0.26826704893477976\n",
      "cost after epoch 15000: 0.2682199033729047\n",
      "cost after epoch 16000: 0.2681687054797271\n",
      "cost after epoch 17000: 0.2681517100224052\n",
      "cost after epoch 18000: 0.2681331699914915\n",
      "cost after epoch 19000: 0.2680892379993576\n",
      "cost after epoch 20000: 0.26809163371273015\n",
      "cost after epoch 21000: 0.26803821899502356\n",
      "cost after epoch 22000: 0.26806045797644007\n",
      "cost after epoch 23000: 0.26782909050763876\n",
      "cost after epoch 24000: 0.2678953595054706\n",
      "cost after epoch 25000: 0.2679428566388702\n",
      "cost after epoch 26000: 0.26785446611618824\n",
      "cost after epoch 27000: 0.26791625501065636\n",
      "cost after epoch 28000: 0.26789526792627955\n",
      "cost after epoch 29000: 0.2678261099093219\n",
      "on the train set:\n",
      "acc: 0.9383886255924171\n",
      "on the test set:\n",
      "acc: 0.93\n"
     ]
    },
    {
     "data": {
      "image/png": "[encoded data removed]",
      "text/plain": [
       "<Figure size 504x288 with 1 Axes>"
      ]
     },
     "metadata": {
      "needs_background": "light"
     },
     "output_type": "display_data"
    }
   ],
   "source": [
    "parameters, costs = func_L_layer_dnn_model(train_X, train_Y, layer_dims, lr, num_epochs, print_cost, lambd=lambd, keep_prob=keep_prob)\n",
    "print('on the train set:')\n",
    "pred_train = func_predict(train_X, train_Y, parameters)\n",
    "print('on the test set:')\n",
    "pred_test = func_predict(test_X, test_Y, parameters)\n",
    "\n",
    "plt.plot(np.squeeze(costs))\n",
    "plt.ylabel('cost')\n",
    "plt.xlabel('iterations (per hundreds)')\n",
    "plt.title(\"Learning rate =\" + str(lr))\n",
    "plt.show()"
   ]
  },
  {
   "cell_type": "code",
   "execution_count": 70,
   "id": "e7f327b1-d6f6-4336-9b7c-86bc1bf60532",
   "metadata": {},
   "outputs": [
    {
     "data": {
      "image/png": "[encoded data removed]",
      "text/plain": [
       "<Figure size 504x288 with 1 Axes>"
      ]
     },
     "metadata": {
      "needs_background": "light"
     },
     "output_type": "display_data"
    }
   ],
   "source": [
    "plt.title(\"Model with L2-regularization\")\n",
    "axes = plt.gca()\n",
    "axes.set_xlim([-0.75,0.40])\n",
    "axes.set_ylim([-0.75,0.65])\n",
    "func_plot_decision_boundary(lambda x: func_predict_dec(parameters, x.T), train_X, train_Y)"
   ]
  },
  {
   "cell_type": "markdown",
   "id": "8b9831e6-82b0-45bf-9537-6428be25ebe5",
   "metadata": {
    "tags": []
   },
   "source": [
    "#### dropout model"
   ]
  },
  {
   "cell_type": "code",
   "execution_count": 71,
   "id": "e9a53fe5-3750-49e8-9d04-0413a9973dc2",
   "metadata": {},
   "outputs": [
    {
     "name": "stdout",
     "output_type": "stream",
     "text": [
      "[2, 20, 3, 1]\n"
     ]
    }
   ],
   "source": [
    "layer_dims = [train_X.shape[0], 20, 3, 1]\n",
    "print(layer_dims)\n",
    "\n",
    "lr = 0.3\n",
    "num_epochs = 30000\n",
    "print_cost=True\n",
    "\n",
    "lambd = 0\n",
    "keep_prob=0.86"
   ]
  },
  {
   "cell_type": "code",
   "execution_count": 72,
   "id": "bf2caa4c-b765-4abc-98bf-cd9ddee85379",
   "metadata": {},
   "outputs": [
    {
     "name": "stdout",
     "output_type": "stream",
     "text": [
      "cost after epoch 0: 0.6543912405149825\n",
      "cost after epoch 1000: 0.1759784892976791\n",
      "cost after epoch 2000: 0.10396707442944592\n",
      "cost after epoch 3000: 0.07661297787708934\n",
      "cost after epoch 4000: 0.06719891270763614\n",
      "cost after epoch 5000: 0.06466905010089666\n",
      "cost after epoch 6000: 0.06240987262093488\n",
      "cost after epoch 7000: 0.0618787353396944\n",
      "cost after epoch 8000: 0.06143321818157481\n",
      "cost after epoch 9000: 0.06119214378902588\n",
      "cost after epoch 10000: 0.06101698660803223\n",
      "cost after epoch 11000: 0.06093245086027745\n",
      "cost after epoch 12000: 0.06082640200152239\n",
      "cost after epoch 13000: 0.060862641336133956\n",
      "cost after epoch 14000: 0.06083521540719877\n",
      "cost after epoch 15000: 0.0606645721999514\n",
      "cost after epoch 16000: 0.06064947241699113\n",
      "cost after epoch 17000: 0.0606258566616184\n",
      "cost after epoch 18000: 0.060658745096947145\n",
      "cost after epoch 19000: 0.06059651334487958\n",
      "cost after epoch 20000: 0.060582435841229895\n",
      "cost after epoch 21000: 0.06055919942402353\n",
      "cost after epoch 22000: 0.06057898394513002\n",
      "cost after epoch 23000: 0.06056461470733185\n",
      "cost after epoch 24000: 0.060503590314540175\n",
      "cost after epoch 25000: 0.06050179006911904\n",
      "cost after epoch 26000: 0.06052211745803752\n",
      "cost after epoch 27000: 0.06047314743833395\n",
      "cost after epoch 28000: 0.06047206696729297\n",
      "cost after epoch 29000: 0.06048596676559831\n",
      "on the train set:\n",
      "acc: 0.9289099526066351\n",
      "on the test set:\n",
      "acc: 0.95\n"
     ]
    },
    {
     "data": {
      "image/png": "[encoded data removed]",
      "text/plain": [
       "<Figure size 504x288 with 1 Axes>"
      ]
     },
     "metadata": {
      "needs_background": "light"
     },
     "output_type": "display_data"
    }
   ],
   "source": [
    "parameters, costs = func_L_layer_dnn_model(train_X, train_Y, layer_dims, lr, num_epochs, print_cost, lambd=lambd, keep_prob=keep_prob)\n",
    "print('on the train set:')\n",
    "pred_train = func_predict(train_X, train_Y, parameters)\n",
    "print('on the test set:')\n",
    "pred_test = func_predict(test_X, test_Y, parameters)\n",
    "\n",
    "plt.plot(np.squeeze(costs))\n",
    "plt.ylabel('cost')\n",
    "plt.xlabel('iterations (per hundreds)')\n",
    "plt.title(\"Learning rate =\" + str(lr))\n",
    "plt.show()"
   ]
  },
  {
   "cell_type": "code",
   "execution_count": 73,
   "id": "f7b7089d-d3c2-431c-a58a-1c1f245c0149",
   "metadata": {},
   "outputs": [
    {
     "data": {
      "image/png": "[encoded data removed]",
      "text/plain": [
       "<Figure size 504x288 with 1 Axes>"
      ]
     },
     "metadata": {
      "needs_background": "light"
     },
     "output_type": "display_data"
    }
   ],
   "source": [
    "plt.title(\"Model with dropout\")\n",
    "axes = plt.gca()\n",
    "axes.set_xlim([-0.75,0.40])\n",
    "axes.set_ylim([-0.75,0.65])\n",
    "func_plot_decision_boundary(lambda x: func_predict_dec(parameters, x.T), train_X, train_Y)"
   ]
  },
  {
   "cell_type": "markdown",
   "id": "beb98e7b-ee6f-4913-b8e4-deb1ebbd178d",
   "metadata": {},
   "source": [
    "### <font color=red size=5>总结</font>\n",
    "\n",
    "Note that regularization hurts training set performance! This is because it limits the ability of the network to overfit to the training set. But since it ultimately gives better test accuracy, it is helping your system. "
   ]
  },
  {
   "cell_type": "markdown",
   "id": "28e6a5e6-75aa-42d4-aaa6-31067d0b8b3c",
   "metadata": {},
   "source": [
    "## 梯度检验\n",
    "\n",
    "* 检查反向传播过程是否正确？则需要梯度检验\n",
    "\n",
    "### 工作原理介绍\n",
    "\n",
    "1. 确保你的前向传播和计算loss完全正确！\n",
    "2. 检验反向传播过程，也就是检查$\\frac{\\partial J}{\\partial \\theta}$是否计算正确\n",
    "3. 回顾导数的定义\n",
    "\n",
    "$$\n",
    "\\frac{\\partial J}{\\partial \\theta} = \\lim_{\\varepsilon \\to 0} \\frac{J(\\theta + \\varepsilon) - J(\\theta - \\varepsilon)}{2 \\varepsilon}\n",
    "$$\n",
    "\n",
    "* 则可以使用$J(\\theta + \\varepsilon)$ and $J(\\theta - \\varepsilon)$ (in the case that $\\theta$ is a real number), since you're confident your implementation for $J$ is correct"
   ]
  },
  {
   "cell_type": "markdown",
   "id": "595283dc-9242-41a3-8406-9a21923d853f",
   "metadata": {},
   "source": [
    "### 1D 梯度检验\n",
    "\n",
    "#### 步骤\n",
    " To show that the `func_1d_backward_propagation()` function is correctly computing the gradient $\\frac{\\partial J}{\\partial \\theta}$, let's implement gradient checking.\n",
    "\n",
    "- First compute \"gradapprox\" using the formula above (1) and a small value of $\\varepsilon$. Here are the Steps to follow:\n",
    "    1. $\\theta^{+} = \\theta + \\varepsilon$\n",
    "    2. $\\theta^{-} = \\theta - \\varepsilon$\n",
    "    3. $J^{+} = J(\\theta^{+})$\n",
    "    4. $J^{-} = J(\\theta^{-})$\n",
    "    5. $gradapprox = \\frac{J^{+} - J^{-}}{2  \\varepsilon}$\n",
    "- Then compute the gradient using backward propagation, and store the result in a variable \"grad\"\n",
    "- Finally, compute the relative difference between \"gradapprox\" and the \"grad\" using the following formula:\n",
    "$$ difference = \\frac {\\mid\\mid grad - gradapprox \\mid\\mid_2}{\\mid\\mid grad \\mid\\mid_2 + \\mid\\mid gradapprox \\mid\\mid_2} \\tag{2}$$\n",
    "You will need 3 Steps to compute this formula:\n",
    "   - 1'. compute the numerator using np.linalg.norm(...)\n",
    "   - 2'. compute the denominator. You will need to call np.linalg.norm(...) twice.\n",
    "   - 3'. divide them.\n",
    "- If this difference is small (say less than $10^{-7}$), you can be quite confident that you have computed your gradient correctly. Otherwise, there may be a mistake in the gradient computation. \n"
   ]
  },
  {
   "cell_type": "code",
   "execution_count": 74,
   "id": "c1beeaa1-5103-49a2-ac60-7f944a21ec7c",
   "metadata": {},
   "outputs": [],
   "source": [
    "def func_1d_forward_propagation(x, theta):\n",
    "    \"\"\"\n",
    "    Implement the linear forward propagation (compute J) presented in Figure 1 (J(theta) = theta * x)\n",
    "    \n",
    "    Arguments:\n",
    "    x -- a real-valued input\n",
    "    theta -- our parameter, a real number as well\n",
    "    \n",
    "    Returns:\n",
    "    J -- the value of function J, computed using the formula J(theta) = theta * x\n",
    "    \"\"\"\n",
    "    return theta * x"
   ]
  },
  {
   "cell_type": "code",
   "execution_count": 75,
   "id": "d9f3f0ee-9aec-4dd8-ad9b-aa3efb233057",
   "metadata": {},
   "outputs": [
    {
     "name": "stdout",
     "output_type": "stream",
     "text": [
      "8\n"
     ]
    }
   ],
   "source": [
    "x, theta = 2, 4\n",
    "J = func_1d_forward_propagation(x, theta)\n",
    "print(J)"
   ]
  },
  {
   "cell_type": "code",
   "execution_count": 76,
   "id": "525b368b-a0cd-473e-89dd-90751c611fa2",
   "metadata": {},
   "outputs": [],
   "source": [
    "def func_1d_backward_propagation(x, theta):\n",
    "    dtheta = x\n",
    "    return dtheta"
   ]
  },
  {
   "cell_type": "code",
   "execution_count": 77,
   "id": "43ea2bd7-044d-40f7-9007-2e4e042b6075",
   "metadata": {},
   "outputs": [
    {
     "name": "stdout",
     "output_type": "stream",
     "text": [
      "2\n"
     ]
    }
   ],
   "source": [
    "dtheta = func_1d_backward_propagation(x, theta)\n",
    "print(dtheta)"
   ]
  },
  {
   "cell_type": "code",
   "execution_count": 78,
   "id": "a9a3c3b6-1ead-4dc1-a36d-37f3076da553",
   "metadata": {},
   "outputs": [],
   "source": [
    "def func_1d_gradient_check(x, theta, epsilon=1e-7):\n",
    "    \"\"\"\n",
    "    Implement the backward propagation presented in Figure 1.\n",
    "    \n",
    "    Arguments:\n",
    "    x -- a real-valued input\n",
    "    theta -- our parameter, a real number as well\n",
    "    epsilon -- tiny shift to the input to compute approximated gradient with formula(1)\n",
    "    \n",
    "    Returns:\n",
    "    difference -- difference (2) between the approximated gradient and the backward propagation gradient\n",
    "    \"\"\"\n",
    "    theta_plus = theta + epsilon\n",
    "    theta_minus = theta - epsilon\n",
    "    \n",
    "    J_plus = func_1d_forward_propagation(x, theta_plus)\n",
    "    J_minus = func_1d_forward_propagation(x, theta_minus)\n",
    "    \n",
    "    grad_approx = (J_plus - J_minus) / 2 / epsilon\n",
    "    \n",
    "    grad = func_1d_backward_propagation(x, theta)\n",
    "    \n",
    "    numerator = np.linalg.norm(grad - grad_approx)\n",
    "    denominator = np.linalg.norm(grad) + np.linalg.norm(grad_approx)\n",
    "    difference = numerator / denominator\n",
    "    \n",
    "    if difference < 1e-7:\n",
    "        print('the gradient is correct!')\n",
    "    else:\n",
    "        print('the gradient is wrong!')\n",
    "    return difference"
   ]
  },
  {
   "cell_type": "code",
   "execution_count": 79,
   "id": "291b29de-ed00-4bdc-b383-c12d8dbacab2",
   "metadata": {},
   "outputs": [
    {
     "name": "stdout",
     "output_type": "stream",
     "text": [
      "the gradient is correct!\n"
     ]
    },
    {
     "data": {
      "text/plain": [
       "2.919335883291695e-10"
      ]
     },
     "execution_count": 79,
     "metadata": {},
     "output_type": "execute_result"
    }
   ],
   "source": [
    "difference = func_1d_gradient_check(x, theta)\n",
    "difference"
   ]
  },
  {
   "cell_type": "markdown",
   "id": "b5e5f940-0b06-4f23-8e34-1e76989b0f86",
   "metadata": {},
   "source": [
    "### N-dimensional gradient checking\n",
    "\n",
    "#### check function=自己写的"
   ]
  },
  {
   "cell_type": "code",
   "execution_count": 80,
   "id": "278ca01a-2185-41cd-8a29-8be95075fc56",
   "metadata": {},
   "outputs": [],
   "source": [
    "def func_nd_gradient_check(parameters, gradients, X, Y, epsilon=1e-7):\n",
    "    \"\"\"\n",
    "    Checks if backward_propagation_n computes correctly the gradient of the cost output by forward_propagation_n\n",
    "    \n",
    "    Arguments:\n",
    "    parameters -- python dictionary containing your parameters \"W1\", \"b1\", \"W2\", \"b2\", \"W3\", \"b3\":\n",
    "    grad -- output of backward_propagation_n, contains gradients of the cost with respect to the parameters. \n",
    "    x -- input datapoint, of shape (input size, 1)\n",
    "    y -- true \"label\"\n",
    "    epsilon -- tiny shift to the input to compute approximated gradient with formula(1)\n",
    "    \n",
    "    Returns:\n",
    "    difference -- difference (2) between the approximated gradient and the backward propagation gradient\n",
    "    \"\"\"\n",
    "    \n",
    "    gradients_approx = {}\n",
    "    \n",
    "    for key, value in parameters.items():\n",
    "#         print(key)\n",
    "        parameters_copy = copy.copy(parameters)\n",
    "        \n",
    "        value_shape = value.shape  # w参数的规模\n",
    "        value_vector = np.reshape(value, (-1, 1))  # 将w展开成(n_w, 1)\n",
    "#         print(value_vector.shape, value_shape)\n",
    "        gradapprox_vector = np.zeros((value_vector.shape[0], 1))  # 每改变一个w，对应一个gradapprox\n",
    "        for i in range(value_vector.shape[0]):  # 每个w过一遍\n",
    "            theta_plus = np.copy(value_vector)\n",
    "            theta_plus[i][0] = theta_plus[i][0] + epsilon\n",
    "            parameters_copy[key] = theta_plus.reshape(value_shape)\n",
    "    #         print(parameters_copy)\n",
    "            AL, _ = func_L_model_forward(X, parameters_copy)\n",
    "            cost_plus = func_compute_cost(AL, Y)\n",
    "\n",
    "            theta_minus = np.copy(value_vector)\n",
    "            theta_minus[i][0] = theta_minus[i][0] - epsilon\n",
    "            parameters_copy[key] = theta_minus.reshape(value_shape)\n",
    "            AL, _ = func_L_model_forward(X, parameters_copy)\n",
    "            cost_minus = func_compute_cost(AL, Y)\n",
    "            \n",
    "            gradapprox_vector[i] = (cost_plus - cost_minus) / 2 / epsilon\n",
    "#         print(gradapprox_vector, gradapprox_vector.shape)\n",
    "        gradients_approx['d'+key] = gradapprox_vector.reshape(value_shape)\n",
    "    \n",
    "    \n",
    "    # 将gradients转成vector\n",
    "    count = 0\n",
    "    for key in gradients_approx.keys():\n",
    "#         print(key)\n",
    "        new_vector = np.reshape(gradients[key], (-1, 1))\n",
    "        new_vector_approx = np.reshape(gradients_approx[key], (-1, 1))\n",
    "        \n",
    "        if count == 0:\n",
    "            theta = new_vector\n",
    "            theta_approx = new_vector_approx\n",
    "        else:\n",
    "            theta = np.concatenate((theta, new_vector), axis=0)\n",
    "            theta_approx = np.concatenate((theta_approx, new_vector_approx), axis=0)\n",
    "        count += 1\n",
    "    \n",
    "    # 计算difference\n",
    "#     print(theta.shape, theta_approx.shape)\n",
    "#     print(theta, theta_approx)\n",
    "    numerator = np.linalg.norm(theta - theta_approx)\n",
    "    denominator = np.linalg.norm(theta) + np.linalg.norm(theta_approx)\n",
    "#     print(numerator, denominator)\n",
    "#     print(np.linalg.norm(theta), np.linalg.norm(theta_approx))\n",
    "    difference = numerator / denominator\n",
    "    \n",
    "    if difference > 2e-7:\n",
    "        print (\"\\033[93m\" + \"There is a mistake in the backward propagation! difference = \" + str(difference) + \"\\033[0m\")\n",
    "    else:\n",
    "        print (\"\\033[92m\" + \"Your backward propagation works perfectly fine! difference = \" + str(difference) + \"\\033[0m\")\n",
    "    \n",
    "    return difference"
   ]
  },
  {
   "cell_type": "markdown",
   "id": "5bb94f62-fa2c-44bb-956b-746671f4c1c0",
   "metadata": {},
   "source": [
    "#### 测试用的"
   ]
  },
  {
   "cell_type": "code",
   "execution_count": 81,
   "id": "de3b88af-e109-4db8-b3d1-d5640247c260",
   "metadata": {},
   "outputs": [],
   "source": [
    "def dictionary_to_vector(parameters):\n",
    "    \"\"\"\n",
    "    Roll all our parameters dictionary into a single vector satisfying our specific required shape.\n",
    "    \"\"\"\n",
    "    keys = []\n",
    "    count = 0\n",
    "    for key in [\"W1\", \"b1\", \"W2\", \"b2\", \"W3\", \"b3\"]:\n",
    "        \n",
    "        # flatten parameter\n",
    "        new_vector = np.reshape(parameters[key], (-1,1))\n",
    "        keys = keys + [key]*new_vector.shape[0]\n",
    "        \n",
    "        if count == 0:\n",
    "            theta = new_vector\n",
    "        else:\n",
    "            theta = np.concatenate((theta, new_vector), axis=0)\n",
    "        count = count + 1\n",
    "\n",
    "    return theta, keys"
   ]
  },
  {
   "cell_type": "code",
   "execution_count": 82,
   "id": "d6bded25-da95-45b6-ad09-36c750886532",
   "metadata": {},
   "outputs": [],
   "source": [
    "def vector_to_dictionary(theta):\n",
    "    \"\"\"\n",
    "    Unroll all our parameters dictionary from a single vector satisfying our specific required shape.\n",
    "    \"\"\"\n",
    "    parameters = {}\n",
    "    parameters[\"W1\"] = theta[:20].reshape((10,2))\n",
    "    parameters[\"b1\"] = theta[20:30].reshape((10,1))\n",
    "    parameters[\"W2\"] = theta[30:80].reshape((5,10))\n",
    "    parameters[\"b2\"] = theta[80:85].reshape((5,1))\n",
    "    parameters[\"W3\"] = theta[85:90].reshape((1,5))\n",
    "    parameters[\"b3\"] = theta[90:91].reshape((1,1))\n",
    "\n",
    "    return parameters"
   ]
  },
  {
   "cell_type": "code",
   "execution_count": 83,
   "id": "0faf8a34-c2cc-4a62-9ca7-5e17f16350bf",
   "metadata": {},
   "outputs": [],
   "source": [
    "def gradients_to_vector(gradients):\n",
    "    \"\"\"\n",
    "    Roll all our gradients dictionary into a single vector satisfying our specific required shape.\n",
    "    \"\"\"\n",
    "    \n",
    "    count = 0\n",
    "    for key in [\"dW1\", \"db1\", \"dW2\", \"db2\", \"dW3\", \"db3\"]:\n",
    "        # flatten parameter\n",
    "        new_vector = np.reshape(gradients[key], (-1,1))\n",
    "        \n",
    "        if count == 0:\n",
    "            theta = new_vector\n",
    "        else:\n",
    "            theta = np.concatenate((theta, new_vector), axis=0)\n",
    "        count = count + 1\n",
    "\n",
    "    return theta"
   ]
  },
  {
   "cell_type": "code",
   "execution_count": 84,
   "id": "e4a4aa0d-e5ea-4c4e-bf67-83ed59406c9c",
   "metadata": {},
   "outputs": [],
   "source": [
    "# GRADED FUNCTION: gradient_check_n\n",
    "\n",
    "def gradient_check_n(parameters, gradients, X, Y, epsilon = 1e-7):\n",
    "    \"\"\"\n",
    "    Checks if backward_propagation_n computes correctly the gradient of the cost output by forward_propagation_n\n",
    "    \n",
    "    Arguments:\n",
    "    parameters -- python dictionary containing your parameters \"W1\", \"b1\", \"W2\", \"b2\", \"W3\", \"b3\":\n",
    "    grad -- output of backward_propagation_n, contains gradients of the cost with respect to the parameters. \n",
    "    x -- input datapoint, of shape (input size, 1)\n",
    "    y -- true \"label\"\n",
    "    epsilon -- tiny shift to the input to compute approximated gradient with formula(1)\n",
    "    \n",
    "    Returns:\n",
    "    difference -- difference (2) between the approximated gradient and the backward propagation gradient\n",
    "    \"\"\"\n",
    "    \n",
    "    # Set-up variables\n",
    "    parameters_values, _ = dictionary_to_vector(parameters)\n",
    "    grad = gradients_to_vector(gradients)\n",
    "    num_parameters = parameters_values.shape[0]\n",
    "    J_plus = np.zeros((num_parameters, 1))\n",
    "    J_minus = np.zeros((num_parameters, 1))\n",
    "    gradapprox = np.zeros((num_parameters, 1))\n",
    "    \n",
    "    # Compute gradapprox\n",
    "    for i in range(num_parameters):\n",
    "        \n",
    "        # Compute J_plus[i]. Inputs: \"parameters_values, epsilon\". Output = \"J_plus[i]\".\n",
    "        # \"_\" is used because the function you have to outputs two parameters but we only care about the first one\n",
    "        ### START CODE HERE ### (approx. 3 lines)\n",
    "        thetaplus = np.copy(parameters_values)                                      # Step 1\n",
    "        thetaplus[i][0] += epsilon                                # Step 2\n",
    "        AL, _ = func_L_model_forward(X, vector_to_dictionary( thetaplus  ))\n",
    "        J_plus[i] = func_compute_cost(AL, Y)\n",
    "#         J_plus[i], _ = forward_propagation_n(X, Y, vector_to_dictionary( thetaplus  ))                                   # Step 3\n",
    "        ### END CODE HERE ###\n",
    "        \n",
    "        # Compute J_minus[i]. Inputs: \"parameters_values, epsilon\". Output = \"J_minus[i]\".\n",
    "        ### START CODE HERE ### (approx. 3 lines)\n",
    "        thetaminus = np.copy(parameters_values)                                     # Step 1\n",
    "        thetaminus[i][0] -= epsilon                               # Step 2        \n",
    "        AL, _ = func_L_model_forward(X, vector_to_dictionary( thetaminus  ))\n",
    "        J_minus[i] = func_compute_cost(AL, Y)\n",
    "#         J_minus[i], _ = forward_propagation_n(X, Y, vector_to_dictionary( thetaminus  ))                                  # Step 3\n",
    "        ### END CODE HERE ###\n",
    "        \n",
    "        # Compute gradapprox[i]\n",
    "        ### START CODE HERE ### (approx. 1 line)\n",
    "        gradapprox[i] = (J_plus[i] - J_minus[i]) / 2/ epsilon\n",
    "        ### END CODE HERE ###\n",
    "    \n",
    "    # Compare gradapprox to backward propagation gradients by computing difference.\n",
    "    ### START CODE HERE ### (approx. 1 line)\n",
    "    numerator = np.linalg.norm(grad - gradapprox)                               # Step 1'\n",
    "    denominator = np.linalg.norm(grad) + np.linalg.norm(gradapprox)                                         # Step 2'\n",
    "#     print(numerator, denominator)\n",
    "#     print(grad, gradapprox)\n",
    "    difference = numerator / denominator                                          # Step 3'\n",
    "    ### END CODE HERE ###\n",
    "\n",
    "    if difference > 2e-7:\n",
    "        print (\"\\033[93m\" + \"There is a mistake in the backward propagation! difference = \" + str(difference) + \"\\033[0m\")\n",
    "    else:\n",
    "        print (\"\\033[92m\" + \"Your backward propagation works perfectly fine! difference = \" + str(difference) + \"\\033[0m\")\n",
    "    \n",
    "    return difference"
   ]
  },
  {
   "cell_type": "markdown",
   "id": "8f896ae5-0606-4748-ac3b-585c88c37cde",
   "metadata": {},
   "source": [
    "#### overwrite dnn model"
   ]
  },
  {
   "cell_type": "code",
   "execution_count": 85,
   "id": "e8184432-4a8d-4d5a-bf88-6d03d25e73a1",
   "metadata": {},
   "outputs": [],
   "source": [
    "def func_L_layer_dnn_model(X, Y, layer_dims, lr=0.001, num_epochs=10000, print_cost=False):\n",
    "    \"\"\"\n",
    "    多层神经网络模型\n",
    "    :param X:\n",
    "    :param Y:\n",
    "    :param layer_dims: python array (list) containing the dimensions of each layer in our network\n",
    "    :param lr: learning rate\n",
    "    :param num_epochs:\n",
    "    :param print_cost:\n",
    "    :return params\n",
    "    \"\"\"\n",
    "    np.random.seed(1)\n",
    "    costs = []\n",
    "#     m = X.shape[1]\n",
    "    \n",
    "    # 参数初始化\n",
    "    parameters = func_L_layers_initialize_parameters(layer_dims)\n",
    "    \n",
    "    # loop\n",
    "    for epoch in range(num_epochs):\n",
    "        # 前向传播\n",
    "        AL, caches = func_L_model_forward(X, parameters)\n",
    "        \n",
    "        # 计算损失\n",
    "        cost = func_compute_cost(AL, Y)\n",
    "        \n",
    "        # 后向传播\n",
    "        grads = func_L_model_backward(AL, Y, caches)\n",
    "        \n",
    "        if epoch == num_epochs-1:\n",
    "            # 梯度检验\n",
    "            # print(grads, caches)\n",
    "            difference = func_nd_gradient_check(parameters, grads, X, Y)\n",
    "            difference = gradient_check_n(parameters, grads, X, Y)\n",
    "        \n",
    "\n",
    "        # 更新参数\n",
    "        parameters = func_update_parameters(parameters, grads, lr)\n",
    "        \n",
    "        # 打印信息\n",
    "        if print_cost and epoch % 100 == 0:\n",
    "            print('cost after epoch {}: {}'.format(epoch, np.squeeze(cost)))\n",
    "        if epoch % 100 == 0:\n",
    "            costs.append(cost)\n",
    "    \n",
    "    return parameters, costs"
   ]
  },
  {
   "cell_type": "markdown",
   "id": "22e99c6b-aefe-49d5-885c-428d5eab27ad",
   "metadata": {},
   "source": [
    "#### 在模拟数据上训练\n",
    "##### 导入数据"
   ]
  },
  {
   "cell_type": "code",
   "execution_count": 86,
   "id": "33719423-31f8-4470-ba8b-34d775357be0",
   "metadata": {},
   "outputs": [
    {
     "data": {
      "image/png": "[encoded data removed]",
      "text/plain": [
       "<Figure size 504x288 with 1 Axes>"
      ]
     },
     "metadata": {
      "needs_background": "light"
     },
     "output_type": "display_data"
    }
   ],
   "source": [
    "train_X, train_Y, test_X, test_Y = load_dataset()"
   ]
  },
  {
   "cell_type": "markdown",
   "id": "7451c592-e65c-4113-aef5-c2b1b4992336",
   "metadata": {},
   "source": [
    "##### 参数设置"
   ]
  },
  {
   "cell_type": "code",
   "execution_count": 87,
   "id": "b2d12600-970e-4a13-9350-a82063692b8d",
   "metadata": {},
   "outputs": [
    {
     "name": "stdout",
     "output_type": "stream",
     "text": [
      "[2, 10, 5, 1]\n"
     ]
    }
   ],
   "source": [
    "layer_dims = [train_X.shape[0], 10, 5, 1]\n",
    "print(layer_dims)\n",
    "\n",
    "lr = 0.1\n",
    "num_epochs = 1500\n",
    "print_cost=True"
   ]
  },
  {
   "cell_type": "code",
   "execution_count": 88,
   "id": "d23f1f00-eabe-4f1e-b961-e7bd746d6ca3",
   "metadata": {},
   "outputs": [
    {
     "name": "stdout",
     "output_type": "stream",
     "text": [
      "cost after epoch 0: 0.6960659020466242\n",
      "cost after epoch 100: 0.6891991419051238\n",
      "cost after epoch 200: 0.6850092483958543\n",
      "cost after epoch 300: 0.6798479812645738\n",
      "cost after epoch 400: 0.6729753561826027\n",
      "cost after epoch 500: 0.6580667774079205\n",
      "cost after epoch 600: 0.6311404895208866\n",
      "cost after epoch 700: 0.5853323852501582\n",
      "cost after epoch 800: 0.5132274924019706\n",
      "cost after epoch 900: 0.41849780592362346\n",
      "cost after epoch 1000: 0.3288154213170582\n",
      "cost after epoch 1100: 0.2578987108855108\n",
      "cost after epoch 1200: 0.20516738899849638\n",
      "cost after epoch 1300: 0.16682454264195795\n",
      "cost after epoch 1400: 0.13371779611157564\n",
      "\u001b[92mYour backward propagation works perfectly fine! difference = 1.0610826936117557e-08\u001b[0m\n",
      "\u001b[92mYour backward propagation works perfectly fine! difference = 1.0610826936117557e-08\u001b[0m\n",
      "on the train set:\n",
      "acc: 0.99\n",
      "on the test set:\n",
      "acc: 0.94\n"
     ]
    },
    {
     "data": {
      "image/png": "[encoded data removed]",
      "text/plain": [
       "<Figure size 504x288 with 1 Axes>"
      ]
     },
     "metadata": {
      "needs_background": "light"
     },
     "output_type": "display_data"
    }
   ],
   "source": [
    "parameters, costs = func_L_layer_dnn_model(train_X, train_Y, layer_dims, lr, num_epochs, print_cost)\n",
    "print('on the train set:')\n",
    "pred_train = func_predict(train_X, train_Y, parameters)\n",
    "print('on the test set:')\n",
    "pred_test = func_predict(test_X, test_Y, parameters)\n",
    "\n",
    "plt.plot(np.squeeze(costs))\n",
    "plt.ylabel('cost')\n",
    "plt.xlabel('iterations (per hundreds)')\n",
    "plt.title(\"Learning rate =\" + str(lr))\n",
    "plt.show()"
   ]
  },
  {
   "cell_type": "code",
   "execution_count": 89,
   "id": "acf5c400-605e-47ee-bc67-fbdefe2ca34d",
   "metadata": {},
   "outputs": [
    {
     "name": "stdout",
     "output_type": "stream",
     "text": [
      "W1 (10, 2)\n",
      "b1 (10, 1)\n",
      "W2 (5, 10)\n",
      "b2 (5, 1)\n",
      "W3 (1, 5)\n",
      "b3 (1, 1)\n"
     ]
    }
   ],
   "source": [
    "for key, value in parameters.items():\n",
    "    print(key, value.shape)"
   ]
  },
  {
   "cell_type": "code",
   "execution_count": 90,
   "id": "29c1e26e-82d8-4df4-881f-c66e74c509fe",
   "metadata": {},
   "outputs": [
    {
     "data": {
      "image/png": "[encoded data removed]",
      "text/plain": [
       "<Figure size 504x288 with 1 Axes>"
      ]
     },
     "metadata": {
      "needs_background": "light"
     },
     "output_type": "display_data"
    }
   ],
   "source": [
    "plt.title(\"Model with np.sqrt(layer_dims(layer-1)) initialization\")\n",
    "axes = plt.gca()\n",
    "axes.set_xlim([-1.5,1.5])\n",
    "axes.set_ylim([-1.5,1.5])\n",
    "func_plot_decision_boundary(lambda x: func_predict_dec(parameters, x.T), train_X, train_Y)"
   ]
  },
  {
   "cell_type": "markdown",
   "id": "f63bbf5f-691a-4730-83af-ed75ba775371",
   "metadata": {},
   "source": [
    "### <font color=red size=5>总结</font>\n",
    "\n",
    "1. 梯度检验很慢，因为每一个w的分量都要计算plus和minus，所以不用每一个epoch都梯度检验，只需要某些epoch进行检验梯度计算是否正确即可\n",
    "2. 梯度检验不适用于dropout，先检验是否正确，再加dropout"
   ]
  },
  {
   "cell_type": "code",
   "execution_count": null,
   "id": "efe8bdff-dcd4-4400-abcc-688328a91f65",
   "metadata": {},
   "outputs": [],
   "source": []
  },
  {
   "cell_type": "code",
   "execution_count": null,
   "id": "01c4ed2a-2bb3-4685-ac23-a660c954ee8b",
   "metadata": {},
   "outputs": [],
   "source": []
  }
 ],
 "metadata": {
  "kernelspec": {
   "display_name": "tensorflow",
   "language": "python",
   "name": "tensorflow"
  },
  "language_info": {
   "codemirror_mode": {
    "name": "ipython",
    "version": 3
   },
   "file_extension": ".py",
   "mimetype": "text/x-python",
   "name": "python",
   "nbconvert_exporter": "python",
   "pygments_lexer": "ipython3",
   "version": "3.8.12"
  }
 },
 "nbformat": 4,
 "nbformat_minor": 5
}
