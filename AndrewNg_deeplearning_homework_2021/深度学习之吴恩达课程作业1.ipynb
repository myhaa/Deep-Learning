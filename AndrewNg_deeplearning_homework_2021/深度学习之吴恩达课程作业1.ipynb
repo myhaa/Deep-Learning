{
 "cells": [
  {
   "cell_type": "markdown",
   "id": "c9e60150-ccdc-42db-9ba7-26de11fa51c3",
   "metadata": {},
   "source": [
    "# 吴恩达深度学习课程作业L1W2HW1=numpy入门\n",
    "\n",
    "## 参考\n",
    "\n",
    "1. [视频链接](https://mooc.study.163.com/university/deeplearning_ai#/c)\n",
    "2. [作业链接](https://www.heywhale.com/mw/project/5dd236a800b0b900365eca9b)"
   ]
  },
  {
   "cell_type": "markdown",
   "id": "e1208569-c3a2-4ea2-8025-b84affec2b87",
   "metadata": {},
   "source": [
    "## Numpy基础\n",
    "\n",
    "### 1-使用numpy构建基本函数\n",
    "\n",
    "#### 1-1 sigmoid函数和np.exp()\n",
    "\n",
    "* sigmoid函数公式\n",
    "\n",
    "$$\n",
    "\\sigma(x) = \\frac{1}{1+exp(-x)}\n",
    "$$\n",
    "\n",
    "* 为什么np.exp()比math.exp()更可取？\n",
    "    1. 深度学习中主要使用的是矩阵和向量，因此numpy更为实用\n",
    "    2. math.exp()只适用于输入是实数"
   ]
  },
  {
   "cell_type": "code",
   "execution_count": 1,
   "id": "263f99ed-b49a-4bd8-8a70-8b0f5be06c54",
   "metadata": {},
   "outputs": [],
   "source": [
    "import math\n",
    "\n",
    "def func_basic_sigmoid(x):\n",
    "    \"\"\"\n",
    "    使用math.exp构建sigmoid函数\n",
    "    :param x: a scaler\n",
    "    :return sigmoid(x)\n",
    "    \"\"\"\n",
    "    return 1 / (1 + math.exp(-x))"
   ]
  },
  {
   "cell_type": "code",
   "execution_count": 2,
   "id": "c54c1e5c-d880-451f-a6eb-b57124fe0b1e",
   "metadata": {},
   "outputs": [
    {
     "data": {
      "text/plain": [
       "0.9525741268224334"
      ]
     },
     "execution_count": 2,
     "metadata": {},
     "output_type": "execute_result"
    }
   ],
   "source": [
    "func_basic_sigmoid(3)"
   ]
  },
  {
   "cell_type": "code",
   "execution_count": 3,
   "id": "e5830307-f7b7-409e-b715-79e10102d790",
   "metadata": {},
   "outputs": [],
   "source": [
    "# func_basic_sigmoid([1,2,3])"
   ]
  },
  {
   "cell_type": "code",
   "execution_count": 4,
   "id": "52ab8bf2-331b-43dc-912e-a7a0604eb578",
   "metadata": {},
   "outputs": [
    {
     "data": {
      "text/plain": [
       "array([ 2.71828183,  7.3890561 , 20.08553692])"
      ]
     },
     "execution_count": 4,
     "metadata": {},
     "output_type": "execute_result"
    }
   ],
   "source": [
    "import numpy as np\n",
    "\n",
    "x = np.array([1,2,3])\n",
    "np.exp(x)"
   ]
  },
  {
   "cell_type": "code",
   "execution_count": 5,
   "id": "1d058651-7f69-4bc1-a461-6089a15c20a6",
   "metadata": {},
   "outputs": [],
   "source": [
    "import numpy as np\n",
    "\n",
    "def func_numpy_sigmoid(x):\n",
    "    \"\"\"\n",
    "    使用np.exp构建sigmoid函数\n",
    "    :param x: a scaler or numpy array of any size\n",
    "    :return sigmoid(x)\n",
    "    \"\"\"\n",
    "    return 1 / (1 + np.exp(-x))"
   ]
  },
  {
   "cell_type": "code",
   "execution_count": 6,
   "id": "7d83be2d-a32c-4a70-880a-3675f7826ad6",
   "metadata": {},
   "outputs": [
    {
     "data": {
      "text/plain": [
       "array([0.73105858, 0.88079708, 0.95257413])"
      ]
     },
     "execution_count": 6,
     "metadata": {},
     "output_type": "execute_result"
    }
   ],
   "source": [
    "x = np.array([1,2,3])\n",
    "func_numpy_sigmoid(x)"
   ]
  },
  {
   "cell_type": "markdown",
   "id": "54f395fe-31f7-467e-b88b-19fedc760de0",
   "metadata": {},
   "source": [
    "#### 1-2 simoid函数的梯度\n",
    "\n",
    "* 梯度求解公式\n",
    "\n",
    "$$\n",
    "\\sigma^{'}(x) = \\sigma(x)(1-\\sigma(x))\n",
    "$$"
   ]
  },
  {
   "cell_type": "code",
   "execution_count": 7,
   "id": "11ecf83d-2316-4936-875e-992784055349",
   "metadata": {},
   "outputs": [],
   "source": [
    "def func_numpy_sigmoid_derivative(x):\n",
    "    \"\"\"\n",
    "    计算sigmoid函数在x处的梯度\n",
    "    :param x: a scaler or numpy array of any size\n",
    "    :return 梯度\n",
    "    \"\"\"\n",
    "    s = func_numpy_sigmoid(x)\n",
    "    return s * (1 - s)"
   ]
  },
  {
   "cell_type": "code",
   "execution_count": 8,
   "id": "db2a2a79-8d25-4062-a80e-affbe1cb93a7",
   "metadata": {},
   "outputs": [
    {
     "data": {
      "text/plain": [
       "array([0.25      , 0.19661193, 0.10499359, 0.04517666, 0.        ])"
      ]
     },
     "execution_count": 8,
     "metadata": {},
     "output_type": "execute_result"
    }
   ],
   "source": [
    "x = np.array([0,1,2,3,100])\n",
    "func_numpy_sigmoid_derivative(x)"
   ]
  },
  {
   "cell_type": "markdown",
   "id": "068d90eb-c63d-4d1b-a0c3-a39665614b5c",
   "metadata": {},
   "source": [
    "#### 1-3重塑数组\n",
    "\n",
    "* np.shape: 获取矩阵或者向量的维度\n",
    "* np.reshape(): 将矩阵或者向量重塑成其他shape\n",
    "* 例如实现image2vector()，将输入(length, height, depth)的3D数组输入，转换成(length*height*depth, 1)的1D数组"
   ]
  },
  {
   "cell_type": "code",
   "execution_count": 9,
   "id": "f47494dd-53f1-414c-ade9-bc6bab3175a0",
   "metadata": {},
   "outputs": [],
   "source": [
    "def func_image2vector(image):\n",
    "    \"\"\"\n",
    "    图像输入转换成vector\n",
    "    :param image: a numpy array of shape (length, height, depth)\n",
    "    :return v: a vector of shape (length*height*depth, 1)\n",
    "    \"\"\"\n",
    "    return image.reshape(image.shape[0] * image.shape[1] * image.shape[2], 1)"
   ]
  },
  {
   "cell_type": "code",
   "execution_count": 10,
   "id": "ab061c61-a553-43a4-b686-9444ed0a243d",
   "metadata": {},
   "outputs": [
    {
     "data": {
      "text/plain": [
       "(3, 3, 2)"
      ]
     },
     "execution_count": 10,
     "metadata": {},
     "output_type": "execute_result"
    }
   ],
   "source": [
    "image = np.array([[[ 0.67826139,  0.29380381],\n",
    "                    [ 0.90714982,  0.52835647],\n",
    "                    [ 0.4215251 ,  0.45017551]],\n",
    "\n",
    "                   [[ 0.92814219,  0.96677647],\n",
    "                    [ 0.85304703,  0.52351845],\n",
    "                    [ 0.19981397,  0.27417313]],\n",
    "\n",
    "                   [[ 0.60659855,  0.00533165],\n",
    "                    [ 0.10820313,  0.49978937],\n",
    "                    [ 0.34144279,  0.94630077]]])\n",
    "image.shape"
   ]
  },
  {
   "cell_type": "code",
   "execution_count": 11,
   "id": "76576b88-7c1b-453e-9fa4-cf32a3fe6083",
   "metadata": {},
   "outputs": [
    {
     "data": {
      "text/plain": [
       "(18, 1)"
      ]
     },
     "execution_count": 11,
     "metadata": {},
     "output_type": "execute_result"
    }
   ],
   "source": [
    "v = func_image2vector(image)\n",
    "v.shape"
   ]
  },
  {
   "cell_type": "code",
   "execution_count": 12,
   "id": "6eb0148f-fe1f-4c09-bb4a-5ff33228cfd7",
   "metadata": {},
   "outputs": [
    {
     "data": {
      "text/plain": [
       "array([[0.67826139],\n",
       "       [0.29380381],\n",
       "       [0.90714982],\n",
       "       [0.52835647],\n",
       "       [0.4215251 ],\n",
       "       [0.45017551],\n",
       "       [0.92814219],\n",
       "       [0.96677647],\n",
       "       [0.85304703],\n",
       "       [0.52351845],\n",
       "       [0.19981397],\n",
       "       [0.27417313],\n",
       "       [0.60659855],\n",
       "       [0.00533165],\n",
       "       [0.10820313],\n",
       "       [0.49978937],\n",
       "       [0.34144279],\n",
       "       [0.94630077]])"
      ]
     },
     "execution_count": 12,
     "metadata": {},
     "output_type": "execute_result"
    }
   ],
   "source": [
    "v"
   ]
  },
  {
   "cell_type": "markdown",
   "id": "c1efdb92-791d-4867-afd6-1d9c1d350906",
   "metadata": {},
   "source": [
    "#### 1-4 行标准化\n",
    "\n",
    "* 为什么标准化？\n",
    "    1. 数据归一化后，梯度下降的收敛速度更快，通常会表现出更好的效果\n",
    "* 练习：构建normalize_rows()函数来标准化矩阵的行"
   ]
  },
  {
   "cell_type": "code",
   "execution_count": 13,
   "id": "b5526582-7083-469c-93a2-618e2e24ebdd",
   "metadata": {},
   "outputs": [],
   "source": [
    "def func_normalize_rows(x):\n",
    "    \"\"\"\n",
    "    行标准化\n",
    "    :param: x: a numpy matrix of shape (n, m)\n",
    "    :return x: 行标准化后的矩阵\n",
    "    \"\"\"\n",
    "    x_norm = np.linalg.norm(x, axis=1, ord=2, keepdims=True)  # Matrix or vector norm\n",
    "    print(x_norm, x_norm.shape)\n",
    "    \n",
    "    return x / x_norm"
   ]
  },
  {
   "cell_type": "code",
   "execution_count": 14,
   "id": "a32f2ec8-da74-44ed-b1a6-67d646552dac",
   "metadata": {},
   "outputs": [
    {
     "data": {
      "text/plain": [
       "array([[0, 3, 4],\n",
       "       [1, 6, 4]])"
      ]
     },
     "execution_count": 14,
     "metadata": {},
     "output_type": "execute_result"
    }
   ],
   "source": [
    "x = np.array([[0,3,4], \n",
    "              [1,6,4]])\n",
    "x"
   ]
  },
  {
   "cell_type": "code",
   "execution_count": 15,
   "id": "86776f8c-e8a4-433b-b3c7-a742e9e3e62b",
   "metadata": {},
   "outputs": [
    {
     "name": "stdout",
     "output_type": "stream",
     "text": [
      "[[5.        ]\n",
      " [7.28010989]] (2, 1)\n"
     ]
    },
    {
     "data": {
      "text/plain": [
       "array([[0.        , 0.6       , 0.8       ],\n",
       "       [0.13736056, 0.82416338, 0.54944226]])"
      ]
     },
     "execution_count": 15,
     "metadata": {},
     "output_type": "execute_result"
    }
   ],
   "source": [
    "func_normalize_rows(x)"
   ]
  },
  {
   "cell_type": "markdown",
   "id": "e71b20ff-00a6-44f3-becb-258df2521f63",
   "metadata": {},
   "source": [
    "#### 1-5 broadcast and softmax\n",
    "\n",
    "* broadcast: 广播，数组+标量，会将标量自动broadcast成和数组一样维度再相加\n",
    "* softmax:\n",
    "\n",
    "$$\n",
    "softmax(x) = \\frac{exp(x_i)}{\\sum{exp(x_j)}}\n",
    "$$\n",
    "\n",
    "* 练习：实现softmax函数"
   ]
  },
  {
   "cell_type": "code",
   "execution_count": 16,
   "id": "b4b52b5a-fef5-4cc3-a50c-97b87d95f4c2",
   "metadata": {},
   "outputs": [],
   "source": [
    "def func_softmax_rows(x):\n",
    "    \"\"\"\n",
    "    softmax函数， 按行\n",
    "    :param x: a matrix of shape (n, m)\n",
    "    :return x: softmax过后的矩阵\n",
    "    \"\"\"\n",
    "    x_exp = np.exp(x)\n",
    "    x_row_sum = np.sum(x_exp, axis=1, keepdims=True)\n",
    "    return x_exp/ x_row_sum"
   ]
  },
  {
   "cell_type": "code",
   "execution_count": 17,
   "id": "c9d5e9fe-3428-42f0-b7d7-1fd64e60d61d",
   "metadata": {},
   "outputs": [
    {
     "data": {
      "text/plain": [
       "array([[9, 2, 5, 0, 0],\n",
       "       [7, 5, 0, 0, 0]])"
      ]
     },
     "execution_count": 17,
     "metadata": {},
     "output_type": "execute_result"
    }
   ],
   "source": [
    "x = np.array([\n",
    "    [9, 2, 5, 0, 0],\n",
    "    [7, 5, 0, 0 ,0]])\n",
    "x"
   ]
  },
  {
   "cell_type": "code",
   "execution_count": 18,
   "id": "33b07125-410f-4b94-86f8-92286f1e8a2f",
   "metadata": {},
   "outputs": [
    {
     "data": {
      "text/plain": [
       "array([[9.80897665e-01, 8.94462891e-04, 1.79657674e-02, 1.21052389e-04,\n",
       "        1.21052389e-04],\n",
       "       [8.78679856e-01, 1.18916387e-01, 8.01252314e-04, 8.01252314e-04,\n",
       "        8.01252314e-04]])"
      ]
     },
     "execution_count": 18,
     "metadata": {},
     "output_type": "execute_result"
    }
   ],
   "source": [
    "func_softmax_rows(x)"
   ]
  },
  {
   "cell_type": "markdown",
   "id": "062a1e27-fc4e-4426-ac6e-68f2170cb277",
   "metadata": {},
   "source": [
    "### 2-向量化\n",
    "\n",
    "* 为了确保代码的高效计算，我们将使用向量化\n",
    "* 例如：尝试区分点，外部，元素乘积之间的区别"
   ]
  },
  {
   "cell_type": "code",
   "execution_count": 19,
   "id": "94b35a77-3780-466c-b6a1-46b2b572a3bc",
   "metadata": {},
   "outputs": [],
   "source": [
    "import time\n",
    "\n",
    "x1 = [9, 2, 5, 0, 0, 7, 5, 0, 0, 0, 9, 2, 5, 0, 0]\n",
    "x2 = [9, 2, 2, 9, 0, 9, 2, 5, 0, 0, 9, 2, 5, 0, 0]"
   ]
  },
  {
   "cell_type": "markdown",
   "id": "47193c11-809a-4218-b613-e2068cdf682f",
   "metadata": {},
   "source": [
    "* 经典点乘-dot product"
   ]
  },
  {
   "cell_type": "code",
   "execution_count": 20,
   "id": "446a3d11-2292-4882-9329-9dd884758a67",
   "metadata": {},
   "outputs": [
    {
     "name": "stdout",
     "output_type": "stream",
     "text": [
      "278 0.1067500000004884\n"
     ]
    }
   ],
   "source": [
    "tic = time.process_time()\n",
    "dot = 0\n",
    "for i in range(len(x1)):\n",
    "    dot += x1[i]*x2[i]\n",
    "toc = time.process_time()\n",
    "print(dot, (toc-tic)*1000)"
   ]
  },
  {
   "cell_type": "code",
   "execution_count": 21,
   "id": "0a0ed4ca-7496-4ac2-a9c6-4817af2b030f",
   "metadata": {},
   "outputs": [
    {
     "name": "stdout",
     "output_type": "stream",
     "text": [
      "278 -4.070242000000057\n"
     ]
    }
   ],
   "source": [
    "tic = time.process_time()\n",
    "dot = np.dot(x1, x2)\n",
    "print(dot, (toc-tic)*1000)"
   ]
  },
  {
   "cell_type": "markdown",
   "id": "fd54c70d-b476-41ad-b9ff-e55c4b3b4937",
   "metadata": {},
   "source": [
    "* 经典外乘-outer product"
   ]
  },
  {
   "cell_type": "code",
   "execution_count": 22,
   "id": "48c798c7-b394-44d6-be6e-a61acc69533e",
   "metadata": {},
   "outputs": [
    {
     "name": "stdout",
     "output_type": "stream",
     "text": [
      "[[81. 18. 18. 81.  0. 81. 18. 45.  0.  0. 81. 18. 45.  0.  0.]\n",
      " [18.  4.  4. 18.  0. 18.  4. 10.  0.  0. 18.  4. 10.  0.  0.]\n",
      " [45. 10. 10. 45.  0. 45. 10. 25.  0.  0. 45. 10. 25.  0.  0.]\n",
      " [ 0.  0.  0.  0.  0.  0.  0.  0.  0.  0.  0.  0.  0.  0.  0.]\n",
      " [ 0.  0.  0.  0.  0.  0.  0.  0.  0.  0.  0.  0.  0.  0.  0.]\n",
      " [63. 14. 14. 63.  0. 63. 14. 35.  0.  0. 63. 14. 35.  0.  0.]\n",
      " [45. 10. 10. 45.  0. 45. 10. 25.  0.  0. 45. 10. 25.  0.  0.]\n",
      " [ 0.  0.  0.  0.  0.  0.  0.  0.  0.  0.  0.  0.  0.  0.  0.]\n",
      " [ 0.  0.  0.  0.  0.  0.  0.  0.  0.  0.  0.  0.  0.  0.  0.]\n",
      " [ 0.  0.  0.  0.  0.  0.  0.  0.  0.  0.  0.  0.  0.  0.  0.]\n",
      " [81. 18. 18. 81.  0. 81. 18. 45.  0.  0. 81. 18. 45.  0.  0.]\n",
      " [18.  4.  4. 18.  0. 18.  4. 10.  0.  0. 18.  4. 10.  0.  0.]\n",
      " [45. 10. 10. 45.  0. 45. 10. 25.  0.  0. 45. 10. 25.  0.  0.]\n",
      " [ 0.  0.  0.  0.  0.  0.  0.  0.  0.  0.  0.  0.  0.  0.  0.]\n",
      " [ 0.  0.  0.  0.  0.  0.  0.  0.  0.  0.  0.  0.  0.  0.  0.]] 0.21479900000009877\n"
     ]
    }
   ],
   "source": [
    "tic = time.process_time()\n",
    "outer = np.zeros((len(x1), len(x2)))\n",
    "for i in range(len(x1)):\n",
    "    for j in range(len(x2)):\n",
    "        outer[i, j] = x1[i] * x2[j]\n",
    "toc = time.process_time()\n",
    "print(outer, (toc-tic)*1000)"
   ]
  },
  {
   "cell_type": "code",
   "execution_count": 23,
   "id": "2ebe6dea-45ec-49a3-baa1-695d8ad78c98",
   "metadata": {},
   "outputs": [
    {
     "name": "stdout",
     "output_type": "stream",
     "text": [
      "[[81 18 18 81  0 81 18 45  0  0 81 18 45  0  0]\n",
      " [18  4  4 18  0 18  4 10  0  0 18  4 10  0  0]\n",
      " [45 10 10 45  0 45 10 25  0  0 45 10 25  0  0]\n",
      " [ 0  0  0  0  0  0  0  0  0  0  0  0  0  0  0]\n",
      " [ 0  0  0  0  0  0  0  0  0  0  0  0  0  0  0]\n",
      " [63 14 14 63  0 63 14 35  0  0 63 14 35  0  0]\n",
      " [45 10 10 45  0 45 10 25  0  0 45 10 25  0  0]\n",
      " [ 0  0  0  0  0  0  0  0  0  0  0  0  0  0  0]\n",
      " [ 0  0  0  0  0  0  0  0  0  0  0  0  0  0  0]\n",
      " [ 0  0  0  0  0  0  0  0  0  0  0  0  0  0  0]\n",
      " [81 18 18 81  0 81 18 45  0  0 81 18 45  0  0]\n",
      " [18  4  4 18  0 18  4 10  0  0 18  4 10  0  0]\n",
      " [45 10 10 45  0 45 10 25  0  0 45 10 25  0  0]\n",
      " [ 0  0  0  0  0  0  0  0  0  0  0  0  0  0  0]\n",
      " [ 0  0  0  0  0  0  0  0  0  0  0  0  0  0  0]] -5.324081000000369\n"
     ]
    }
   ],
   "source": [
    "tic = time.process_time()\n",
    "outer = np.outer(x1, x2)\n",
    "print(outer, (toc-tic)*1000)"
   ]
  },
  {
   "cell_type": "markdown",
   "id": "27d9191e-2821-4b33-be9a-6caf1b05476b",
   "metadata": {},
   "source": [
    "* 元素相乘-elementwise product"
   ]
  },
  {
   "cell_type": "code",
   "execution_count": 24,
   "id": "71584a83-e178-418f-8632-7414ce6ab6d6",
   "metadata": {},
   "outputs": [
    {
     "name": "stdout",
     "output_type": "stream",
     "text": [
      "[81.  4. 10.  0.  0. 63. 10.  0.  0.  0. 81.  4. 25.  0.  0.] 0.122009000000034\n"
     ]
    }
   ],
   "source": [
    "tic = time.process_time()\n",
    "mul = np.zeros(len(x1))\n",
    "for i in range(len(x1)):\n",
    "    mul[i] = x1[i] * x2[i]\n",
    "toc = time.process_time()\n",
    "print(mul, (toc-tic)*1000)"
   ]
  },
  {
   "cell_type": "code",
   "execution_count": 25,
   "id": "19836db3-9ce0-4dd4-8431-98f328957229",
   "metadata": {},
   "outputs": [
    {
     "name": "stdout",
     "output_type": "stream",
     "text": [
      "[81  4 10  0  0 63 10  0  0  0 81  4 25  0  0] -3.995859999999851\n"
     ]
    }
   ],
   "source": [
    "tic = time.process_time()\n",
    "mul = np.multiply(x1, x2)\n",
    "print(mul, (toc-tic)*1000)"
   ]
  },
  {
   "cell_type": "markdown",
   "id": "64c7c7a6-72bc-4bff-b00a-32c2968fe4d0",
   "metadata": {},
   "source": [
    "* 矩阵相乘-general dot product"
   ]
  },
  {
   "cell_type": "code",
   "execution_count": 26,
   "id": "793be10e-18c3-4633-aed6-260e9f3a4a50",
   "metadata": {},
   "outputs": [
    {
     "name": "stdout",
     "output_type": "stream",
     "text": [
      "[23.51513471 26.17443232 12.03612207] 0.15905900000046103\n"
     ]
    }
   ],
   "source": [
    "np.random.seed(2030)\n",
    "W = np.random.rand(3, len(x1))\n",
    "tic = time.process_time()\n",
    "gdot = np.zeros(W.shape[0])\n",
    "for i in range(W.shape[0]):\n",
    "    for j in range(len(x1)):\n",
    "        gdot[i] += W[i, j]*x1[j]\n",
    "toc = time.process_time()\n",
    "print(gdot, (toc-tic)*1000)"
   ]
  },
  {
   "cell_type": "code",
   "execution_count": 27,
   "id": "07de88f1-d55b-4cf9-9f8a-1cc2d431131b",
   "metadata": {},
   "outputs": [
    {
     "name": "stdout",
     "output_type": "stream",
     "text": [
      "[23.51513471 26.17443232 12.03612207] -4.445438000000301\n"
     ]
    }
   ],
   "source": [
    "tic = time.process_time()\n",
    "gdot = np.dot(W, x1)\n",
    "print(gdot, (toc-tic)*1000)"
   ]
  },
  {
   "cell_type": "markdown",
   "id": "86cedb13-a599-4841-b908-51af6b2e110e",
   "metadata": {},
   "source": [
    "#### 2-1 实现l1和l2损失函数\n",
    "\n",
    "* 向量化版本"
   ]
  },
  {
   "cell_type": "code",
   "execution_count": 28,
   "id": "a6a307b4-7922-4929-b6e2-c94df0826af6",
   "metadata": {},
   "outputs": [],
   "source": [
    "def func_l1_l2(y_hat, y):\n",
    "    \"\"\"\n",
    "    l1损失函数\n",
    "    :param y_hat: 预测值\n",
    "    :param y: 实际值\n",
    "    return l1_loss, l2_loss:\n",
    "    \"\"\"\n",
    "    return np.sum(np.abs(y-y_hat)), np.dot((y-y_hat), (y-y_hat).T)"
   ]
  },
  {
   "cell_type": "code",
   "execution_count": 29,
   "id": "8499dbfe-d097-4503-ac98-92a5b1331c61",
   "metadata": {},
   "outputs": [
    {
     "data": {
      "text/plain": [
       "(1.1, 0.43)"
      ]
     },
     "execution_count": 29,
     "metadata": {},
     "output_type": "execute_result"
    }
   ],
   "source": [
    "y_hat = np.array([.9, 0.2, 0.1, .4, .9])\n",
    "y = np.array([1, 0, 0, 1, 1])\n",
    "\n",
    "func_l1_l2(y_hat, y)"
   ]
  },
  {
   "cell_type": "markdown",
   "id": "d45fa596-8a4a-4448-b43a-3c8c351f6a73",
   "metadata": {},
   "source": [
    "# 吴恩达深度学习课程作业L1W2HW2=神经网络实现逻辑回归\n",
    "\n",
    "## 参考\n",
    "\n",
    "1. [视频链接](https://mooc.study.163.com/university/deeplearning_ai#/c)\n",
    "2. [作业链接](https://www.heywhale.com/mw/project/5dd23dbf00b0b900365ecef1)"
   ]
  },
  {
   "cell_type": "markdown",
   "id": "485fce03-de15-481a-a746-1157789eb493",
   "metadata": {},
   "source": [
    "## 神经网络实现逻辑回归\n",
    "\n",
    "* 建立学习算法的一般步骤\n",
    "    1. 初始化参数\n",
    "    2. 计算损失函数及梯度\n",
    "    3. 使用优化算法（梯度下降）"
   ]
  },
  {
   "cell_type": "markdown",
   "id": "7ef17419-47d9-4777-a6b8-83e08bc42cb8",
   "metadata": {},
   "source": [
    "### 1-导入模块"
   ]
  },
  {
   "cell_type": "code",
   "execution_count": 30,
   "id": "9fff9466-32fe-4c1c-9c2e-fdc85f93e42b",
   "metadata": {},
   "outputs": [],
   "source": [
    "import numpy as np  # python科学计算的基本包\n",
    "import matplotlib.pyplot as plt  # python图形库\n",
    "import h5py  # 处理存储为h5文件格式的数据集\n",
    "import scipy  # python算法库和数学工具包\n",
    "from PIL import Image  # 图像处理库\n",
    "from scipy import ndimage  # 图像处理\n",
    "# from lr_utils import load_dataset\n",
    "\n",
    "%matplotlib inline"
   ]
  },
  {
   "cell_type": "code",
   "execution_count": 31,
   "id": "32e2c278-2fc0-472f-b3cf-d151002ded21",
   "metadata": {},
   "outputs": [],
   "source": [
    "root_path = './深度学习之吴恩达课程作业1/'"
   ]
  },
  {
   "cell_type": "code",
   "execution_count": 32,
   "id": "2ed532e3-3bab-46ae-873e-f8a0a8de0731",
   "metadata": {},
   "outputs": [],
   "source": [
    "def func_load_dataset():\n",
    "    \"\"\"\n",
    "    from lr_utils import load_dataset\n",
    "    :return train_set_x_orig, train_set_y_orig, test_set_x_orig, test_set_y_orig, classes\n",
    "    \"\"\"\n",
    "    train_dataset = h5py.File(root_path + 'train_catvnoncat.h5', \"r\")\n",
    "    train_set_x_orig = np.array(train_dataset[\"train_set_x\"][:]) # your train set features\n",
    "    train_set_y_orig = np.array(train_dataset[\"train_set_y\"][:]) # your train set labels\n",
    "    \n",
    "    test_dataset = h5py.File(root_path + 'test_catvnoncat.h5', \"r\")\n",
    "    test_set_x_orig = np.array(test_dataset[\"test_set_x\"][:]) # your test set features\n",
    "    test_set_y_orig = np.array(test_dataset[\"test_set_y\"][:]) # your test set labels\n",
    "    \n",
    "    classes = np.array(test_dataset[\"list_classes\"][:]) # the list of classes\n",
    "    \n",
    "    train_set_y_orig = train_set_y_orig.reshape((1, train_set_y_orig.shape[0]))\n",
    "    test_set_y_orig = test_set_y_orig.reshape((1, test_set_y_orig.shape[0]))\n",
    "    \n",
    "    return train_set_x_orig, train_set_y_orig, test_set_x_orig, test_set_y_orig, classes"
   ]
  },
  {
   "cell_type": "markdown",
   "id": "0a433a81-c8ce-4b05-985f-c69ff14aab40",
   "metadata": {},
   "source": [
    "### 2-问题描述\n",
    "\n",
    "* 问题说明：\n",
    "    1. label为cat(y=1)或非cat(y=0)的图像集\n",
    "    2. 图像维度为(length, height, 3)\n",
    "    3. 构建一个简单的图像识别算法，对图片进行分类\n",
    "\n",
    "* 数据EDA\n",
    "    1. 深度学习中许多报错都来自于矩阵/向量尺寸不匹配，如果可以保持他们不变，则可以消除很多错误\n",
    "    2. 机器学习常见的数据预处理是对数据集进行居中和标准化，即减去均值除以标准差。但是图片数据集只需要将每一行除以255，效果差不多"
   ]
  },
  {
   "cell_type": "code",
   "execution_count": 33,
   "id": "77f8a5d0-ae7a-424a-a3cd-80f1a562a346",
   "metadata": {},
   "outputs": [],
   "source": [
    "train_set_x_orig, train_set_y_orig, test_set_x_orig, test_set_y_orig, classes = func_load_dataset()"
   ]
  },
  {
   "cell_type": "code",
   "execution_count": 34,
   "id": "16d8a358-54a8-4081-a793-2bf85a51d707",
   "metadata": {},
   "outputs": [
    {
     "name": "stdout",
     "output_type": "stream",
     "text": [
      "(209, 64, 64, 3)\n",
      "(50, 64, 64, 3)\n",
      "(1, 209)\n",
      "(1, 50)\n"
     ]
    }
   ],
   "source": [
    "print(train_set_x_orig.shape)\n",
    "print(test_set_x_orig.shape)\n",
    "print(train_set_y_orig.shape)\n",
    "print(test_set_y_orig.shape)"
   ]
  },
  {
   "cell_type": "code",
   "execution_count": 35,
   "id": "adbf1179-b2b4-4183-9425-2d9454cf2265",
   "metadata": {},
   "outputs": [
    {
     "name": "stdout",
     "output_type": "stream",
     "text": [
      "y=[0] it is a non-cat\n"
     ]
    },
    {
     "data": {
      "image/png": "[encoded data removed]",
      "text/plain": [
       "<Figure size 432x288 with 1 Axes>"
      ]
     },
     "metadata": {
      "needs_background": "light"
     },
     "output_type": "display_data"
    }
   ],
   "source": [
    "index = 5\n",
    "plt.imshow(train_set_x_orig[index])\n",
    "print('y=' + str(train_set_y_orig[:, index]) + ' it is a ' + classes[np.squeeze(train_set_y_orig[:, index])].decode('utf-8'))"
   ]
  },
  {
   "cell_type": "markdown",
   "id": "92ba0c2b-5259-45e0-9b14-19ae4f42b7fb",
   "metadata": {},
   "source": [
    "* 重塑数据集，将大小(n, length, height, 3)的重塑为(length\\*height\\*3, n)"
   ]
  },
  {
   "cell_type": "code",
   "execution_count": 36,
   "id": "7f1cab05-fabd-47a3-bdf0-7f0445a319a7",
   "metadata": {},
   "outputs": [
    {
     "name": "stdout",
     "output_type": "stream",
     "text": [
      "(12288, 209)\n",
      "(12288, 50)\n"
     ]
    }
   ],
   "source": [
    "train_set_x_flatten = train_set_x_orig.reshape(train_set_x_orig.shape[0], -1).T\n",
    "test_set_x_flatten = test_set_x_orig.reshape(test_set_x_orig.shape[0], -1).T\n",
    "\n",
    "print(train_set_x_flatten.shape)\n",
    "print(test_set_x_flatten.shape)"
   ]
  },
  {
   "cell_type": "code",
   "execution_count": 37,
   "id": "6d76fcc7-7bc5-499e-a70c-095bac6ab907",
   "metadata": {},
   "outputs": [
    {
     "data": {
      "text/plain": [
       "array([17, 31, 56, 22, 33], dtype=uint8)"
      ]
     },
     "execution_count": 37,
     "metadata": {},
     "output_type": "execute_result"
    }
   ],
   "source": [
    "train_set_x_flatten[:5, 0]"
   ]
  },
  {
   "cell_type": "markdown",
   "id": "7f76ab3f-b035-43d9-99e1-96c20e187e78",
   "metadata": {},
   "source": [
    "* 数据预处理"
   ]
  },
  {
   "cell_type": "code",
   "execution_count": 38,
   "id": "45dd0694-5980-4068-9de0-30d7c83e2c27",
   "metadata": {},
   "outputs": [],
   "source": [
    "train_set_x = train_set_x_flatten / 255.\n",
    "test_set_x = test_set_x_flatten / 255."
   ]
  },
  {
   "cell_type": "code",
   "execution_count": 39,
   "id": "a522553b-c5bf-44ca-be37-7372b2ad5bfe",
   "metadata": {},
   "outputs": [
    {
     "data": {
      "text/plain": [
       "array([0.06666667, 0.12156863, 0.21960784, 0.08627451, 0.12941176])"
      ]
     },
     "execution_count": 39,
     "metadata": {},
     "output_type": "execute_result"
    }
   ],
   "source": [
    "train_set_x[:5, 0]"
   ]
  },
  {
   "cell_type": "markdown",
   "id": "821b0f3f-1e9b-4492-8923-28adcc83faa5",
   "metadata": {},
   "source": [
    "### 3-学习算法的一般架构\n",
    "\n",
    "* 逻辑回归实际是一个简单的神经网络，如下图\n",
    "\n",
    "![./L1W2/LogReg.png](./深度学习之吴恩达课程作业1/LogReg_network.png)\n",
    "\n",
    "* 算法的数学表达式\n",
    "\n",
    "$$\n",
    "z^{(i)} = w^Tx^{(i)}+b \\\\\n",
    "\\hat{y}^{(i)} = a^{(i)} = \\sigma(z^{(i)})  \\\\\n",
    "\\mathcal{L}(a^{(i)}, y^{(i)}) =  - y^{(i)}  \\log(a^{(i)}) - (1-y^{(i)} )  \\log(1-a^{(i)})\n",
    "$$\n",
    "\n",
    "* 关键步骤\n",
    "    1. 初始化模型参数\n",
    "    2. 最小化损失函数来学习参数\n",
    "    3. 使用学习到的参数进行预测（在测试集上）\n",
    "    4. 分析结果并得出结论"
   ]
  },
  {
   "cell_type": "markdown",
   "id": "fef53901-f8ab-4282-bc27-ccea67349a89",
   "metadata": {},
   "source": [
    "### 4-构建算法的各个部分\n",
    "\n",
    "* 构建神经网络主要步骤：\n",
    "    1. 定义模型架构\n",
    "    2. 初始化模型参数\n",
    "    3. 循环：\n",
    "        1. 计算当前损失（正向传播）\n",
    "        2. 计算当前梯度（反向传播）\n",
    "        3. 更新参数（梯度下降）\n",
    "        "
   ]
  },
  {
   "cell_type": "markdown",
   "id": "47911016-9fd3-4382-a1f8-134d8d21d886",
   "metadata": {},
   "source": [
    "#### 4-1 辅助函数=sigmoid"
   ]
  },
  {
   "cell_type": "code",
   "execution_count": 40,
   "id": "f0b2be40-5c4b-496a-b282-8be13e450d03",
   "metadata": {},
   "outputs": [],
   "source": [
    "def func_numpy_sigmoid(x):\n",
    "    \"\"\"\n",
    "    sigmoid函数\n",
    "    :param x: a scalar or numpy array of any size\n",
    "    :return s: sigmoid(x)\n",
    "    \"\"\"\n",
    "    return 1 / (1 + np.exp(-x))"
   ]
  },
  {
   "cell_type": "code",
   "execution_count": 41,
   "id": "4dcb6c0d-50eb-48de-ab42-83e1f33f57cf",
   "metadata": {},
   "outputs": [
    {
     "data": {
      "text/plain": [
       "array([0.5       , 0.88079708])"
      ]
     },
     "execution_count": 41,
     "metadata": {},
     "output_type": "execute_result"
    }
   ],
   "source": [
    "func_numpy_sigmoid(np.array([0, 2]))"
   ]
  },
  {
   "cell_type": "markdown",
   "id": "66171976-c016-47d9-950c-64e09d3c254f",
   "metadata": {},
   "source": [
    "#### 4-2 初始化参数\n",
    "\n",
    "* 将w初始化为0的向量"
   ]
  },
  {
   "cell_type": "code",
   "execution_count": 42,
   "id": "eba7b639-fca1-4601-9937-0508f2375aef",
   "metadata": {},
   "outputs": [],
   "source": [
    "def func_initial_parameters(dim):\n",
    "    \"\"\"\n",
    "    This function creates a vector of zeros of shape (dim, 1) for w and initializes b to 0.\n",
    "    :param dim: w参数的维度\n",
    "    :return w, b\n",
    "    \"\"\"\n",
    "    w = np.zeros((dim, 1))\n",
    "    b = 0\n",
    "    \n",
    "    assert(w.shape==(dim, 1))\n",
    "    assert(isinstance(b, float) or isinstance(b, int))\n",
    "    return w, b"
   ]
  },
  {
   "cell_type": "code",
   "execution_count": 43,
   "id": "ba3a9727-5512-4fa3-ba63-5f1f2b982648",
   "metadata": {},
   "outputs": [
    {
     "name": "stdout",
     "output_type": "stream",
     "text": [
      "[[0.]\n",
      " [0.]] 0\n"
     ]
    }
   ],
   "source": [
    "w, b = func_initial_parameters(2)\n",
    "print(w, b)"
   ]
  },
  {
   "cell_type": "markdown",
   "id": "96cb8436-ffca-4ce9-8b7e-b5e4f979c3a3",
   "metadata": {},
   "source": [
    "#### 4-3 前向，后向传播\n",
    "\n",
    "* 前向传播：\n",
    "\n",
    "$$\n",
    "A = \\sigma(W^TX+b)=(a^{(0)},...,a^{(m)})  \\\\\n",
    "J = -\\frac{1}{m}\\sum_{i=1}^{m}y^{(i)}\\log(a^{(i)})+(1-y^{(i)})\\log(1-a^{(i)})\n",
    "$$\n",
    "\n",
    "* 后向传播\n",
    "\n",
    "$$\n",
    "\\frac{\\partial J}{\\partial w} = \\frac{1}{m}X(A-Y)^T  \\\\\n",
    "\\frac{\\partial J}{\\partial b} = \\frac{1}{m} \\sum_{i=1}^m (a^{(i)}-y^{(i)})\n",
    "$$"
   ]
  },
  {
   "cell_type": "code",
   "execution_count": 44,
   "id": "607f6651-9275-4060-80c7-d2203b601ea1",
   "metadata": {},
   "outputs": [],
   "source": [
    "def func_propagate(w, b, X, Y):\n",
    "    \"\"\"\n",
    "    前向后向传播\n",
    "    :param w: weights of size(length*height*3, 1)\n",
    "    :param b: bias\n",
    "    :param X: data of size(length*height*3, num_samples)\n",
    "    :param Y: target of size(1, num_samples)\n",
    "    \"\"\"\n",
    "    m = X.shape[1]\n",
    "    \n",
    "    # forward\n",
    "    A = func_numpy_sigmoid(np.dot(w.T, X) + b)\n",
    "#     print('A: \\n', A, '\\n', A.shape)\n",
    "#     J = -1 / m * np.sum(Y * np.log(A) + (1 - Y) * np.log(1 - A))\n",
    "    J = -1 / m * np.sum(np.multiply(Y, np.log(A)) + np.multiply((1 - Y), np.log(1 - A)))\n",
    "#     print('J: \\n', J, '\\n', J.shape)\n",
    "    \n",
    "    # backward\n",
    "    dw = 1 / m * np.dot(X, (A-Y).T)\n",
    "    db = 1 / m * np.sum(A-Y)\n",
    "    \n",
    "    assert(dw.shape == w.shape)\n",
    "    assert(db.dtype == float)\n",
    "    J = np.squeeze(J)\n",
    "    assert(J.shape == ())\n",
    "    \n",
    "    grads = {\n",
    "        'dw': dw,\n",
    "        'db': db\n",
    "    }\n",
    "    return grads, J"
   ]
  },
  {
   "cell_type": "code",
   "execution_count": 45,
   "id": "f9020777-ab0a-44c2-b1e2-c7aa00c4e6af",
   "metadata": {},
   "outputs": [
    {
     "name": "stdout",
     "output_type": "stream",
     "text": [
      "(2, 1) 2 (2, 2) (1, 2)\n"
     ]
    }
   ],
   "source": [
    "w, b, X, Y = np.array([[1],[2]]), 2, np.array([[1,2],[3,4]]), np.array([[1,0]])\n",
    "print(w.shape, b, X.shape, Y.shape)"
   ]
  },
  {
   "cell_type": "code",
   "execution_count": 46,
   "id": "a8f162d4-c029-4b2f-948f-dd8c77a8b04c",
   "metadata": {},
   "outputs": [],
   "source": [
    "grads, cost = func_propagate(w, b, X, Y)"
   ]
  },
  {
   "cell_type": "code",
   "execution_count": 47,
   "id": "7e291a1f-fb8b-4bff-93d4-42f20f96bbb0",
   "metadata": {},
   "outputs": [
    {
     "name": "stdout",
     "output_type": "stream",
     "text": [
      "dw = [[0.99993216]\n",
      " [1.99980262]]\n",
      "db = 0.49993523062470574\n",
      "cost = 6.000064773192205\n"
     ]
    }
   ],
   "source": [
    "print (\"dw = \" + str(grads[\"dw\"]))\n",
    "print (\"db = \" + str(grads[\"db\"]))\n",
    "print (\"cost = \" + str(cost))"
   ]
  },
  {
   "cell_type": "markdown",
   "id": "ec667bc7-e788-4ba3-a0f6-1099aa2668ea",
   "metadata": {},
   "source": [
    "#### 4-4 优化函数\n",
    "\n",
    "* 最小化J来学习w,b\n",
    "* 参数的更新规则：\n",
    "\n",
    "$$\n",
    "\\theta = \\theta - \\alpha * d\\theta\n",
    "$$"
   ]
  },
  {
   "cell_type": "code",
   "execution_count": 48,
   "id": "ad72b752-142d-4976-8543-036186431cb2",
   "metadata": {},
   "outputs": [],
   "source": [
    "def func_optimizer(w, b, X, Y, epochs, lr, print_cost=False):\n",
    "    \"\"\"\n",
    "    优化函数，求解w,b\n",
    "    :param w: (length*height*3, 1)\n",
    "    :param b:\n",
    "    :param X: (length*height*3, num_samples)\n",
    "    :param Y: (1, num_samples)\n",
    "    :param epochs: num_iterations\n",
    "    :param lr: learning_rate\n",
    "    :param print_cost: True to print the loss every 100 steps\n",
    "    :return params, grads, costs\n",
    "    \"\"\"\n",
    "    costs = []\n",
    "    for i in range(epochs):\n",
    "        grads, cost = func_propagate(w, b, X, Y)\n",
    "        \n",
    "        dw = grads['dw']\n",
    "        db = grads['db']\n",
    "        \n",
    "        w = w - lr * dw\n",
    "        b = b - lr * db\n",
    "        \n",
    "        if i % 100 == 0:\n",
    "            costs.append(cost)\n",
    "            if print_cost:\n",
    "                print('cost after epoch %i: %f' % (i, cost))\n",
    "    params = {\n",
    "        'w': w,\n",
    "        'b': b\n",
    "    }\n",
    "    grads = {\n",
    "        'dw': dw,\n",
    "        'db': db\n",
    "    }\n",
    "    return params, grads, costs"
   ]
  },
  {
   "cell_type": "code",
   "execution_count": 49,
   "id": "616e27f2-814f-41f3-a589-741ccb9fccc8",
   "metadata": {},
   "outputs": [
    {
     "name": "stdout",
     "output_type": "stream",
     "text": [
      "(2, 1) 2 (2, 2) (1, 2)\n"
     ]
    }
   ],
   "source": [
    "w, b, X, Y = np.array([[1],[2]]), 2, np.array([[1,2],[3,4]]), np.array([[1,0]])\n",
    "print(w.shape, b, X.shape, Y.shape)"
   ]
  },
  {
   "cell_type": "code",
   "execution_count": 50,
   "id": "5dc52843-bf18-402a-908a-d47b529cca0a",
   "metadata": {},
   "outputs": [
    {
     "name": "stdout",
     "output_type": "stream",
     "text": [
      "w= [[0.1124579 ]\n",
      " [0.23106775]]\n",
      "b= 1.5593049248448891\n",
      "dw= [[0.90158428]\n",
      " [1.76250842]]\n",
      "db= 0.4304620716786828\n",
      "[6.000064773192205]\n"
     ]
    }
   ],
   "source": [
    "params, grads, costs = func_optimizer(w, b, X, Y, epochs=100, lr=0.009, print_cost=False)\n",
    "\n",
    "print('w=', params['w'])\n",
    "print('b=', params['b'])\n",
    "print('dw=', grads['dw'])\n",
    "print('db=', grads['db'])\n",
    "print(costs)"
   ]
  },
  {
   "cell_type": "markdown",
   "id": "a53b55ad-3479-4376-9b7e-2f9d4cf306ba",
   "metadata": {},
   "source": [
    "* predict\n",
    "* 预测公式\n",
    "\n",
    "$$\n",
    "\\hat{Y} = A = \\sigma(w^TX + b)\n",
    "$$"
   ]
  },
  {
   "cell_type": "code",
   "execution_count": 51,
   "id": "abde4a94-f2a3-4209-8cc2-9dae3705fe57",
   "metadata": {},
   "outputs": [],
   "source": [
    "def func_predict(w, b, X):\n",
    "    \"\"\"\n",
    "    predict\n",
    "    :param w: (length*height*3, 1)\n",
    "    :param b:\n",
    "    :param X: (length*height*3, num_samples)\n",
    "    :return y_pred\n",
    "    \"\"\"\n",
    "    m = X.shape[1]\n",
    "#     y_pred = np.zeros((1, m))\n",
    "    w = w.reshape(X.shape[0], 1)\n",
    "    A = func_numpy_sigmoid(np.dot(w.T, X) + b)  # predict\n",
    "    \n",
    "    y_pred = [0 if A[0, i] <= 0.5 else 1 for i in range(A.shape[1])]\n",
    "    y_pred = np.expand_dims(y_pred, 0)\n",
    "    \n",
    "    \n",
    "    assert(y_pred.shape==(1, m))\n",
    "    return y_pred"
   ]
  },
  {
   "cell_type": "code",
   "execution_count": 52,
   "id": "472eb24c-774a-403a-acb1-2ea6ddc2dde7",
   "metadata": {},
   "outputs": [
    {
     "name": "stdout",
     "output_type": "stream",
     "text": [
      "y_pred= [[1 1]]\n"
     ]
    }
   ],
   "source": [
    "y_pred = func_predict(w, b, X)\n",
    "print('y_pred=', y_pred)"
   ]
  },
  {
   "cell_type": "markdown",
   "id": "825e178f-c602-411d-8ea7-edd2547c872d",
   "metadata": {},
   "source": [
    "#### 5-将所有功能合并到模型中"
   ]
  },
  {
   "cell_type": "code",
   "execution_count": 53,
   "id": "b0bbf6ef-de22-49b7-b61a-89106672ad89",
   "metadata": {},
   "outputs": [],
   "source": [
    "def func_model(x_train, y_train, x_test, y_test, epochs=2000, lr=0.5, print_cost=False):\n",
    "    \"\"\"\n",
    "    构建logistic regression\n",
    "    :param x_train:\n",
    "    :param y_train:\n",
    "    :param x_test:\n",
    "    :param y_test:\n",
    "    :param epochs:\n",
    "    :param lr:\n",
    "    :param print_cost:\n",
    "    :return d: dictionary containing information about the model.\n",
    "    \"\"\"\n",
    "    w, b = func_initial_parameters(x_train.shape[0])\n",
    "    \n",
    "    params, grads, costs = func_optimizer(w, b, x_train, y_train, epochs, lr, print_cost=print_cost)\n",
    "    \n",
    "    w = params['w']\n",
    "    b = params['b']\n",
    "    \n",
    "    y_pred_train = func_predict(w, b, x_train)\n",
    "    y_pred_test = func_predict(w, b, x_test)\n",
    "    \n",
    "    print('train acc: {} %'.format(100-np.mean(np.abs(y_pred_train - y_train))*100))\n",
    "    print('test acc: {} %'.format(100-np.mean(np.abs(y_pred_test - y_test))*100))\n",
    "    \n",
    "    d = {\n",
    "        'costs': costs,\n",
    "        'y_pred_train': y_pred_train,\n",
    "        'y_pred_test': y_pred_test,\n",
    "        'w': w,\n",
    "        'b': b,\n",
    "        'lr': lr,\n",
    "        'epochs': epochs\n",
    "    }\n",
    "    return d"
   ]
  },
  {
   "cell_type": "code",
   "execution_count": 54,
   "id": "5bc391b6-6269-486f-ac39-88612edb152e",
   "metadata": {},
   "outputs": [
    {
     "name": "stdout",
     "output_type": "stream",
     "text": [
      "cost after epoch 0: 0.693147\n",
      "cost after epoch 100: 0.584508\n",
      "cost after epoch 200: 0.466949\n",
      "cost after epoch 300: 0.376007\n",
      "cost after epoch 400: 0.331463\n",
      "cost after epoch 500: 0.303273\n",
      "cost after epoch 600: 0.279880\n",
      "cost after epoch 700: 0.260042\n",
      "cost after epoch 800: 0.242941\n",
      "cost after epoch 900: 0.228004\n",
      "cost after epoch 1000: 0.214820\n",
      "cost after epoch 1100: 0.203078\n",
      "cost after epoch 1200: 0.192544\n",
      "cost after epoch 1300: 0.183033\n",
      "cost after epoch 1400: 0.174399\n",
      "cost after epoch 1500: 0.166521\n",
      "cost after epoch 1600: 0.159305\n",
      "cost after epoch 1700: 0.152667\n",
      "cost after epoch 1800: 0.146542\n",
      "cost after epoch 1900: 0.140872\n",
      "train acc: 99.04306220095694 %\n",
      "test acc: 70.0 %\n"
     ]
    }
   ],
   "source": [
    "d = func_model(train_set_x, train_set_y_orig, test_set_x, test_set_y_orig, epochs=2000, lr=0.005, print_cost=True)"
   ]
  },
  {
   "cell_type": "markdown",
   "id": "7486e20e-83ad-43b1-822c-a0d0d548ff47",
   "metadata": {},
   "source": [
    "* 结果分析：\n",
    "    1. 训练acc接近100%，测试acc为70%\n",
    "    2. 该模型明显适合训练数据，有些过拟合\n",
    "* 使用下面代码可以查看预测结果"
   ]
  },
  {
   "cell_type": "code",
   "execution_count": 55,
   "id": "41becc82-e776-4002-969d-fa4fab02e5b0",
   "metadata": {},
   "outputs": [
    {
     "name": "stdout",
     "output_type": "stream",
     "text": [
      "y= 1 pred= 1\n"
     ]
    },
    {
     "data": {
      "image/png": "[encoded data removed]",
      "text/plain": [
       "<Figure size 432x288 with 1 Axes>"
      ]
     },
     "metadata": {
      "needs_background": "light"
     },
     "output_type": "display_data"
    }
   ],
   "source": [
    "index = 1\n",
    "plt.imshow(test_set_x[:, index].reshape(test_set_x_orig.shape[1], test_set_x_orig.shape[1], 3))\n",
    "print('y=', test_set_y_orig[0, index], 'pred=', d['y_pred_test'][0, index])"
   ]
  },
  {
   "cell_type": "markdown",
   "id": "a651d118-f520-440a-8fc9-02bef89c4145",
   "metadata": {},
   "source": [
    "* 绘制损失函数和梯度"
   ]
  },
  {
   "cell_type": "code",
   "execution_count": 56,
   "id": "8b6858ae-afc4-43cf-9ba8-6cdd2b9923c3",
   "metadata": {},
   "outputs": [
    {
     "data": {
      "image/png": "[encoded data removed]",
      "text/plain": [
       "<Figure size 432x288 with 1 Axes>"
      ]
     },
     "metadata": {
      "needs_background": "light"
     },
     "output_type": "display_data"
    }
   ],
   "source": [
    "costs = np.array(d['costs'])\n",
    "plt.plot(costs)\n",
    "plt.ylabel('cost')\n",
    "plt.xlabel('epochs')\n",
    "plt.title('lr='+str(d['lr']))\n",
    "plt.show()"
   ]
  },
  {
   "cell_type": "markdown",
   "id": "fbb607c9-8f5c-4826-9d37-74378a411cd8",
   "metadata": {},
   "source": [
    "#### 6-学习率的选择\n",
    "\n",
    "* lr决定我们更新参数的速度\n",
    "* 如果太大，可能会超出最佳值\n",
    "* 如果太小，可能需要更多的迭代才能收敛到最佳值"
   ]
  },
  {
   "cell_type": "code",
   "execution_count": 57,
   "id": "deee5614-9360-4138-97d5-8bced9de015f",
   "metadata": {},
   "outputs": [
    {
     "name": "stdout",
     "output_type": "stream",
     "text": [
      "lr= 0.01\n",
      "train acc: 99.52153110047847 %\n",
      "test acc: 68.0 %\n",
      "----------------------------------------------------\n",
      "lr= 0.001\n",
      "train acc: 88.99521531100478 %\n",
      "test acc: 64.0 %\n",
      "----------------------------------------------------\n",
      "lr= 0.0001\n",
      "train acc: 68.42105263157895 %\n",
      "test acc: 36.0 %\n",
      "----------------------------------------------------\n"
     ]
    },
    {
     "data": {
      "image/png": "[encoded data removed]",
      "text/plain": [
       "<Figure size 432x288 with 1 Axes>"
      ]
     },
     "metadata": {
      "needs_background": "light"
     },
     "output_type": "display_data"
    }
   ],
   "source": [
    "lr_list = [0.01, 0.001, 0.0001]\n",
    "models = {}\n",
    "for lr in lr_list:\n",
    "    print('lr=', lr)\n",
    "    models[str(lr)] = func_model(train_set_x, train_set_y_orig, test_set_x, test_set_y_orig, \n",
    "                                 epochs=1500, lr=lr, print_cost=False)\n",
    "    print('-'*52)\n",
    "\n",
    "for lr in lr_list:\n",
    "    plt.plot(np.array(models[str(lr)]['costs']), label=str(models[str(lr)]['lr']))\n",
    "\n",
    "plt.ylabel('cost')\n",
    "plt.xlabel('epochs')\n",
    "\n",
    "legend = plt.legend(loc='upper center', shadow=True)\n",
    "frame = legend.get_frame()\n",
    "frame.set_facecolor('0.90')\n",
    "plt.show()"
   ]
  },
  {
   "cell_type": "markdown",
   "id": "da8d62bd-922e-488d-af60-95927a2b4c10",
   "metadata": {},
   "source": [
    "* 分析\n",
    "    1. 不同的学习率带来不同损失\n",
    "    2. 学习率太大，损失上下波动，甚至可能会发散\n",
    "    3. 较低损失并不意味着模型效果好，当训练精度比测试精度高很多时，会发生过拟合情况\n",
    "* 深度学习中，通常建议\n",
    "    1. 选择好学习率\n",
    "    2. 如果过拟合，则使用其他方法减少过拟合"
   ]
  },
  {
   "cell_type": "markdown",
   "id": "fe0f705e-7892-4cb7-b139-58c100138c47",
   "metadata": {},
   "source": [
    "#### 7-预测自己的图像"
   ]
  },
  {
   "cell_type": "code",
   "execution_count": 58,
   "id": "083dce1c-6a2b-42a2-88df-d757f2b1037e",
   "metadata": {},
   "outputs": [
    {
     "data": {
      "text/plain": [
       "(1115, 1114, 3)"
      ]
     },
     "execution_count": 58,
     "metadata": {},
     "output_type": "execute_result"
    }
   ],
   "source": [
    "image_path = root_path + 'cat_in_iran.jpg'\n",
    "image = np.array(plt.imread(image_path))\n",
    "image.shape"
   ]
  },
  {
   "cell_type": "code",
   "execution_count": 59,
   "id": "a7c2c289-bd2e-4540-968d-291dcf252108",
   "metadata": {},
   "outputs": [
    {
     "data": {
      "text/plain": [
       "(12288, 1)"
      ]
     },
     "execution_count": 59,
     "metadata": {},
     "output_type": "execute_result"
    }
   ],
   "source": [
    "num_px = train_set_x_orig.shape[1]\n",
    "my_image = np.array(Image.fromarray(image).resize((num_px, num_px))).reshape((1, num_px*num_px*3)).T\n",
    "my_image.shape"
   ]
  },
  {
   "cell_type": "code",
   "execution_count": 60,
   "id": "ab51daa8-b323-4796-a730-2581ba1880f8",
   "metadata": {},
   "outputs": [
    {
     "data": {
      "text/plain": [
       "array([[1]])"
      ]
     },
     "execution_count": 60,
     "metadata": {},
     "output_type": "execute_result"
    }
   ],
   "source": [
    "my_pred_image = func_predict(d['w'], d['b'], my_image)\n",
    "my_pred_image"
   ]
  },
  {
   "cell_type": "code",
   "execution_count": 61,
   "id": "b00764c4-a925-462f-aba8-8131fa1aecf7",
   "metadata": {},
   "outputs": [
    {
     "data": {
      "text/plain": [
       "<matplotlib.image.AxesImage at 0x7ff1c7eb1c40>"
      ]
     },
     "execution_count": 61,
     "metadata": {},
     "output_type": "execute_result"
    },
    {
     "data": {
      "image/png": "[encoded data removed]",
      "text/plain": [
       "<Figure size 432x288 with 1 Axes>"
      ]
     },
     "metadata": {
      "needs_background": "light"
     },
     "output_type": "display_data"
    }
   ],
   "source": [
    "plt.imshow(image)"
   ]
  },
  {
   "cell_type": "code",
   "execution_count": 62,
   "id": "88dbc0b7-24d6-4d6d-98fd-caab2b893c26",
   "metadata": {},
   "outputs": [
    {
     "name": "stdout",
     "output_type": "stream",
     "text": [
      "y_pred= 1 , your algorithm predicts a \"cat\" picture.\n"
     ]
    }
   ],
   "source": [
    "print('y_pred=', np.squeeze(my_pred_image), \", your algorithm predicts a \\\"\" + classes[int(np.squeeze(my_pred_image)),].decode(\"utf-8\") +  \"\\\" picture.\")"
   ]
  },
  {
   "cell_type": "code",
   "execution_count": null,
   "id": "fb8756c8-c5f0-4100-a3e8-daf674ff15bb",
   "metadata": {},
   "outputs": [],
   "source": []
  }
 ],
 "metadata": {
  "kernelspec": {
   "display_name": "Python38",
   "language": "python",
   "name": "python38"
  },
  "language_info": {
   "codemirror_mode": {
    "name": "ipython",
    "version": 3
   },
   "file_extension": ".py",
   "mimetype": "text/x-python",
   "name": "python",
   "nbconvert_exporter": "python",
   "pygments_lexer": "ipython3",
   "version": "3.8.10"
  }
 },
 "nbformat": 4,
 "nbformat_minor": 5
}
